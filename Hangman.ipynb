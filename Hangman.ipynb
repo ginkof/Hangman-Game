{
  "cells": [
    {
      "cell_type": "markdown",
      "metadata": {
        "id": "view-in-github",
        "colab_type": "text"
      },
      "source": [
        "<a href=\"https://colab.research.google.com/github/ginkof/Hangman-Game/blob/main/Hangman.ipynb\" target=\"_parent\"><img src=\"https://colab.research.google.com/assets/colab-badge.svg\" alt=\"Open In Colab\"/></a>"
      ]
    },
    {
      "cell_type": "markdown",
      "id": "649cee80-bfe9-4cf7-955b-560a475b94d7",
      "metadata": {
        "id": "649cee80-bfe9-4cf7-955b-560a475b94d7"
      },
      "source": [
        "# Hangman game"
      ]
    },
    {
      "cell_type": "markdown",
      "id": "451fb977-2ab3-4c26-b7d6-dee486eef375",
      "metadata": {
        "id": "451fb977-2ab3-4c26-b7d6-dee486eef375"
      },
      "source": [
        "Hangman is a guessing game where the player(s) try to guess the word by suggesting a letters.  \n",
        "Player is allowed a certain number of mistakes.  \n",
        "The game starts with a word where all letters are replaced with a `-` so the only information available to a player is a number of letters in a word.  \n",
        "**Start**: `------`  \n",
        "For each correctly guessed letter, a position of the letter is revealed (if there are multiple positions for a same letter, they are all revealed.  \n",
        "**Correct**: `-E--E-`  \n",
        "For each wrongly guessed letter, number of allowed mistakes decreases by 1.  \n",
        "**Wrong**: 'Number of allowed mistakes is now 5'"
      ]
    },
    {
      "cell_type": "markdown",
      "id": "ba3d2b29-e8f8-43fd-91c4-ab89fb4a611b",
      "metadata": {
        "id": "ba3d2b29-e8f8-43fd-91c4-ab89fb4a611b"
      },
      "source": [
        "Name of the game comes from a drawing of a hanged stick figure. For every mistake a new element of a hanged figure is added.  \n",
        "If a player guesses a word before the last element of a figure is added, a player wins.  \n",
        "If a player doesn't guess a word before the last element of a figure is added, player loses."
      ]
    },
    {
      "cell_type": "markdown",
      "id": "1d2579aa-e600-4e7a-ba90-93e628749ce0",
      "metadata": {
        "tags": [],
        "id": "1d2579aa-e600-4e7a-ba90-93e628749ce0"
      },
      "source": [
        "**Here you can see a simulation of 3 different steps:**  \n",
        "Hidden word is: ------  \n",
        "==============================================================  \n",
        "Pick a letter:  \n",
        " S  \n",
        "Correct! There is a letter S in a secret word!  \n",
        "S-----  \n",
        "==============================================================  \n",
        "Pick a letter:  \n",
        " V  \n",
        "WRONG! Number of mistakes left: 5  \n",
        "  \n",
        "        ____________  \n",
        "         |  \n",
        "         O  \n",
        "==============================================================  \n",
        "Pick a letter:  \n",
        " L  \n",
        "WRONG! Number of mistakes left: 4  \n",
        "  \n",
        "        ____________  \n",
        "         |  \n",
        "         O  \n",
        "        /  \n",
        "==============================================================  \n",
        "Pick a letter:  "
      ]
    },
    {
      "cell_type": "markdown",
      "id": "94acc394-2211-4f74-bb29-ec5cea076fa4",
      "metadata": {
        "id": "94acc394-2211-4f74-bb29-ec5cea076fa4"
      },
      "source": [
        "### Hangman parts"
      ]
    },
    {
      "cell_type": "code",
      "execution_count": null,
      "id": "0fc7d9fd-0ba4-474f-8ae6-a7fd4b399b8e",
      "metadata": {
        "id": "0fc7d9fd-0ba4-474f-8ae6-a7fd4b399b8e"
      },
      "outputs": [],
      "source": [
        "hangman={0:'''\n",
        "        ____________\n",
        "         |''',\n",
        "        1:'''\n",
        "        ____________\n",
        "         |\n",
        "         O''',\n",
        "        2:'''\n",
        "        ____________\n",
        "         |\n",
        "         O\n",
        "        /''',\n",
        "        3:'''\n",
        "        ____________\n",
        "         |\n",
        "         O\n",
        "        / \\\\''',\n",
        "        4:'''\n",
        "        ____________\n",
        "         |\n",
        "         O\n",
        "        / \\\\\n",
        "         |''',\n",
        "        5:'''\n",
        "        ____________\n",
        "         |\n",
        "         O\n",
        "        / \\\\\n",
        "         |\n",
        "        /''',\n",
        "        6:'''\n",
        "        ____________\n",
        "         |\n",
        "         O\n",
        "        / \\\\\n",
        "         |\n",
        "        / \\\\ '''}"
      ]
    },
    {
      "cell_type": "markdown",
      "source": [
        "###Random words"
      ],
      "metadata": {
        "id": "iHqpNaihEu6r"
      },
      "id": "iHqpNaihEu6r"
    },
    {
      "cell_type": "code",
      "source": [
        "import random\n",
        "\n",
        "hangman_words = ['ABRACADABRA',\n",
        " 'BANANA',\n",
        " 'CARAVAN',\n",
        " 'DYNAMITE',\n",
        " 'ELEPHANT',\n",
        " 'FANTASTIC',\n",
        " 'GALAXY',\n",
        " 'HAPPINESS',\n",
        " 'INCREDIBLE',\n",
        " 'JUBILANT',\n",
        " 'KANGAROO',\n",
        " 'LAVENDER',\n",
        " 'MAGNIFICENT',\n",
        " 'NOSTALGIA',\n",
        " 'OCTOPUS',\n",
        " 'PARADISE',\n",
        " 'QUARANTINE',\n",
        " 'RESILIENCE',\n",
        " 'SPECTACULAR',\n",
        " 'TANGERINE',\n",
        " 'UNICORN',\n",
        " 'VICTORY',\n",
        " 'WATERFALL',\n",
        " 'XYLOPHONE',\n",
        " 'YELLOW',\n",
        " 'ZEBRA',\n",
        " 'AGGRESSIVE',\n",
        " 'BIRTHDAY',\n",
        " 'CANDIDATE',\n",
        " 'DANGEROUS',\n",
        " 'ELEGANCE',\n",
        " 'FASHION',\n",
        " 'GALLOP',\n",
        " 'HUMOROUS',\n",
        " 'INDIVIDUAL',\n",
        " 'JAZZ',\n",
        " 'KNOWLEDGE',\n",
        " 'LEGENDARY',\n",
        " 'MAGNETIC',\n",
        " 'NEIGHBOR',\n",
        " 'OUTSTANDING',\n",
        " 'PARTICULAR',\n",
        " 'QUICKSAND',\n",
        " 'RELATIONSHIP',\n",
        " 'SPECTATOR',\n",
        " 'TECHNOLOGY',\n",
        " 'UNBELIEVABLE',\n",
        " 'VIBRANT',\n",
        " 'WONDERFUL',\n",
        " 'XYLEM']\n"
      ],
      "metadata": {
        "id": "w6UwUCJyEZtx"
      },
      "id": "w6UwUCJyEZtx",
      "execution_count": null,
      "outputs": []
    },
    {
      "cell_type": "markdown",
      "source": [
        "### My code"
      ],
      "metadata": {
        "id": "-P_iffkqE0kd"
      },
      "id": "-P_iffkqE0kd"
    },
    {
      "cell_type": "code",
      "source": [
        "\n",
        "#I introduce a function to customize the output\n",
        "\n",
        "#Import some useful libraries\n",
        "import ipywidgets as widgets \n",
        "from IPython.display import display\n",
        "\n",
        "def colored_output(text, color, length):\n",
        "    b1 = widgets.Button(description=text)\n",
        "    b1.style.button_color = color\n",
        "    b1.layout.width = str(length) + 'px' \n",
        "    display(b1)\n",
        "\n",
        "#Pick up a random word from the previously defined hangman_words\n",
        "word = random.choice(hangman_words)\n",
        "hidden_word = '-'*len(word)\n",
        "mistake_count = 6\n",
        "\n",
        "# Display a welcoming message\n",
        "colored_output('🔠 Welcome to the Hangman Game ☠️','lightgray',270)\n",
        "\n",
        "#Print out the hidden_word\n",
        "colored_output(f'Hidden word is: {hidden_word}','bisque',270)\n",
        "\n",
        "#The game has to stop either when points are over mistake_count=0 or when we have guessed the word hidden_word.count('-')=0\n",
        "while mistake_count>0 and hidden_word.count('-')>0:\n",
        "  colored_output('Pick a letter','bisque',270)\n",
        "  picked_letter = input().capitalize()\n",
        "  #to count how many times picked_letter appears in a word\n",
        "  letter_count=0\n",
        "  #to count the position of a picked_letter in a word\n",
        "  index_count=0\n",
        "  \n",
        "  if(picked_letter in word):\n",
        "    print(hangman[6-mistake_count])\n",
        "    for i in range(mistake_count):\n",
        "      print('            ')\n",
        "    print('\\t_🪑________🥷')\n",
        "    print('')\n",
        "    colored_output(f'CORRECT! The word contains the letter {picked_letter}','lightgreen',270)\n",
        "    \n",
        "    #Now we count how many times picked_letter appears in word\n",
        "    for letter in word:\n",
        "      if picked_letter == letter:\n",
        "        hidden_word = hidden_word[:index_count] + picked_letter + hidden_word[index_count+1:]\n",
        "      index_count += 1\n",
        "  else:\n",
        "    mistake_count -= 1\n",
        "    colored_output(f'WRONG! Number of mistakes left: {mistake_count}','pink',270)\n",
        "    print(hangman[6-mistake_count])\n",
        "    for i in range(mistake_count):\n",
        "      print('            ')\n",
        "\n",
        "    print('\\t_🪑________🥷')\n",
        "    print('')\n",
        "\n",
        "  print('')\n",
        "  colored_output(f'Hidden word is: {hidden_word}','bisque',270)\n",
        "\n",
        "if mistake_count == 0:\n",
        "  print('')\n",
        "  colored_output(f'💀 HANGED! 💀 The hidden word was {word}','pink',500)\n",
        "else:\n",
        "  colored_output(f'🎉 CONGRATULATIONS! 🎉 The hidden word is {word}','lightgreen',500)\n"
      ],
      "metadata": {
        "colab": {
          "base_uri": "https://localhost:8080/",
          "height": 1000,
          "referenced_widgets": [
            "c1bae8e341c14109b7914766fb442f88",
            "b3fce0dfea3e43d18eaa0120ac78d699",
            "a6d27a5f303f4ddba96a1dbefe8909d7",
            "ded8dcce751f40a9a8dd5676fe62ffb2",
            "93c9b5d78467488d946bbbd540b72b24",
            "3e80a0568c184322888d61f3bbd8db1f",
            "cdf1db9f09e245d4bead4059656a6175",
            "d1c20265b1984d5c876bc20556793904",
            "35ac66ec4a7f496796a1259eca7f729f",
            "fc6c11427f0f4c75baedd871d9bf8811",
            "b70958a1bd0e4bec8be085bc4c84c30f",
            "40b2afc5197a4d8f962c2a8b4ebf3b7b",
            "80099efe7e194cc99944adbe9979ac3c",
            "5bebde46551844dd940f0cb8d6d78076",
            "9f2ad8a2e0ad46ddb43354e5e3ad2fc4",
            "d1511a94b6384125a37e94293abf2b0d",
            "6bcce8eb14204b80a91cdc36c7263cba",
            "320a3b8ea1114776993678648dc73d6f",
            "667abc6c309440d89dcf821387c25907",
            "1a27a74b4d9b4c539b6274f2bee0a628",
            "23954ebf69f848b299e2939d9c3d3ced",
            "30ef6713e60645f5845a8897f5f769cc",
            "59e00b4773bc4eb8a86c9a13904d6f79",
            "0c960710c61e4ad89b1bed7174a6cd60",
            "ef4de3f4474c41329f8d9a05021d72ec",
            "9befe31b30d649578c1f8081371c0334",
            "9073fd1484224e74888788c28615f6de",
            "e8baf43bb0cd442281756338003425f5",
            "1cc8e518e56c4a1895e1eef730f3b849",
            "c9eacf1c8fce48b7b02a342a6ab1daa4",
            "3db546e2855645b89129a7156090c1c5",
            "f2b34cf1505f46e29196e0d1e7c3276f",
            "db0b014a1a294510ae3e9509f3b823ab",
            "f51c06e129084b5b9dc98bb1d5a2cf70",
            "9aec3d19e2c34d349493247d583030a6",
            "84634470646049468ecc55bd953108c9",
            "50046447cf5f404dba25b5b7f0611c5c",
            "5449032ea05a4a7cb743876584ed3bac",
            "352cacd804f8426194cf3dd939d442d0",
            "44d75c7b64474e92a161cd3cbd103490",
            "b8aa4e21d72744c0ac3ee44ec5733b8b",
            "780b35ec566741eca30d9308e2953d8f",
            "644d883669f040b7a87a3905628ecad3",
            "fea7fae1e5974280b01c9189feafa37c",
            "41e5209e9ea94c789879fae604c9e69b",
            "f33b17e703d54432bbb1b564c7d8a127",
            "c0eaa1a986f042cfbf99b3883bf299dd",
            "5e6d13498b634444a1ac9d14736dd8f7",
            "2cd8128bde224b9ba90df31027121726",
            "a8f50c04075c4a2987037a993528b3ae",
            "b21c91a4f5f14ac48c81ae95d8732538",
            "72f5ce9324784af8a66bff42918c1126",
            "23438eadca5440cbb9cad13b2a02d1d3",
            "4d0ed7590c5847afb8d93715da7a7da0",
            "95c25e10c9b047fabbb090b6e526b16f",
            "2d263c2c1072416188e81ddee9ace803",
            "22abd9e0fb5e42178966d2b587b9df7e",
            "4db5f113de95436ab56b3ba493d6724b",
            "1021626ef214494bac913dacd7a6f517",
            "f8c7ff76ad054d5ba4e1ee8c159466f8",
            "290ceba5ce654e849ccb400c34f84164",
            "430c6f9b448646dc8e76794edccb74a5",
            "be83afc4bdc9491ea51472e4ce1650dc",
            "a2a4f2b08cb346aaab835e918285d280",
            "b330b3dade9a48b7bf61231e08a4b5c7",
            "6c517a48d32a4ceb8f023bdc43a26489",
            "39034bd355d94d658cd174cb5076c564",
            "467de3885b5545fa9965745e10d4d68e",
            "03671bf7b14945bfa0a7d020aa010e1a",
            "b6a06f1d6653471182538536ea890b47",
            "2bd54c751e2f43dc99372e4db6d7a5c1",
            "adc8989754f4474ba469fc305947205a"
          ]
        },
        "id": "G-TLOzxLEf_I",
        "outputId": "01738d39-df95-4665-e0fa-0ccd1d7524b7"
      },
      "id": "G-TLOzxLEf_I",
      "execution_count": null,
      "outputs": [
        {
          "output_type": "display_data",
          "data": {
            "text/plain": [
              "Button(description='🔠 Welcome to the Hangman Game ☠️', layout=Layout(width='270px'), style=ButtonStyle(button_…"
            ],
            "application/vnd.jupyter.widget-view+json": {
              "version_major": 2,
              "version_minor": 0,
              "model_id": "c1bae8e341c14109b7914766fb442f88"
            }
          },
          "metadata": {}
        },
        {
          "output_type": "display_data",
          "data": {
            "text/plain": [
              "Button(description='Hidden word is: -----', layout=Layout(width='270px'), style=ButtonStyle(button_color='bisq…"
            ],
            "application/vnd.jupyter.widget-view+json": {
              "version_major": 2,
              "version_minor": 0,
              "model_id": "ded8dcce751f40a9a8dd5676fe62ffb2"
            }
          },
          "metadata": {}
        },
        {
          "output_type": "display_data",
          "data": {
            "text/plain": [
              "Button(description='Pick a letter', layout=Layout(width='270px'), style=ButtonStyle(button_color='bisque'))"
            ],
            "application/vnd.jupyter.widget-view+json": {
              "version_major": 2,
              "version_minor": 0,
              "model_id": "cdf1db9f09e245d4bead4059656a6175"
            }
          },
          "metadata": {}
        },
        {
          "output_type": "stream",
          "name": "stdout",
          "text": [
            "a\n",
            "\n",
            "        ____________\n",
            "         |\n",
            "            \n",
            "            \n",
            "            \n",
            "            \n",
            "            \n",
            "            \n",
            "\t_🪑________🥷\n",
            "\n"
          ]
        },
        {
          "output_type": "display_data",
          "data": {
            "text/plain": [
              "Button(description='CORRECT! The word contains the letter A', layout=Layout(width='270px'), style=ButtonStyle(…"
            ],
            "application/vnd.jupyter.widget-view+json": {
              "version_major": 2,
              "version_minor": 0,
              "model_id": "fc6c11427f0f4c75baedd871d9bf8811"
            }
          },
          "metadata": {}
        },
        {
          "output_type": "stream",
          "name": "stdout",
          "text": [
            "\n"
          ]
        },
        {
          "output_type": "display_data",
          "data": {
            "text/plain": [
              "Button(description='Hidden word is: ----A', layout=Layout(width='270px'), style=ButtonStyle(button_color='bisq…"
            ],
            "application/vnd.jupyter.widget-view+json": {
              "version_major": 2,
              "version_minor": 0,
              "model_id": "80099efe7e194cc99944adbe9979ac3c"
            }
          },
          "metadata": {}
        },
        {
          "output_type": "display_data",
          "data": {
            "text/plain": [
              "Button(description='Pick a letter', layout=Layout(width='270px'), style=ButtonStyle(button_color='bisque'))"
            ],
            "application/vnd.jupyter.widget-view+json": {
              "version_major": 2,
              "version_minor": 0,
              "model_id": "d1511a94b6384125a37e94293abf2b0d"
            }
          },
          "metadata": {}
        },
        {
          "name": "stdout",
          "output_type": "stream",
          "text": [
            "M\n"
          ]
        },
        {
          "output_type": "display_data",
          "data": {
            "text/plain": [
              "Button(description='WRONG! Number of mistakes left: 5', layout=Layout(width='270px'), style=ButtonStyle(button…"
            ],
            "application/vnd.jupyter.widget-view+json": {
              "version_major": 2,
              "version_minor": 0,
              "model_id": "667abc6c309440d89dcf821387c25907"
            }
          },
          "metadata": {}
        },
        {
          "output_type": "stream",
          "name": "stdout",
          "text": [
            "\n",
            "        ____________\n",
            "         |\n",
            "         O\n",
            "            \n",
            "            \n",
            "            \n",
            "            \n",
            "            \n",
            "\t_🪑________🥷\n",
            "\n",
            "\n"
          ]
        },
        {
          "output_type": "display_data",
          "data": {
            "text/plain": [
              "Button(description='Hidden word is: ----A', layout=Layout(width='270px'), style=ButtonStyle(button_color='bisq…"
            ],
            "application/vnd.jupyter.widget-view+json": {
              "version_major": 2,
              "version_minor": 0,
              "model_id": "30ef6713e60645f5845a8897f5f769cc"
            }
          },
          "metadata": {}
        },
        {
          "output_type": "display_data",
          "data": {
            "text/plain": [
              "Button(description='Pick a letter', layout=Layout(width='270px'), style=ButtonStyle(button_color='bisque'))"
            ],
            "application/vnd.jupyter.widget-view+json": {
              "version_major": 2,
              "version_minor": 0,
              "model_id": "ef4de3f4474c41329f8d9a05021d72ec"
            }
          },
          "metadata": {}
        },
        {
          "output_type": "stream",
          "name": "stdout",
          "text": [
            "E\n",
            "\n",
            "        ____________\n",
            "         |\n",
            "         O\n",
            "            \n",
            "            \n",
            "            \n",
            "            \n",
            "            \n",
            "\t_🪑________🥷\n",
            "\n"
          ]
        },
        {
          "output_type": "display_data",
          "data": {
            "text/plain": [
              "Button(description='CORRECT! The word contains the letter E', layout=Layout(width='270px'), style=ButtonStyle(…"
            ],
            "application/vnd.jupyter.widget-view+json": {
              "version_major": 2,
              "version_minor": 0,
              "model_id": "e8baf43bb0cd442281756338003425f5"
            }
          },
          "metadata": {}
        },
        {
          "output_type": "stream",
          "name": "stdout",
          "text": [
            "\n"
          ]
        },
        {
          "output_type": "display_data",
          "data": {
            "text/plain": [
              "Button(description='Hidden word is: -E--A', layout=Layout(width='270px'), style=ButtonStyle(button_color='bisq…"
            ],
            "application/vnd.jupyter.widget-view+json": {
              "version_major": 2,
              "version_minor": 0,
              "model_id": "3db546e2855645b89129a7156090c1c5"
            }
          },
          "metadata": {}
        },
        {
          "output_type": "display_data",
          "data": {
            "text/plain": [
              "Button(description='Pick a letter', layout=Layout(width='270px'), style=ButtonStyle(button_color='bisque'))"
            ],
            "application/vnd.jupyter.widget-view+json": {
              "version_major": 2,
              "version_minor": 0,
              "model_id": "f51c06e129084b5b9dc98bb1d5a2cf70"
            }
          },
          "metadata": {}
        },
        {
          "name": "stdout",
          "output_type": "stream",
          "text": [
            "S\n"
          ]
        },
        {
          "output_type": "display_data",
          "data": {
            "text/plain": [
              "Button(description='WRONG! Number of mistakes left: 4', layout=Layout(width='270px'), style=ButtonStyle(button…"
            ],
            "application/vnd.jupyter.widget-view+json": {
              "version_major": 2,
              "version_minor": 0,
              "model_id": "50046447cf5f404dba25b5b7f0611c5c"
            }
          },
          "metadata": {}
        },
        {
          "output_type": "stream",
          "name": "stdout",
          "text": [
            "\n",
            "        ____________\n",
            "         |\n",
            "         O\n",
            "        /\n",
            "            \n",
            "            \n",
            "            \n",
            "            \n",
            "\t_🪑________🥷\n",
            "\n",
            "\n"
          ]
        },
        {
          "output_type": "display_data",
          "data": {
            "text/plain": [
              "Button(description='Hidden word is: -E--A', layout=Layout(width='270px'), style=ButtonStyle(button_color='bisq…"
            ],
            "application/vnd.jupyter.widget-view+json": {
              "version_major": 2,
              "version_minor": 0,
              "model_id": "44d75c7b64474e92a161cd3cbd103490"
            }
          },
          "metadata": {}
        },
        {
          "output_type": "display_data",
          "data": {
            "text/plain": [
              "Button(description='Pick a letter', layout=Layout(width='270px'), style=ButtonStyle(button_color='bisque'))"
            ],
            "application/vnd.jupyter.widget-view+json": {
              "version_major": 2,
              "version_minor": 0,
              "model_id": "644d883669f040b7a87a3905628ecad3"
            }
          },
          "metadata": {}
        },
        {
          "name": "stdout",
          "output_type": "stream",
          "text": [
            "P\n"
          ]
        },
        {
          "output_type": "display_data",
          "data": {
            "text/plain": [
              "Button(description='WRONG! Number of mistakes left: 3', layout=Layout(width='270px'), style=ButtonStyle(button…"
            ],
            "application/vnd.jupyter.widget-view+json": {
              "version_major": 2,
              "version_minor": 0,
              "model_id": "f33b17e703d54432bbb1b564c7d8a127"
            }
          },
          "metadata": {}
        },
        {
          "output_type": "stream",
          "name": "stdout",
          "text": [
            "\n",
            "        ____________\n",
            "         |\n",
            "         O\n",
            "        / \\\n",
            "            \n",
            "            \n",
            "            \n",
            "\t_🪑________🥷\n",
            "\n",
            "\n"
          ]
        },
        {
          "output_type": "display_data",
          "data": {
            "text/plain": [
              "Button(description='Hidden word is: -E--A', layout=Layout(width='270px'), style=ButtonStyle(button_color='bisq…"
            ],
            "application/vnd.jupyter.widget-view+json": {
              "version_major": 2,
              "version_minor": 0,
              "model_id": "2cd8128bde224b9ba90df31027121726"
            }
          },
          "metadata": {}
        },
        {
          "output_type": "display_data",
          "data": {
            "text/plain": [
              "Button(description='Pick a letter', layout=Layout(width='270px'), style=ButtonStyle(button_color='bisque'))"
            ],
            "application/vnd.jupyter.widget-view+json": {
              "version_major": 2,
              "version_minor": 0,
              "model_id": "72f5ce9324784af8a66bff42918c1126"
            }
          },
          "metadata": {}
        },
        {
          "name": "stdout",
          "output_type": "stream",
          "text": [
            "N\n"
          ]
        },
        {
          "output_type": "display_data",
          "data": {
            "text/plain": [
              "Button(description='WRONG! Number of mistakes left: 2', layout=Layout(width='270px'), style=ButtonStyle(button…"
            ],
            "application/vnd.jupyter.widget-view+json": {
              "version_major": 2,
              "version_minor": 0,
              "model_id": "95c25e10c9b047fabbb090b6e526b16f"
            }
          },
          "metadata": {}
        },
        {
          "output_type": "stream",
          "name": "stdout",
          "text": [
            "\n",
            "        ____________\n",
            "         |\n",
            "         O\n",
            "        / \\\n",
            "         |\n",
            "            \n",
            "            \n",
            "\t_🪑________🥷\n",
            "\n",
            "\n"
          ]
        },
        {
          "output_type": "display_data",
          "data": {
            "text/plain": [
              "Button(description='Hidden word is: -E--A', layout=Layout(width='270px'), style=ButtonStyle(button_color='bisq…"
            ],
            "application/vnd.jupyter.widget-view+json": {
              "version_major": 2,
              "version_minor": 0,
              "model_id": "4db5f113de95436ab56b3ba493d6724b"
            }
          },
          "metadata": {}
        },
        {
          "output_type": "display_data",
          "data": {
            "text/plain": [
              "Button(description='Pick a letter', layout=Layout(width='270px'), style=ButtonStyle(button_color='bisque'))"
            ],
            "application/vnd.jupyter.widget-view+json": {
              "version_major": 2,
              "version_minor": 0,
              "model_id": "290ceba5ce654e849ccb400c34f84164"
            }
          },
          "metadata": {}
        },
        {
          "name": "stdout",
          "output_type": "stream",
          "text": [
            "L\n"
          ]
        },
        {
          "output_type": "display_data",
          "data": {
            "text/plain": [
              "Button(description='WRONG! Number of mistakes left: 1', layout=Layout(width='270px'), style=ButtonStyle(button…"
            ],
            "application/vnd.jupyter.widget-view+json": {
              "version_major": 2,
              "version_minor": 0,
              "model_id": "a2a4f2b08cb346aaab835e918285d280"
            }
          },
          "metadata": {}
        },
        {
          "output_type": "stream",
          "name": "stdout",
          "text": [
            "\n",
            "        ____________\n",
            "         |\n",
            "         O\n",
            "        / \\\n",
            "         |\n",
            "        /\n",
            "            \n",
            "\t_🪑________🥷\n",
            "\n",
            "\n"
          ]
        },
        {
          "output_type": "display_data",
          "data": {
            "text/plain": [
              "Button(description='Hidden word is: -E--A', layout=Layout(width='270px'), style=ButtonStyle(button_color='bisq…"
            ],
            "application/vnd.jupyter.widget-view+json": {
              "version_major": 2,
              "version_minor": 0,
              "model_id": "39034bd355d94d658cd174cb5076c564"
            }
          },
          "metadata": {}
        },
        {
          "output_type": "display_data",
          "data": {
            "text/plain": [
              "Button(description='Pick a letter', layout=Layout(width='270px'), style=ButtonStyle(button_color='bisque'))"
            ],
            "application/vnd.jupyter.widget-view+json": {
              "version_major": 2,
              "version_minor": 0,
              "model_id": "b6a06f1d6653471182538536ea890b47"
            }
          },
          "metadata": {}
        }
      ]
    },
    {
      "cell_type": "code",
      "source": [],
      "metadata": {
        "id": "POYOagRsFUdB"
      },
      "id": "POYOagRsFUdB",
      "execution_count": null,
      "outputs": []
    }
  ],
  "metadata": {
    "kernelspec": {
      "display_name": "Python 3 (ipykernel)",
      "language": "python",
      "name": "python3"
    },
    "language_info": {
      "codemirror_mode": {
        "name": "ipython",
        "version": 3
      },
      "file_extension": ".py",
      "mimetype": "text/x-python",
      "name": "python",
      "nbconvert_exporter": "python",
      "pygments_lexer": "ipython3",
      "version": "3.9.12"
    },
    "colab": {
      "provenance": [],
      "collapsed_sections": [
        "649cee80-bfe9-4cf7-955b-560a475b94d7"
      ],
      "include_colab_link": true
    },
    "widgets": {
      "application/vnd.jupyter.widget-state+json": {
        "c1bae8e341c14109b7914766fb442f88": {
          "model_module": "@jupyter-widgets/controls",
          "model_name": "ButtonModel",
          "model_module_version": "1.5.0",
          "state": {
            "_dom_classes": [],
            "_model_module": "@jupyter-widgets/controls",
            "_model_module_version": "1.5.0",
            "_model_name": "ButtonModel",
            "_view_count": null,
            "_view_module": "@jupyter-widgets/controls",
            "_view_module_version": "1.5.0",
            "_view_name": "ButtonView",
            "button_style": "",
            "description": "🔠 Welcome to the Hangman Game ☠️",
            "disabled": false,
            "icon": "",
            "layout": "IPY_MODEL_b3fce0dfea3e43d18eaa0120ac78d699",
            "style": "IPY_MODEL_a6d27a5f303f4ddba96a1dbefe8909d7",
            "tooltip": ""
          }
        },
        "b3fce0dfea3e43d18eaa0120ac78d699": {
          "model_module": "@jupyter-widgets/base",
          "model_name": "LayoutModel",
          "model_module_version": "1.2.0",
          "state": {
            "_model_module": "@jupyter-widgets/base",
            "_model_module_version": "1.2.0",
            "_model_name": "LayoutModel",
            "_view_count": null,
            "_view_module": "@jupyter-widgets/base",
            "_view_module_version": "1.2.0",
            "_view_name": "LayoutView",
            "align_content": null,
            "align_items": null,
            "align_self": null,
            "border": null,
            "bottom": null,
            "display": null,
            "flex": null,
            "flex_flow": null,
            "grid_area": null,
            "grid_auto_columns": null,
            "grid_auto_flow": null,
            "grid_auto_rows": null,
            "grid_column": null,
            "grid_gap": null,
            "grid_row": null,
            "grid_template_areas": null,
            "grid_template_columns": null,
            "grid_template_rows": null,
            "height": null,
            "justify_content": null,
            "justify_items": null,
            "left": null,
            "margin": null,
            "max_height": null,
            "max_width": null,
            "min_height": null,
            "min_width": null,
            "object_fit": null,
            "object_position": null,
            "order": null,
            "overflow": null,
            "overflow_x": null,
            "overflow_y": null,
            "padding": null,
            "right": null,
            "top": null,
            "visibility": null,
            "width": "270px"
          }
        },
        "a6d27a5f303f4ddba96a1dbefe8909d7": {
          "model_module": "@jupyter-widgets/controls",
          "model_name": "ButtonStyleModel",
          "model_module_version": "1.5.0",
          "state": {
            "_model_module": "@jupyter-widgets/controls",
            "_model_module_version": "1.5.0",
            "_model_name": "ButtonStyleModel",
            "_view_count": null,
            "_view_module": "@jupyter-widgets/base",
            "_view_module_version": "1.2.0",
            "_view_name": "StyleView",
            "button_color": "lightgray",
            "font_weight": ""
          }
        },
        "ded8dcce751f40a9a8dd5676fe62ffb2": {
          "model_module": "@jupyter-widgets/controls",
          "model_name": "ButtonModel",
          "model_module_version": "1.5.0",
          "state": {
            "_dom_classes": [],
            "_model_module": "@jupyter-widgets/controls",
            "_model_module_version": "1.5.0",
            "_model_name": "ButtonModel",
            "_view_count": null,
            "_view_module": "@jupyter-widgets/controls",
            "_view_module_version": "1.5.0",
            "_view_name": "ButtonView",
            "button_style": "",
            "description": "Hidden word is: -----",
            "disabled": false,
            "icon": "",
            "layout": "IPY_MODEL_93c9b5d78467488d946bbbd540b72b24",
            "style": "IPY_MODEL_3e80a0568c184322888d61f3bbd8db1f",
            "tooltip": ""
          }
        },
        "93c9b5d78467488d946bbbd540b72b24": {
          "model_module": "@jupyter-widgets/base",
          "model_name": "LayoutModel",
          "model_module_version": "1.2.0",
          "state": {
            "_model_module": "@jupyter-widgets/base",
            "_model_module_version": "1.2.0",
            "_model_name": "LayoutModel",
            "_view_count": null,
            "_view_module": "@jupyter-widgets/base",
            "_view_module_version": "1.2.0",
            "_view_name": "LayoutView",
            "align_content": null,
            "align_items": null,
            "align_self": null,
            "border": null,
            "bottom": null,
            "display": null,
            "flex": null,
            "flex_flow": null,
            "grid_area": null,
            "grid_auto_columns": null,
            "grid_auto_flow": null,
            "grid_auto_rows": null,
            "grid_column": null,
            "grid_gap": null,
            "grid_row": null,
            "grid_template_areas": null,
            "grid_template_columns": null,
            "grid_template_rows": null,
            "height": null,
            "justify_content": null,
            "justify_items": null,
            "left": null,
            "margin": null,
            "max_height": null,
            "max_width": null,
            "min_height": null,
            "min_width": null,
            "object_fit": null,
            "object_position": null,
            "order": null,
            "overflow": null,
            "overflow_x": null,
            "overflow_y": null,
            "padding": null,
            "right": null,
            "top": null,
            "visibility": null,
            "width": "270px"
          }
        },
        "3e80a0568c184322888d61f3bbd8db1f": {
          "model_module": "@jupyter-widgets/controls",
          "model_name": "ButtonStyleModel",
          "model_module_version": "1.5.0",
          "state": {
            "_model_module": "@jupyter-widgets/controls",
            "_model_module_version": "1.5.0",
            "_model_name": "ButtonStyleModel",
            "_view_count": null,
            "_view_module": "@jupyter-widgets/base",
            "_view_module_version": "1.2.0",
            "_view_name": "StyleView",
            "button_color": "bisque",
            "font_weight": ""
          }
        },
        "cdf1db9f09e245d4bead4059656a6175": {
          "model_module": "@jupyter-widgets/controls",
          "model_name": "ButtonModel",
          "model_module_version": "1.5.0",
          "state": {
            "_dom_classes": [],
            "_model_module": "@jupyter-widgets/controls",
            "_model_module_version": "1.5.0",
            "_model_name": "ButtonModel",
            "_view_count": null,
            "_view_module": "@jupyter-widgets/controls",
            "_view_module_version": "1.5.0",
            "_view_name": "ButtonView",
            "button_style": "",
            "description": "Pick a letter",
            "disabled": false,
            "icon": "",
            "layout": "IPY_MODEL_d1c20265b1984d5c876bc20556793904",
            "style": "IPY_MODEL_35ac66ec4a7f496796a1259eca7f729f",
            "tooltip": ""
          }
        },
        "d1c20265b1984d5c876bc20556793904": {
          "model_module": "@jupyter-widgets/base",
          "model_name": "LayoutModel",
          "model_module_version": "1.2.0",
          "state": {
            "_model_module": "@jupyter-widgets/base",
            "_model_module_version": "1.2.0",
            "_model_name": "LayoutModel",
            "_view_count": null,
            "_view_module": "@jupyter-widgets/base",
            "_view_module_version": "1.2.0",
            "_view_name": "LayoutView",
            "align_content": null,
            "align_items": null,
            "align_self": null,
            "border": null,
            "bottom": null,
            "display": null,
            "flex": null,
            "flex_flow": null,
            "grid_area": null,
            "grid_auto_columns": null,
            "grid_auto_flow": null,
            "grid_auto_rows": null,
            "grid_column": null,
            "grid_gap": null,
            "grid_row": null,
            "grid_template_areas": null,
            "grid_template_columns": null,
            "grid_template_rows": null,
            "height": null,
            "justify_content": null,
            "justify_items": null,
            "left": null,
            "margin": null,
            "max_height": null,
            "max_width": null,
            "min_height": null,
            "min_width": null,
            "object_fit": null,
            "object_position": null,
            "order": null,
            "overflow": null,
            "overflow_x": null,
            "overflow_y": null,
            "padding": null,
            "right": null,
            "top": null,
            "visibility": null,
            "width": "270px"
          }
        },
        "35ac66ec4a7f496796a1259eca7f729f": {
          "model_module": "@jupyter-widgets/controls",
          "model_name": "ButtonStyleModel",
          "model_module_version": "1.5.0",
          "state": {
            "_model_module": "@jupyter-widgets/controls",
            "_model_module_version": "1.5.0",
            "_model_name": "ButtonStyleModel",
            "_view_count": null,
            "_view_module": "@jupyter-widgets/base",
            "_view_module_version": "1.2.0",
            "_view_name": "StyleView",
            "button_color": "bisque",
            "font_weight": ""
          }
        },
        "fc6c11427f0f4c75baedd871d9bf8811": {
          "model_module": "@jupyter-widgets/controls",
          "model_name": "ButtonModel",
          "model_module_version": "1.5.0",
          "state": {
            "_dom_classes": [],
            "_model_module": "@jupyter-widgets/controls",
            "_model_module_version": "1.5.0",
            "_model_name": "ButtonModel",
            "_view_count": null,
            "_view_module": "@jupyter-widgets/controls",
            "_view_module_version": "1.5.0",
            "_view_name": "ButtonView",
            "button_style": "",
            "description": "CORRECT! The word contains the letter A",
            "disabled": false,
            "icon": "",
            "layout": "IPY_MODEL_b70958a1bd0e4bec8be085bc4c84c30f",
            "style": "IPY_MODEL_40b2afc5197a4d8f962c2a8b4ebf3b7b",
            "tooltip": ""
          }
        },
        "b70958a1bd0e4bec8be085bc4c84c30f": {
          "model_module": "@jupyter-widgets/base",
          "model_name": "LayoutModel",
          "model_module_version": "1.2.0",
          "state": {
            "_model_module": "@jupyter-widgets/base",
            "_model_module_version": "1.2.0",
            "_model_name": "LayoutModel",
            "_view_count": null,
            "_view_module": "@jupyter-widgets/base",
            "_view_module_version": "1.2.0",
            "_view_name": "LayoutView",
            "align_content": null,
            "align_items": null,
            "align_self": null,
            "border": null,
            "bottom": null,
            "display": null,
            "flex": null,
            "flex_flow": null,
            "grid_area": null,
            "grid_auto_columns": null,
            "grid_auto_flow": null,
            "grid_auto_rows": null,
            "grid_column": null,
            "grid_gap": null,
            "grid_row": null,
            "grid_template_areas": null,
            "grid_template_columns": null,
            "grid_template_rows": null,
            "height": null,
            "justify_content": null,
            "justify_items": null,
            "left": null,
            "margin": null,
            "max_height": null,
            "max_width": null,
            "min_height": null,
            "min_width": null,
            "object_fit": null,
            "object_position": null,
            "order": null,
            "overflow": null,
            "overflow_x": null,
            "overflow_y": null,
            "padding": null,
            "right": null,
            "top": null,
            "visibility": null,
            "width": "270px"
          }
        },
        "40b2afc5197a4d8f962c2a8b4ebf3b7b": {
          "model_module": "@jupyter-widgets/controls",
          "model_name": "ButtonStyleModel",
          "model_module_version": "1.5.0",
          "state": {
            "_model_module": "@jupyter-widgets/controls",
            "_model_module_version": "1.5.0",
            "_model_name": "ButtonStyleModel",
            "_view_count": null,
            "_view_module": "@jupyter-widgets/base",
            "_view_module_version": "1.2.0",
            "_view_name": "StyleView",
            "button_color": "lightgreen",
            "font_weight": ""
          }
        },
        "80099efe7e194cc99944adbe9979ac3c": {
          "model_module": "@jupyter-widgets/controls",
          "model_name": "ButtonModel",
          "model_module_version": "1.5.0",
          "state": {
            "_dom_classes": [],
            "_model_module": "@jupyter-widgets/controls",
            "_model_module_version": "1.5.0",
            "_model_name": "ButtonModel",
            "_view_count": null,
            "_view_module": "@jupyter-widgets/controls",
            "_view_module_version": "1.5.0",
            "_view_name": "ButtonView",
            "button_style": "",
            "description": "Hidden word is: ----A",
            "disabled": false,
            "icon": "",
            "layout": "IPY_MODEL_5bebde46551844dd940f0cb8d6d78076",
            "style": "IPY_MODEL_9f2ad8a2e0ad46ddb43354e5e3ad2fc4",
            "tooltip": ""
          }
        },
        "5bebde46551844dd940f0cb8d6d78076": {
          "model_module": "@jupyter-widgets/base",
          "model_name": "LayoutModel",
          "model_module_version": "1.2.0",
          "state": {
            "_model_module": "@jupyter-widgets/base",
            "_model_module_version": "1.2.0",
            "_model_name": "LayoutModel",
            "_view_count": null,
            "_view_module": "@jupyter-widgets/base",
            "_view_module_version": "1.2.0",
            "_view_name": "LayoutView",
            "align_content": null,
            "align_items": null,
            "align_self": null,
            "border": null,
            "bottom": null,
            "display": null,
            "flex": null,
            "flex_flow": null,
            "grid_area": null,
            "grid_auto_columns": null,
            "grid_auto_flow": null,
            "grid_auto_rows": null,
            "grid_column": null,
            "grid_gap": null,
            "grid_row": null,
            "grid_template_areas": null,
            "grid_template_columns": null,
            "grid_template_rows": null,
            "height": null,
            "justify_content": null,
            "justify_items": null,
            "left": null,
            "margin": null,
            "max_height": null,
            "max_width": null,
            "min_height": null,
            "min_width": null,
            "object_fit": null,
            "object_position": null,
            "order": null,
            "overflow": null,
            "overflow_x": null,
            "overflow_y": null,
            "padding": null,
            "right": null,
            "top": null,
            "visibility": null,
            "width": "270px"
          }
        },
        "9f2ad8a2e0ad46ddb43354e5e3ad2fc4": {
          "model_module": "@jupyter-widgets/controls",
          "model_name": "ButtonStyleModel",
          "model_module_version": "1.5.0",
          "state": {
            "_model_module": "@jupyter-widgets/controls",
            "_model_module_version": "1.5.0",
            "_model_name": "ButtonStyleModel",
            "_view_count": null,
            "_view_module": "@jupyter-widgets/base",
            "_view_module_version": "1.2.0",
            "_view_name": "StyleView",
            "button_color": "bisque",
            "font_weight": ""
          }
        },
        "d1511a94b6384125a37e94293abf2b0d": {
          "model_module": "@jupyter-widgets/controls",
          "model_name": "ButtonModel",
          "model_module_version": "1.5.0",
          "state": {
            "_dom_classes": [],
            "_model_module": "@jupyter-widgets/controls",
            "_model_module_version": "1.5.0",
            "_model_name": "ButtonModel",
            "_view_count": null,
            "_view_module": "@jupyter-widgets/controls",
            "_view_module_version": "1.5.0",
            "_view_name": "ButtonView",
            "button_style": "",
            "description": "Pick a letter",
            "disabled": false,
            "icon": "",
            "layout": "IPY_MODEL_6bcce8eb14204b80a91cdc36c7263cba",
            "style": "IPY_MODEL_320a3b8ea1114776993678648dc73d6f",
            "tooltip": ""
          }
        },
        "6bcce8eb14204b80a91cdc36c7263cba": {
          "model_module": "@jupyter-widgets/base",
          "model_name": "LayoutModel",
          "model_module_version": "1.2.0",
          "state": {
            "_model_module": "@jupyter-widgets/base",
            "_model_module_version": "1.2.0",
            "_model_name": "LayoutModel",
            "_view_count": null,
            "_view_module": "@jupyter-widgets/base",
            "_view_module_version": "1.2.0",
            "_view_name": "LayoutView",
            "align_content": null,
            "align_items": null,
            "align_self": null,
            "border": null,
            "bottom": null,
            "display": null,
            "flex": null,
            "flex_flow": null,
            "grid_area": null,
            "grid_auto_columns": null,
            "grid_auto_flow": null,
            "grid_auto_rows": null,
            "grid_column": null,
            "grid_gap": null,
            "grid_row": null,
            "grid_template_areas": null,
            "grid_template_columns": null,
            "grid_template_rows": null,
            "height": null,
            "justify_content": null,
            "justify_items": null,
            "left": null,
            "margin": null,
            "max_height": null,
            "max_width": null,
            "min_height": null,
            "min_width": null,
            "object_fit": null,
            "object_position": null,
            "order": null,
            "overflow": null,
            "overflow_x": null,
            "overflow_y": null,
            "padding": null,
            "right": null,
            "top": null,
            "visibility": null,
            "width": "270px"
          }
        },
        "320a3b8ea1114776993678648dc73d6f": {
          "model_module": "@jupyter-widgets/controls",
          "model_name": "ButtonStyleModel",
          "model_module_version": "1.5.0",
          "state": {
            "_model_module": "@jupyter-widgets/controls",
            "_model_module_version": "1.5.0",
            "_model_name": "ButtonStyleModel",
            "_view_count": null,
            "_view_module": "@jupyter-widgets/base",
            "_view_module_version": "1.2.0",
            "_view_name": "StyleView",
            "button_color": "bisque",
            "font_weight": ""
          }
        },
        "667abc6c309440d89dcf821387c25907": {
          "model_module": "@jupyter-widgets/controls",
          "model_name": "ButtonModel",
          "model_module_version": "1.5.0",
          "state": {
            "_dom_classes": [],
            "_model_module": "@jupyter-widgets/controls",
            "_model_module_version": "1.5.0",
            "_model_name": "ButtonModel",
            "_view_count": null,
            "_view_module": "@jupyter-widgets/controls",
            "_view_module_version": "1.5.0",
            "_view_name": "ButtonView",
            "button_style": "",
            "description": "WRONG! Number of mistakes left: 5",
            "disabled": false,
            "icon": "",
            "layout": "IPY_MODEL_1a27a74b4d9b4c539b6274f2bee0a628",
            "style": "IPY_MODEL_23954ebf69f848b299e2939d9c3d3ced",
            "tooltip": ""
          }
        },
        "1a27a74b4d9b4c539b6274f2bee0a628": {
          "model_module": "@jupyter-widgets/base",
          "model_name": "LayoutModel",
          "model_module_version": "1.2.0",
          "state": {
            "_model_module": "@jupyter-widgets/base",
            "_model_module_version": "1.2.0",
            "_model_name": "LayoutModel",
            "_view_count": null,
            "_view_module": "@jupyter-widgets/base",
            "_view_module_version": "1.2.0",
            "_view_name": "LayoutView",
            "align_content": null,
            "align_items": null,
            "align_self": null,
            "border": null,
            "bottom": null,
            "display": null,
            "flex": null,
            "flex_flow": null,
            "grid_area": null,
            "grid_auto_columns": null,
            "grid_auto_flow": null,
            "grid_auto_rows": null,
            "grid_column": null,
            "grid_gap": null,
            "grid_row": null,
            "grid_template_areas": null,
            "grid_template_columns": null,
            "grid_template_rows": null,
            "height": null,
            "justify_content": null,
            "justify_items": null,
            "left": null,
            "margin": null,
            "max_height": null,
            "max_width": null,
            "min_height": null,
            "min_width": null,
            "object_fit": null,
            "object_position": null,
            "order": null,
            "overflow": null,
            "overflow_x": null,
            "overflow_y": null,
            "padding": null,
            "right": null,
            "top": null,
            "visibility": null,
            "width": "270px"
          }
        },
        "23954ebf69f848b299e2939d9c3d3ced": {
          "model_module": "@jupyter-widgets/controls",
          "model_name": "ButtonStyleModel",
          "model_module_version": "1.5.0",
          "state": {
            "_model_module": "@jupyter-widgets/controls",
            "_model_module_version": "1.5.0",
            "_model_name": "ButtonStyleModel",
            "_view_count": null,
            "_view_module": "@jupyter-widgets/base",
            "_view_module_version": "1.2.0",
            "_view_name": "StyleView",
            "button_color": "pink",
            "font_weight": ""
          }
        },
        "30ef6713e60645f5845a8897f5f769cc": {
          "model_module": "@jupyter-widgets/controls",
          "model_name": "ButtonModel",
          "model_module_version": "1.5.0",
          "state": {
            "_dom_classes": [],
            "_model_module": "@jupyter-widgets/controls",
            "_model_module_version": "1.5.0",
            "_model_name": "ButtonModel",
            "_view_count": null,
            "_view_module": "@jupyter-widgets/controls",
            "_view_module_version": "1.5.0",
            "_view_name": "ButtonView",
            "button_style": "",
            "description": "Hidden word is: ----A",
            "disabled": false,
            "icon": "",
            "layout": "IPY_MODEL_59e00b4773bc4eb8a86c9a13904d6f79",
            "style": "IPY_MODEL_0c960710c61e4ad89b1bed7174a6cd60",
            "tooltip": ""
          }
        },
        "59e00b4773bc4eb8a86c9a13904d6f79": {
          "model_module": "@jupyter-widgets/base",
          "model_name": "LayoutModel",
          "model_module_version": "1.2.0",
          "state": {
            "_model_module": "@jupyter-widgets/base",
            "_model_module_version": "1.2.0",
            "_model_name": "LayoutModel",
            "_view_count": null,
            "_view_module": "@jupyter-widgets/base",
            "_view_module_version": "1.2.0",
            "_view_name": "LayoutView",
            "align_content": null,
            "align_items": null,
            "align_self": null,
            "border": null,
            "bottom": null,
            "display": null,
            "flex": null,
            "flex_flow": null,
            "grid_area": null,
            "grid_auto_columns": null,
            "grid_auto_flow": null,
            "grid_auto_rows": null,
            "grid_column": null,
            "grid_gap": null,
            "grid_row": null,
            "grid_template_areas": null,
            "grid_template_columns": null,
            "grid_template_rows": null,
            "height": null,
            "justify_content": null,
            "justify_items": null,
            "left": null,
            "margin": null,
            "max_height": null,
            "max_width": null,
            "min_height": null,
            "min_width": null,
            "object_fit": null,
            "object_position": null,
            "order": null,
            "overflow": null,
            "overflow_x": null,
            "overflow_y": null,
            "padding": null,
            "right": null,
            "top": null,
            "visibility": null,
            "width": "270px"
          }
        },
        "0c960710c61e4ad89b1bed7174a6cd60": {
          "model_module": "@jupyter-widgets/controls",
          "model_name": "ButtonStyleModel",
          "model_module_version": "1.5.0",
          "state": {
            "_model_module": "@jupyter-widgets/controls",
            "_model_module_version": "1.5.0",
            "_model_name": "ButtonStyleModel",
            "_view_count": null,
            "_view_module": "@jupyter-widgets/base",
            "_view_module_version": "1.2.0",
            "_view_name": "StyleView",
            "button_color": "bisque",
            "font_weight": ""
          }
        },
        "ef4de3f4474c41329f8d9a05021d72ec": {
          "model_module": "@jupyter-widgets/controls",
          "model_name": "ButtonModel",
          "model_module_version": "1.5.0",
          "state": {
            "_dom_classes": [],
            "_model_module": "@jupyter-widgets/controls",
            "_model_module_version": "1.5.0",
            "_model_name": "ButtonModel",
            "_view_count": null,
            "_view_module": "@jupyter-widgets/controls",
            "_view_module_version": "1.5.0",
            "_view_name": "ButtonView",
            "button_style": "",
            "description": "Pick a letter",
            "disabled": false,
            "icon": "",
            "layout": "IPY_MODEL_9befe31b30d649578c1f8081371c0334",
            "style": "IPY_MODEL_9073fd1484224e74888788c28615f6de",
            "tooltip": ""
          }
        },
        "9befe31b30d649578c1f8081371c0334": {
          "model_module": "@jupyter-widgets/base",
          "model_name": "LayoutModel",
          "model_module_version": "1.2.0",
          "state": {
            "_model_module": "@jupyter-widgets/base",
            "_model_module_version": "1.2.0",
            "_model_name": "LayoutModel",
            "_view_count": null,
            "_view_module": "@jupyter-widgets/base",
            "_view_module_version": "1.2.0",
            "_view_name": "LayoutView",
            "align_content": null,
            "align_items": null,
            "align_self": null,
            "border": null,
            "bottom": null,
            "display": null,
            "flex": null,
            "flex_flow": null,
            "grid_area": null,
            "grid_auto_columns": null,
            "grid_auto_flow": null,
            "grid_auto_rows": null,
            "grid_column": null,
            "grid_gap": null,
            "grid_row": null,
            "grid_template_areas": null,
            "grid_template_columns": null,
            "grid_template_rows": null,
            "height": null,
            "justify_content": null,
            "justify_items": null,
            "left": null,
            "margin": null,
            "max_height": null,
            "max_width": null,
            "min_height": null,
            "min_width": null,
            "object_fit": null,
            "object_position": null,
            "order": null,
            "overflow": null,
            "overflow_x": null,
            "overflow_y": null,
            "padding": null,
            "right": null,
            "top": null,
            "visibility": null,
            "width": "270px"
          }
        },
        "9073fd1484224e74888788c28615f6de": {
          "model_module": "@jupyter-widgets/controls",
          "model_name": "ButtonStyleModel",
          "model_module_version": "1.5.0",
          "state": {
            "_model_module": "@jupyter-widgets/controls",
            "_model_module_version": "1.5.0",
            "_model_name": "ButtonStyleModel",
            "_view_count": null,
            "_view_module": "@jupyter-widgets/base",
            "_view_module_version": "1.2.0",
            "_view_name": "StyleView",
            "button_color": "bisque",
            "font_weight": ""
          }
        },
        "e8baf43bb0cd442281756338003425f5": {
          "model_module": "@jupyter-widgets/controls",
          "model_name": "ButtonModel",
          "model_module_version": "1.5.0",
          "state": {
            "_dom_classes": [],
            "_model_module": "@jupyter-widgets/controls",
            "_model_module_version": "1.5.0",
            "_model_name": "ButtonModel",
            "_view_count": null,
            "_view_module": "@jupyter-widgets/controls",
            "_view_module_version": "1.5.0",
            "_view_name": "ButtonView",
            "button_style": "",
            "description": "CORRECT! The word contains the letter E",
            "disabled": false,
            "icon": "",
            "layout": "IPY_MODEL_1cc8e518e56c4a1895e1eef730f3b849",
            "style": "IPY_MODEL_c9eacf1c8fce48b7b02a342a6ab1daa4",
            "tooltip": ""
          }
        },
        "1cc8e518e56c4a1895e1eef730f3b849": {
          "model_module": "@jupyter-widgets/base",
          "model_name": "LayoutModel",
          "model_module_version": "1.2.0",
          "state": {
            "_model_module": "@jupyter-widgets/base",
            "_model_module_version": "1.2.0",
            "_model_name": "LayoutModel",
            "_view_count": null,
            "_view_module": "@jupyter-widgets/base",
            "_view_module_version": "1.2.0",
            "_view_name": "LayoutView",
            "align_content": null,
            "align_items": null,
            "align_self": null,
            "border": null,
            "bottom": null,
            "display": null,
            "flex": null,
            "flex_flow": null,
            "grid_area": null,
            "grid_auto_columns": null,
            "grid_auto_flow": null,
            "grid_auto_rows": null,
            "grid_column": null,
            "grid_gap": null,
            "grid_row": null,
            "grid_template_areas": null,
            "grid_template_columns": null,
            "grid_template_rows": null,
            "height": null,
            "justify_content": null,
            "justify_items": null,
            "left": null,
            "margin": null,
            "max_height": null,
            "max_width": null,
            "min_height": null,
            "min_width": null,
            "object_fit": null,
            "object_position": null,
            "order": null,
            "overflow": null,
            "overflow_x": null,
            "overflow_y": null,
            "padding": null,
            "right": null,
            "top": null,
            "visibility": null,
            "width": "270px"
          }
        },
        "c9eacf1c8fce48b7b02a342a6ab1daa4": {
          "model_module": "@jupyter-widgets/controls",
          "model_name": "ButtonStyleModel",
          "model_module_version": "1.5.0",
          "state": {
            "_model_module": "@jupyter-widgets/controls",
            "_model_module_version": "1.5.0",
            "_model_name": "ButtonStyleModel",
            "_view_count": null,
            "_view_module": "@jupyter-widgets/base",
            "_view_module_version": "1.2.0",
            "_view_name": "StyleView",
            "button_color": "lightgreen",
            "font_weight": ""
          }
        },
        "3db546e2855645b89129a7156090c1c5": {
          "model_module": "@jupyter-widgets/controls",
          "model_name": "ButtonModel",
          "model_module_version": "1.5.0",
          "state": {
            "_dom_classes": [],
            "_model_module": "@jupyter-widgets/controls",
            "_model_module_version": "1.5.0",
            "_model_name": "ButtonModel",
            "_view_count": null,
            "_view_module": "@jupyter-widgets/controls",
            "_view_module_version": "1.5.0",
            "_view_name": "ButtonView",
            "button_style": "",
            "description": "Hidden word is: -E--A",
            "disabled": false,
            "icon": "",
            "layout": "IPY_MODEL_f2b34cf1505f46e29196e0d1e7c3276f",
            "style": "IPY_MODEL_db0b014a1a294510ae3e9509f3b823ab",
            "tooltip": ""
          }
        },
        "f2b34cf1505f46e29196e0d1e7c3276f": {
          "model_module": "@jupyter-widgets/base",
          "model_name": "LayoutModel",
          "model_module_version": "1.2.0",
          "state": {
            "_model_module": "@jupyter-widgets/base",
            "_model_module_version": "1.2.0",
            "_model_name": "LayoutModel",
            "_view_count": null,
            "_view_module": "@jupyter-widgets/base",
            "_view_module_version": "1.2.0",
            "_view_name": "LayoutView",
            "align_content": null,
            "align_items": null,
            "align_self": null,
            "border": null,
            "bottom": null,
            "display": null,
            "flex": null,
            "flex_flow": null,
            "grid_area": null,
            "grid_auto_columns": null,
            "grid_auto_flow": null,
            "grid_auto_rows": null,
            "grid_column": null,
            "grid_gap": null,
            "grid_row": null,
            "grid_template_areas": null,
            "grid_template_columns": null,
            "grid_template_rows": null,
            "height": null,
            "justify_content": null,
            "justify_items": null,
            "left": null,
            "margin": null,
            "max_height": null,
            "max_width": null,
            "min_height": null,
            "min_width": null,
            "object_fit": null,
            "object_position": null,
            "order": null,
            "overflow": null,
            "overflow_x": null,
            "overflow_y": null,
            "padding": null,
            "right": null,
            "top": null,
            "visibility": null,
            "width": "270px"
          }
        },
        "db0b014a1a294510ae3e9509f3b823ab": {
          "model_module": "@jupyter-widgets/controls",
          "model_name": "ButtonStyleModel",
          "model_module_version": "1.5.0",
          "state": {
            "_model_module": "@jupyter-widgets/controls",
            "_model_module_version": "1.5.0",
            "_model_name": "ButtonStyleModel",
            "_view_count": null,
            "_view_module": "@jupyter-widgets/base",
            "_view_module_version": "1.2.0",
            "_view_name": "StyleView",
            "button_color": "bisque",
            "font_weight": ""
          }
        },
        "f51c06e129084b5b9dc98bb1d5a2cf70": {
          "model_module": "@jupyter-widgets/controls",
          "model_name": "ButtonModel",
          "model_module_version": "1.5.0",
          "state": {
            "_dom_classes": [],
            "_model_module": "@jupyter-widgets/controls",
            "_model_module_version": "1.5.0",
            "_model_name": "ButtonModel",
            "_view_count": null,
            "_view_module": "@jupyter-widgets/controls",
            "_view_module_version": "1.5.0",
            "_view_name": "ButtonView",
            "button_style": "",
            "description": "Pick a letter",
            "disabled": false,
            "icon": "",
            "layout": "IPY_MODEL_9aec3d19e2c34d349493247d583030a6",
            "style": "IPY_MODEL_84634470646049468ecc55bd953108c9",
            "tooltip": ""
          }
        },
        "9aec3d19e2c34d349493247d583030a6": {
          "model_module": "@jupyter-widgets/base",
          "model_name": "LayoutModel",
          "model_module_version": "1.2.0",
          "state": {
            "_model_module": "@jupyter-widgets/base",
            "_model_module_version": "1.2.0",
            "_model_name": "LayoutModel",
            "_view_count": null,
            "_view_module": "@jupyter-widgets/base",
            "_view_module_version": "1.2.0",
            "_view_name": "LayoutView",
            "align_content": null,
            "align_items": null,
            "align_self": null,
            "border": null,
            "bottom": null,
            "display": null,
            "flex": null,
            "flex_flow": null,
            "grid_area": null,
            "grid_auto_columns": null,
            "grid_auto_flow": null,
            "grid_auto_rows": null,
            "grid_column": null,
            "grid_gap": null,
            "grid_row": null,
            "grid_template_areas": null,
            "grid_template_columns": null,
            "grid_template_rows": null,
            "height": null,
            "justify_content": null,
            "justify_items": null,
            "left": null,
            "margin": null,
            "max_height": null,
            "max_width": null,
            "min_height": null,
            "min_width": null,
            "object_fit": null,
            "object_position": null,
            "order": null,
            "overflow": null,
            "overflow_x": null,
            "overflow_y": null,
            "padding": null,
            "right": null,
            "top": null,
            "visibility": null,
            "width": "270px"
          }
        },
        "84634470646049468ecc55bd953108c9": {
          "model_module": "@jupyter-widgets/controls",
          "model_name": "ButtonStyleModel",
          "model_module_version": "1.5.0",
          "state": {
            "_model_module": "@jupyter-widgets/controls",
            "_model_module_version": "1.5.0",
            "_model_name": "ButtonStyleModel",
            "_view_count": null,
            "_view_module": "@jupyter-widgets/base",
            "_view_module_version": "1.2.0",
            "_view_name": "StyleView",
            "button_color": "bisque",
            "font_weight": ""
          }
        },
        "50046447cf5f404dba25b5b7f0611c5c": {
          "model_module": "@jupyter-widgets/controls",
          "model_name": "ButtonModel",
          "model_module_version": "1.5.0",
          "state": {
            "_dom_classes": [],
            "_model_module": "@jupyter-widgets/controls",
            "_model_module_version": "1.5.0",
            "_model_name": "ButtonModel",
            "_view_count": null,
            "_view_module": "@jupyter-widgets/controls",
            "_view_module_version": "1.5.0",
            "_view_name": "ButtonView",
            "button_style": "",
            "description": "WRONG! Number of mistakes left: 4",
            "disabled": false,
            "icon": "",
            "layout": "IPY_MODEL_5449032ea05a4a7cb743876584ed3bac",
            "style": "IPY_MODEL_352cacd804f8426194cf3dd939d442d0",
            "tooltip": ""
          }
        },
        "5449032ea05a4a7cb743876584ed3bac": {
          "model_module": "@jupyter-widgets/base",
          "model_name": "LayoutModel",
          "model_module_version": "1.2.0",
          "state": {
            "_model_module": "@jupyter-widgets/base",
            "_model_module_version": "1.2.0",
            "_model_name": "LayoutModel",
            "_view_count": null,
            "_view_module": "@jupyter-widgets/base",
            "_view_module_version": "1.2.0",
            "_view_name": "LayoutView",
            "align_content": null,
            "align_items": null,
            "align_self": null,
            "border": null,
            "bottom": null,
            "display": null,
            "flex": null,
            "flex_flow": null,
            "grid_area": null,
            "grid_auto_columns": null,
            "grid_auto_flow": null,
            "grid_auto_rows": null,
            "grid_column": null,
            "grid_gap": null,
            "grid_row": null,
            "grid_template_areas": null,
            "grid_template_columns": null,
            "grid_template_rows": null,
            "height": null,
            "justify_content": null,
            "justify_items": null,
            "left": null,
            "margin": null,
            "max_height": null,
            "max_width": null,
            "min_height": null,
            "min_width": null,
            "object_fit": null,
            "object_position": null,
            "order": null,
            "overflow": null,
            "overflow_x": null,
            "overflow_y": null,
            "padding": null,
            "right": null,
            "top": null,
            "visibility": null,
            "width": "270px"
          }
        },
        "352cacd804f8426194cf3dd939d442d0": {
          "model_module": "@jupyter-widgets/controls",
          "model_name": "ButtonStyleModel",
          "model_module_version": "1.5.0",
          "state": {
            "_model_module": "@jupyter-widgets/controls",
            "_model_module_version": "1.5.0",
            "_model_name": "ButtonStyleModel",
            "_view_count": null,
            "_view_module": "@jupyter-widgets/base",
            "_view_module_version": "1.2.0",
            "_view_name": "StyleView",
            "button_color": "pink",
            "font_weight": ""
          }
        },
        "44d75c7b64474e92a161cd3cbd103490": {
          "model_module": "@jupyter-widgets/controls",
          "model_name": "ButtonModel",
          "model_module_version": "1.5.0",
          "state": {
            "_dom_classes": [],
            "_model_module": "@jupyter-widgets/controls",
            "_model_module_version": "1.5.0",
            "_model_name": "ButtonModel",
            "_view_count": null,
            "_view_module": "@jupyter-widgets/controls",
            "_view_module_version": "1.5.0",
            "_view_name": "ButtonView",
            "button_style": "",
            "description": "Hidden word is: -E--A",
            "disabled": false,
            "icon": "",
            "layout": "IPY_MODEL_b8aa4e21d72744c0ac3ee44ec5733b8b",
            "style": "IPY_MODEL_780b35ec566741eca30d9308e2953d8f",
            "tooltip": ""
          }
        },
        "b8aa4e21d72744c0ac3ee44ec5733b8b": {
          "model_module": "@jupyter-widgets/base",
          "model_name": "LayoutModel",
          "model_module_version": "1.2.0",
          "state": {
            "_model_module": "@jupyter-widgets/base",
            "_model_module_version": "1.2.0",
            "_model_name": "LayoutModel",
            "_view_count": null,
            "_view_module": "@jupyter-widgets/base",
            "_view_module_version": "1.2.0",
            "_view_name": "LayoutView",
            "align_content": null,
            "align_items": null,
            "align_self": null,
            "border": null,
            "bottom": null,
            "display": null,
            "flex": null,
            "flex_flow": null,
            "grid_area": null,
            "grid_auto_columns": null,
            "grid_auto_flow": null,
            "grid_auto_rows": null,
            "grid_column": null,
            "grid_gap": null,
            "grid_row": null,
            "grid_template_areas": null,
            "grid_template_columns": null,
            "grid_template_rows": null,
            "height": null,
            "justify_content": null,
            "justify_items": null,
            "left": null,
            "margin": null,
            "max_height": null,
            "max_width": null,
            "min_height": null,
            "min_width": null,
            "object_fit": null,
            "object_position": null,
            "order": null,
            "overflow": null,
            "overflow_x": null,
            "overflow_y": null,
            "padding": null,
            "right": null,
            "top": null,
            "visibility": null,
            "width": "270px"
          }
        },
        "780b35ec566741eca30d9308e2953d8f": {
          "model_module": "@jupyter-widgets/controls",
          "model_name": "ButtonStyleModel",
          "model_module_version": "1.5.0",
          "state": {
            "_model_module": "@jupyter-widgets/controls",
            "_model_module_version": "1.5.0",
            "_model_name": "ButtonStyleModel",
            "_view_count": null,
            "_view_module": "@jupyter-widgets/base",
            "_view_module_version": "1.2.0",
            "_view_name": "StyleView",
            "button_color": "bisque",
            "font_weight": ""
          }
        },
        "644d883669f040b7a87a3905628ecad3": {
          "model_module": "@jupyter-widgets/controls",
          "model_name": "ButtonModel",
          "model_module_version": "1.5.0",
          "state": {
            "_dom_classes": [],
            "_model_module": "@jupyter-widgets/controls",
            "_model_module_version": "1.5.0",
            "_model_name": "ButtonModel",
            "_view_count": null,
            "_view_module": "@jupyter-widgets/controls",
            "_view_module_version": "1.5.0",
            "_view_name": "ButtonView",
            "button_style": "",
            "description": "Pick a letter",
            "disabled": false,
            "icon": "",
            "layout": "IPY_MODEL_fea7fae1e5974280b01c9189feafa37c",
            "style": "IPY_MODEL_41e5209e9ea94c789879fae604c9e69b",
            "tooltip": ""
          }
        },
        "fea7fae1e5974280b01c9189feafa37c": {
          "model_module": "@jupyter-widgets/base",
          "model_name": "LayoutModel",
          "model_module_version": "1.2.0",
          "state": {
            "_model_module": "@jupyter-widgets/base",
            "_model_module_version": "1.2.0",
            "_model_name": "LayoutModel",
            "_view_count": null,
            "_view_module": "@jupyter-widgets/base",
            "_view_module_version": "1.2.0",
            "_view_name": "LayoutView",
            "align_content": null,
            "align_items": null,
            "align_self": null,
            "border": null,
            "bottom": null,
            "display": null,
            "flex": null,
            "flex_flow": null,
            "grid_area": null,
            "grid_auto_columns": null,
            "grid_auto_flow": null,
            "grid_auto_rows": null,
            "grid_column": null,
            "grid_gap": null,
            "grid_row": null,
            "grid_template_areas": null,
            "grid_template_columns": null,
            "grid_template_rows": null,
            "height": null,
            "justify_content": null,
            "justify_items": null,
            "left": null,
            "margin": null,
            "max_height": null,
            "max_width": null,
            "min_height": null,
            "min_width": null,
            "object_fit": null,
            "object_position": null,
            "order": null,
            "overflow": null,
            "overflow_x": null,
            "overflow_y": null,
            "padding": null,
            "right": null,
            "top": null,
            "visibility": null,
            "width": "270px"
          }
        },
        "41e5209e9ea94c789879fae604c9e69b": {
          "model_module": "@jupyter-widgets/controls",
          "model_name": "ButtonStyleModel",
          "model_module_version": "1.5.0",
          "state": {
            "_model_module": "@jupyter-widgets/controls",
            "_model_module_version": "1.5.0",
            "_model_name": "ButtonStyleModel",
            "_view_count": null,
            "_view_module": "@jupyter-widgets/base",
            "_view_module_version": "1.2.0",
            "_view_name": "StyleView",
            "button_color": "bisque",
            "font_weight": ""
          }
        },
        "f33b17e703d54432bbb1b564c7d8a127": {
          "model_module": "@jupyter-widgets/controls",
          "model_name": "ButtonModel",
          "model_module_version": "1.5.0",
          "state": {
            "_dom_classes": [],
            "_model_module": "@jupyter-widgets/controls",
            "_model_module_version": "1.5.0",
            "_model_name": "ButtonModel",
            "_view_count": null,
            "_view_module": "@jupyter-widgets/controls",
            "_view_module_version": "1.5.0",
            "_view_name": "ButtonView",
            "button_style": "",
            "description": "WRONG! Number of mistakes left: 3",
            "disabled": false,
            "icon": "",
            "layout": "IPY_MODEL_c0eaa1a986f042cfbf99b3883bf299dd",
            "style": "IPY_MODEL_5e6d13498b634444a1ac9d14736dd8f7",
            "tooltip": ""
          }
        },
        "c0eaa1a986f042cfbf99b3883bf299dd": {
          "model_module": "@jupyter-widgets/base",
          "model_name": "LayoutModel",
          "model_module_version": "1.2.0",
          "state": {
            "_model_module": "@jupyter-widgets/base",
            "_model_module_version": "1.2.0",
            "_model_name": "LayoutModel",
            "_view_count": null,
            "_view_module": "@jupyter-widgets/base",
            "_view_module_version": "1.2.0",
            "_view_name": "LayoutView",
            "align_content": null,
            "align_items": null,
            "align_self": null,
            "border": null,
            "bottom": null,
            "display": null,
            "flex": null,
            "flex_flow": null,
            "grid_area": null,
            "grid_auto_columns": null,
            "grid_auto_flow": null,
            "grid_auto_rows": null,
            "grid_column": null,
            "grid_gap": null,
            "grid_row": null,
            "grid_template_areas": null,
            "grid_template_columns": null,
            "grid_template_rows": null,
            "height": null,
            "justify_content": null,
            "justify_items": null,
            "left": null,
            "margin": null,
            "max_height": null,
            "max_width": null,
            "min_height": null,
            "min_width": null,
            "object_fit": null,
            "object_position": null,
            "order": null,
            "overflow": null,
            "overflow_x": null,
            "overflow_y": null,
            "padding": null,
            "right": null,
            "top": null,
            "visibility": null,
            "width": "270px"
          }
        },
        "5e6d13498b634444a1ac9d14736dd8f7": {
          "model_module": "@jupyter-widgets/controls",
          "model_name": "ButtonStyleModel",
          "model_module_version": "1.5.0",
          "state": {
            "_model_module": "@jupyter-widgets/controls",
            "_model_module_version": "1.5.0",
            "_model_name": "ButtonStyleModel",
            "_view_count": null,
            "_view_module": "@jupyter-widgets/base",
            "_view_module_version": "1.2.0",
            "_view_name": "StyleView",
            "button_color": "pink",
            "font_weight": ""
          }
        },
        "2cd8128bde224b9ba90df31027121726": {
          "model_module": "@jupyter-widgets/controls",
          "model_name": "ButtonModel",
          "model_module_version": "1.5.0",
          "state": {
            "_dom_classes": [],
            "_model_module": "@jupyter-widgets/controls",
            "_model_module_version": "1.5.0",
            "_model_name": "ButtonModel",
            "_view_count": null,
            "_view_module": "@jupyter-widgets/controls",
            "_view_module_version": "1.5.0",
            "_view_name": "ButtonView",
            "button_style": "",
            "description": "Hidden word is: -E--A",
            "disabled": false,
            "icon": "",
            "layout": "IPY_MODEL_a8f50c04075c4a2987037a993528b3ae",
            "style": "IPY_MODEL_b21c91a4f5f14ac48c81ae95d8732538",
            "tooltip": ""
          }
        },
        "a8f50c04075c4a2987037a993528b3ae": {
          "model_module": "@jupyter-widgets/base",
          "model_name": "LayoutModel",
          "model_module_version": "1.2.0",
          "state": {
            "_model_module": "@jupyter-widgets/base",
            "_model_module_version": "1.2.0",
            "_model_name": "LayoutModel",
            "_view_count": null,
            "_view_module": "@jupyter-widgets/base",
            "_view_module_version": "1.2.0",
            "_view_name": "LayoutView",
            "align_content": null,
            "align_items": null,
            "align_self": null,
            "border": null,
            "bottom": null,
            "display": null,
            "flex": null,
            "flex_flow": null,
            "grid_area": null,
            "grid_auto_columns": null,
            "grid_auto_flow": null,
            "grid_auto_rows": null,
            "grid_column": null,
            "grid_gap": null,
            "grid_row": null,
            "grid_template_areas": null,
            "grid_template_columns": null,
            "grid_template_rows": null,
            "height": null,
            "justify_content": null,
            "justify_items": null,
            "left": null,
            "margin": null,
            "max_height": null,
            "max_width": null,
            "min_height": null,
            "min_width": null,
            "object_fit": null,
            "object_position": null,
            "order": null,
            "overflow": null,
            "overflow_x": null,
            "overflow_y": null,
            "padding": null,
            "right": null,
            "top": null,
            "visibility": null,
            "width": "270px"
          }
        },
        "b21c91a4f5f14ac48c81ae95d8732538": {
          "model_module": "@jupyter-widgets/controls",
          "model_name": "ButtonStyleModel",
          "model_module_version": "1.5.0",
          "state": {
            "_model_module": "@jupyter-widgets/controls",
            "_model_module_version": "1.5.0",
            "_model_name": "ButtonStyleModel",
            "_view_count": null,
            "_view_module": "@jupyter-widgets/base",
            "_view_module_version": "1.2.0",
            "_view_name": "StyleView",
            "button_color": "bisque",
            "font_weight": ""
          }
        },
        "72f5ce9324784af8a66bff42918c1126": {
          "model_module": "@jupyter-widgets/controls",
          "model_name": "ButtonModel",
          "model_module_version": "1.5.0",
          "state": {
            "_dom_classes": [],
            "_model_module": "@jupyter-widgets/controls",
            "_model_module_version": "1.5.0",
            "_model_name": "ButtonModel",
            "_view_count": null,
            "_view_module": "@jupyter-widgets/controls",
            "_view_module_version": "1.5.0",
            "_view_name": "ButtonView",
            "button_style": "",
            "description": "Pick a letter",
            "disabled": false,
            "icon": "",
            "layout": "IPY_MODEL_23438eadca5440cbb9cad13b2a02d1d3",
            "style": "IPY_MODEL_4d0ed7590c5847afb8d93715da7a7da0",
            "tooltip": ""
          }
        },
        "23438eadca5440cbb9cad13b2a02d1d3": {
          "model_module": "@jupyter-widgets/base",
          "model_name": "LayoutModel",
          "model_module_version": "1.2.0",
          "state": {
            "_model_module": "@jupyter-widgets/base",
            "_model_module_version": "1.2.0",
            "_model_name": "LayoutModel",
            "_view_count": null,
            "_view_module": "@jupyter-widgets/base",
            "_view_module_version": "1.2.0",
            "_view_name": "LayoutView",
            "align_content": null,
            "align_items": null,
            "align_self": null,
            "border": null,
            "bottom": null,
            "display": null,
            "flex": null,
            "flex_flow": null,
            "grid_area": null,
            "grid_auto_columns": null,
            "grid_auto_flow": null,
            "grid_auto_rows": null,
            "grid_column": null,
            "grid_gap": null,
            "grid_row": null,
            "grid_template_areas": null,
            "grid_template_columns": null,
            "grid_template_rows": null,
            "height": null,
            "justify_content": null,
            "justify_items": null,
            "left": null,
            "margin": null,
            "max_height": null,
            "max_width": null,
            "min_height": null,
            "min_width": null,
            "object_fit": null,
            "object_position": null,
            "order": null,
            "overflow": null,
            "overflow_x": null,
            "overflow_y": null,
            "padding": null,
            "right": null,
            "top": null,
            "visibility": null,
            "width": "270px"
          }
        },
        "4d0ed7590c5847afb8d93715da7a7da0": {
          "model_module": "@jupyter-widgets/controls",
          "model_name": "ButtonStyleModel",
          "model_module_version": "1.5.0",
          "state": {
            "_model_module": "@jupyter-widgets/controls",
            "_model_module_version": "1.5.0",
            "_model_name": "ButtonStyleModel",
            "_view_count": null,
            "_view_module": "@jupyter-widgets/base",
            "_view_module_version": "1.2.0",
            "_view_name": "StyleView",
            "button_color": "bisque",
            "font_weight": ""
          }
        },
        "95c25e10c9b047fabbb090b6e526b16f": {
          "model_module": "@jupyter-widgets/controls",
          "model_name": "ButtonModel",
          "model_module_version": "1.5.0",
          "state": {
            "_dom_classes": [],
            "_model_module": "@jupyter-widgets/controls",
            "_model_module_version": "1.5.0",
            "_model_name": "ButtonModel",
            "_view_count": null,
            "_view_module": "@jupyter-widgets/controls",
            "_view_module_version": "1.5.0",
            "_view_name": "ButtonView",
            "button_style": "",
            "description": "WRONG! Number of mistakes left: 2",
            "disabled": false,
            "icon": "",
            "layout": "IPY_MODEL_2d263c2c1072416188e81ddee9ace803",
            "style": "IPY_MODEL_22abd9e0fb5e42178966d2b587b9df7e",
            "tooltip": ""
          }
        },
        "2d263c2c1072416188e81ddee9ace803": {
          "model_module": "@jupyter-widgets/base",
          "model_name": "LayoutModel",
          "model_module_version": "1.2.0",
          "state": {
            "_model_module": "@jupyter-widgets/base",
            "_model_module_version": "1.2.0",
            "_model_name": "LayoutModel",
            "_view_count": null,
            "_view_module": "@jupyter-widgets/base",
            "_view_module_version": "1.2.0",
            "_view_name": "LayoutView",
            "align_content": null,
            "align_items": null,
            "align_self": null,
            "border": null,
            "bottom": null,
            "display": null,
            "flex": null,
            "flex_flow": null,
            "grid_area": null,
            "grid_auto_columns": null,
            "grid_auto_flow": null,
            "grid_auto_rows": null,
            "grid_column": null,
            "grid_gap": null,
            "grid_row": null,
            "grid_template_areas": null,
            "grid_template_columns": null,
            "grid_template_rows": null,
            "height": null,
            "justify_content": null,
            "justify_items": null,
            "left": null,
            "margin": null,
            "max_height": null,
            "max_width": null,
            "min_height": null,
            "min_width": null,
            "object_fit": null,
            "object_position": null,
            "order": null,
            "overflow": null,
            "overflow_x": null,
            "overflow_y": null,
            "padding": null,
            "right": null,
            "top": null,
            "visibility": null,
            "width": "270px"
          }
        },
        "22abd9e0fb5e42178966d2b587b9df7e": {
          "model_module": "@jupyter-widgets/controls",
          "model_name": "ButtonStyleModel",
          "model_module_version": "1.5.0",
          "state": {
            "_model_module": "@jupyter-widgets/controls",
            "_model_module_version": "1.5.0",
            "_model_name": "ButtonStyleModel",
            "_view_count": null,
            "_view_module": "@jupyter-widgets/base",
            "_view_module_version": "1.2.0",
            "_view_name": "StyleView",
            "button_color": "pink",
            "font_weight": ""
          }
        },
        "4db5f113de95436ab56b3ba493d6724b": {
          "model_module": "@jupyter-widgets/controls",
          "model_name": "ButtonModel",
          "model_module_version": "1.5.0",
          "state": {
            "_dom_classes": [],
            "_model_module": "@jupyter-widgets/controls",
            "_model_module_version": "1.5.0",
            "_model_name": "ButtonModel",
            "_view_count": null,
            "_view_module": "@jupyter-widgets/controls",
            "_view_module_version": "1.5.0",
            "_view_name": "ButtonView",
            "button_style": "",
            "description": "Hidden word is: -E--A",
            "disabled": false,
            "icon": "",
            "layout": "IPY_MODEL_1021626ef214494bac913dacd7a6f517",
            "style": "IPY_MODEL_f8c7ff76ad054d5ba4e1ee8c159466f8",
            "tooltip": ""
          }
        },
        "1021626ef214494bac913dacd7a6f517": {
          "model_module": "@jupyter-widgets/base",
          "model_name": "LayoutModel",
          "model_module_version": "1.2.0",
          "state": {
            "_model_module": "@jupyter-widgets/base",
            "_model_module_version": "1.2.0",
            "_model_name": "LayoutModel",
            "_view_count": null,
            "_view_module": "@jupyter-widgets/base",
            "_view_module_version": "1.2.0",
            "_view_name": "LayoutView",
            "align_content": null,
            "align_items": null,
            "align_self": null,
            "border": null,
            "bottom": null,
            "display": null,
            "flex": null,
            "flex_flow": null,
            "grid_area": null,
            "grid_auto_columns": null,
            "grid_auto_flow": null,
            "grid_auto_rows": null,
            "grid_column": null,
            "grid_gap": null,
            "grid_row": null,
            "grid_template_areas": null,
            "grid_template_columns": null,
            "grid_template_rows": null,
            "height": null,
            "justify_content": null,
            "justify_items": null,
            "left": null,
            "margin": null,
            "max_height": null,
            "max_width": null,
            "min_height": null,
            "min_width": null,
            "object_fit": null,
            "object_position": null,
            "order": null,
            "overflow": null,
            "overflow_x": null,
            "overflow_y": null,
            "padding": null,
            "right": null,
            "top": null,
            "visibility": null,
            "width": "270px"
          }
        },
        "f8c7ff76ad054d5ba4e1ee8c159466f8": {
          "model_module": "@jupyter-widgets/controls",
          "model_name": "ButtonStyleModel",
          "model_module_version": "1.5.0",
          "state": {
            "_model_module": "@jupyter-widgets/controls",
            "_model_module_version": "1.5.0",
            "_model_name": "ButtonStyleModel",
            "_view_count": null,
            "_view_module": "@jupyter-widgets/base",
            "_view_module_version": "1.2.0",
            "_view_name": "StyleView",
            "button_color": "bisque",
            "font_weight": ""
          }
        },
        "290ceba5ce654e849ccb400c34f84164": {
          "model_module": "@jupyter-widgets/controls",
          "model_name": "ButtonModel",
          "model_module_version": "1.5.0",
          "state": {
            "_dom_classes": [],
            "_model_module": "@jupyter-widgets/controls",
            "_model_module_version": "1.5.0",
            "_model_name": "ButtonModel",
            "_view_count": null,
            "_view_module": "@jupyter-widgets/controls",
            "_view_module_version": "1.5.0",
            "_view_name": "ButtonView",
            "button_style": "",
            "description": "Pick a letter",
            "disabled": false,
            "icon": "",
            "layout": "IPY_MODEL_430c6f9b448646dc8e76794edccb74a5",
            "style": "IPY_MODEL_be83afc4bdc9491ea51472e4ce1650dc",
            "tooltip": ""
          }
        },
        "430c6f9b448646dc8e76794edccb74a5": {
          "model_module": "@jupyter-widgets/base",
          "model_name": "LayoutModel",
          "model_module_version": "1.2.0",
          "state": {
            "_model_module": "@jupyter-widgets/base",
            "_model_module_version": "1.2.0",
            "_model_name": "LayoutModel",
            "_view_count": null,
            "_view_module": "@jupyter-widgets/base",
            "_view_module_version": "1.2.0",
            "_view_name": "LayoutView",
            "align_content": null,
            "align_items": null,
            "align_self": null,
            "border": null,
            "bottom": null,
            "display": null,
            "flex": null,
            "flex_flow": null,
            "grid_area": null,
            "grid_auto_columns": null,
            "grid_auto_flow": null,
            "grid_auto_rows": null,
            "grid_column": null,
            "grid_gap": null,
            "grid_row": null,
            "grid_template_areas": null,
            "grid_template_columns": null,
            "grid_template_rows": null,
            "height": null,
            "justify_content": null,
            "justify_items": null,
            "left": null,
            "margin": null,
            "max_height": null,
            "max_width": null,
            "min_height": null,
            "min_width": null,
            "object_fit": null,
            "object_position": null,
            "order": null,
            "overflow": null,
            "overflow_x": null,
            "overflow_y": null,
            "padding": null,
            "right": null,
            "top": null,
            "visibility": null,
            "width": "270px"
          }
        },
        "be83afc4bdc9491ea51472e4ce1650dc": {
          "model_module": "@jupyter-widgets/controls",
          "model_name": "ButtonStyleModel",
          "model_module_version": "1.5.0",
          "state": {
            "_model_module": "@jupyter-widgets/controls",
            "_model_module_version": "1.5.0",
            "_model_name": "ButtonStyleModel",
            "_view_count": null,
            "_view_module": "@jupyter-widgets/base",
            "_view_module_version": "1.2.0",
            "_view_name": "StyleView",
            "button_color": "bisque",
            "font_weight": ""
          }
        },
        "a2a4f2b08cb346aaab835e918285d280": {
          "model_module": "@jupyter-widgets/controls",
          "model_name": "ButtonModel",
          "model_module_version": "1.5.0",
          "state": {
            "_dom_classes": [],
            "_model_module": "@jupyter-widgets/controls",
            "_model_module_version": "1.5.0",
            "_model_name": "ButtonModel",
            "_view_count": null,
            "_view_module": "@jupyter-widgets/controls",
            "_view_module_version": "1.5.0",
            "_view_name": "ButtonView",
            "button_style": "",
            "description": "WRONG! Number of mistakes left: 1",
            "disabled": false,
            "icon": "",
            "layout": "IPY_MODEL_b330b3dade9a48b7bf61231e08a4b5c7",
            "style": "IPY_MODEL_6c517a48d32a4ceb8f023bdc43a26489",
            "tooltip": ""
          }
        },
        "b330b3dade9a48b7bf61231e08a4b5c7": {
          "model_module": "@jupyter-widgets/base",
          "model_name": "LayoutModel",
          "model_module_version": "1.2.0",
          "state": {
            "_model_module": "@jupyter-widgets/base",
            "_model_module_version": "1.2.0",
            "_model_name": "LayoutModel",
            "_view_count": null,
            "_view_module": "@jupyter-widgets/base",
            "_view_module_version": "1.2.0",
            "_view_name": "LayoutView",
            "align_content": null,
            "align_items": null,
            "align_self": null,
            "border": null,
            "bottom": null,
            "display": null,
            "flex": null,
            "flex_flow": null,
            "grid_area": null,
            "grid_auto_columns": null,
            "grid_auto_flow": null,
            "grid_auto_rows": null,
            "grid_column": null,
            "grid_gap": null,
            "grid_row": null,
            "grid_template_areas": null,
            "grid_template_columns": null,
            "grid_template_rows": null,
            "height": null,
            "justify_content": null,
            "justify_items": null,
            "left": null,
            "margin": null,
            "max_height": null,
            "max_width": null,
            "min_height": null,
            "min_width": null,
            "object_fit": null,
            "object_position": null,
            "order": null,
            "overflow": null,
            "overflow_x": null,
            "overflow_y": null,
            "padding": null,
            "right": null,
            "top": null,
            "visibility": null,
            "width": "270px"
          }
        },
        "6c517a48d32a4ceb8f023bdc43a26489": {
          "model_module": "@jupyter-widgets/controls",
          "model_name": "ButtonStyleModel",
          "model_module_version": "1.5.0",
          "state": {
            "_model_module": "@jupyter-widgets/controls",
            "_model_module_version": "1.5.0",
            "_model_name": "ButtonStyleModel",
            "_view_count": null,
            "_view_module": "@jupyter-widgets/base",
            "_view_module_version": "1.2.0",
            "_view_name": "StyleView",
            "button_color": "pink",
            "font_weight": ""
          }
        },
        "39034bd355d94d658cd174cb5076c564": {
          "model_module": "@jupyter-widgets/controls",
          "model_name": "ButtonModel",
          "model_module_version": "1.5.0",
          "state": {
            "_dom_classes": [],
            "_model_module": "@jupyter-widgets/controls",
            "_model_module_version": "1.5.0",
            "_model_name": "ButtonModel",
            "_view_count": null,
            "_view_module": "@jupyter-widgets/controls",
            "_view_module_version": "1.5.0",
            "_view_name": "ButtonView",
            "button_style": "",
            "description": "Hidden word is: -E--A",
            "disabled": false,
            "icon": "",
            "layout": "IPY_MODEL_467de3885b5545fa9965745e10d4d68e",
            "style": "IPY_MODEL_03671bf7b14945bfa0a7d020aa010e1a",
            "tooltip": ""
          }
        },
        "467de3885b5545fa9965745e10d4d68e": {
          "model_module": "@jupyter-widgets/base",
          "model_name": "LayoutModel",
          "model_module_version": "1.2.0",
          "state": {
            "_model_module": "@jupyter-widgets/base",
            "_model_module_version": "1.2.0",
            "_model_name": "LayoutModel",
            "_view_count": null,
            "_view_module": "@jupyter-widgets/base",
            "_view_module_version": "1.2.0",
            "_view_name": "LayoutView",
            "align_content": null,
            "align_items": null,
            "align_self": null,
            "border": null,
            "bottom": null,
            "display": null,
            "flex": null,
            "flex_flow": null,
            "grid_area": null,
            "grid_auto_columns": null,
            "grid_auto_flow": null,
            "grid_auto_rows": null,
            "grid_column": null,
            "grid_gap": null,
            "grid_row": null,
            "grid_template_areas": null,
            "grid_template_columns": null,
            "grid_template_rows": null,
            "height": null,
            "justify_content": null,
            "justify_items": null,
            "left": null,
            "margin": null,
            "max_height": null,
            "max_width": null,
            "min_height": null,
            "min_width": null,
            "object_fit": null,
            "object_position": null,
            "order": null,
            "overflow": null,
            "overflow_x": null,
            "overflow_y": null,
            "padding": null,
            "right": null,
            "top": null,
            "visibility": null,
            "width": "270px"
          }
        },
        "03671bf7b14945bfa0a7d020aa010e1a": {
          "model_module": "@jupyter-widgets/controls",
          "model_name": "ButtonStyleModel",
          "model_module_version": "1.5.0",
          "state": {
            "_model_module": "@jupyter-widgets/controls",
            "_model_module_version": "1.5.0",
            "_model_name": "ButtonStyleModel",
            "_view_count": null,
            "_view_module": "@jupyter-widgets/base",
            "_view_module_version": "1.2.0",
            "_view_name": "StyleView",
            "button_color": "bisque",
            "font_weight": ""
          }
        },
        "b6a06f1d6653471182538536ea890b47": {
          "model_module": "@jupyter-widgets/controls",
          "model_name": "ButtonModel",
          "model_module_version": "1.5.0",
          "state": {
            "_dom_classes": [],
            "_model_module": "@jupyter-widgets/controls",
            "_model_module_version": "1.5.0",
            "_model_name": "ButtonModel",
            "_view_count": null,
            "_view_module": "@jupyter-widgets/controls",
            "_view_module_version": "1.5.0",
            "_view_name": "ButtonView",
            "button_style": "",
            "description": "Pick a letter",
            "disabled": false,
            "icon": "",
            "layout": "IPY_MODEL_2bd54c751e2f43dc99372e4db6d7a5c1",
            "style": "IPY_MODEL_adc8989754f4474ba469fc305947205a",
            "tooltip": ""
          }
        },
        "2bd54c751e2f43dc99372e4db6d7a5c1": {
          "model_module": "@jupyter-widgets/base",
          "model_name": "LayoutModel",
          "model_module_version": "1.2.0",
          "state": {
            "_model_module": "@jupyter-widgets/base",
            "_model_module_version": "1.2.0",
            "_model_name": "LayoutModel",
            "_view_count": null,
            "_view_module": "@jupyter-widgets/base",
            "_view_module_version": "1.2.0",
            "_view_name": "LayoutView",
            "align_content": null,
            "align_items": null,
            "align_self": null,
            "border": null,
            "bottom": null,
            "display": null,
            "flex": null,
            "flex_flow": null,
            "grid_area": null,
            "grid_auto_columns": null,
            "grid_auto_flow": null,
            "grid_auto_rows": null,
            "grid_column": null,
            "grid_gap": null,
            "grid_row": null,
            "grid_template_areas": null,
            "grid_template_columns": null,
            "grid_template_rows": null,
            "height": null,
            "justify_content": null,
            "justify_items": null,
            "left": null,
            "margin": null,
            "max_height": null,
            "max_width": null,
            "min_height": null,
            "min_width": null,
            "object_fit": null,
            "object_position": null,
            "order": null,
            "overflow": null,
            "overflow_x": null,
            "overflow_y": null,
            "padding": null,
            "right": null,
            "top": null,
            "visibility": null,
            "width": "270px"
          }
        },
        "adc8989754f4474ba469fc305947205a": {
          "model_module": "@jupyter-widgets/controls",
          "model_name": "ButtonStyleModel",
          "model_module_version": "1.5.0",
          "state": {
            "_model_module": "@jupyter-widgets/controls",
            "_model_module_version": "1.5.0",
            "_model_name": "ButtonStyleModel",
            "_view_count": null,
            "_view_module": "@jupyter-widgets/base",
            "_view_module_version": "1.2.0",
            "_view_name": "StyleView",
            "button_color": "bisque",
            "font_weight": ""
          }
        }
      }
    }
  },
  "nbformat": 4,
  "nbformat_minor": 5
}