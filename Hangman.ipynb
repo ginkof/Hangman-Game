{
  "cells": [
    {
      "cell_type": "markdown",
      "metadata": {
        "id": "view-in-github",
        "colab_type": "text"
      },
      "source": [
        "<a href=\"https://colab.research.google.com/github/ginkof/Hangman-Game/blob/main/Hangman.ipynb\" target=\"_parent\"><img src=\"https://colab.research.google.com/assets/colab-badge.svg\" alt=\"Open In Colab\"/></a>"
      ]
    },
    {
      "cell_type": "markdown",
      "id": "649cee80-bfe9-4cf7-955b-560a475b94d7",
      "metadata": {
        "id": "649cee80-bfe9-4cf7-955b-560a475b94d7"
      },
      "source": [
        "# Hangman game"
      ]
    },
    {
      "cell_type": "markdown",
      "id": "451fb977-2ab3-4c26-b7d6-dee486eef375",
      "metadata": {
        "id": "451fb977-2ab3-4c26-b7d6-dee486eef375"
      },
      "source": [
        "Hangman is a guessing game where the player(s) try to guess the word by suggesting a letters.  \n",
        "Player is allowed a certain number of mistakes.  \n",
        "The game starts with a word where all letters are replaced with a `-` so the only information available to a player is a number of letters in a word.  \n",
        "**Start**: `------`  \n",
        "For each correctly guessed letter, a position of the letter is revealed (if there are multiple positions for a same letter, they are all revealed.  \n",
        "**Correct**: `-E--E-`  \n",
        "For each wrongly guessed letter, number of allowed mistakes decreases by 1.  \n",
        "**Wrong**: 'Number of allowed mistakes is now 5'"
      ]
    },
    {
      "cell_type": "markdown",
      "id": "ba3d2b29-e8f8-43fd-91c4-ab89fb4a611b",
      "metadata": {
        "id": "ba3d2b29-e8f8-43fd-91c4-ab89fb4a611b"
      },
      "source": [
        "Name of the game comes from a drawing of a hanged stick figure. For every mistake a new element of a hanged figure is added.  \n",
        "If a player guesses a word before the last element of a figure is added, a player wins.  \n",
        "If a player doesn't guess a word before the last element of a figure is added, player loses."
      ]
    },
    {
      "cell_type": "markdown",
      "id": "1d2579aa-e600-4e7a-ba90-93e628749ce0",
      "metadata": {
        "tags": [],
        "id": "1d2579aa-e600-4e7a-ba90-93e628749ce0"
      },
      "source": [
        "**Here you can see a simulation of 3 different steps:**  \n",
        "Hidden word is: ------  \n",
        "==============================================================  \n",
        "Pick a letter:  \n",
        " S  \n",
        "Correct! There is a letter S in a secret word!  \n",
        "S-----  \n",
        "==============================================================  \n",
        "Pick a letter:  \n",
        " V  \n",
        "WRONG! Number of mistakes left: 5  \n",
        "  \n",
        "        ____________  \n",
        "         |  \n",
        "         O  \n",
        "==============================================================  \n",
        "Pick a letter:  \n",
        " L  \n",
        "WRONG! Number of mistakes left: 4  \n",
        "  \n",
        "        ____________  \n",
        "         |  \n",
        "         O  \n",
        "        /  \n",
        "==============================================================  \n",
        "Pick a letter:  "
      ]
    },
    {
      "cell_type": "markdown",
      "id": "94acc394-2211-4f74-bb29-ec5cea076fa4",
      "metadata": {
        "id": "94acc394-2211-4f74-bb29-ec5cea076fa4"
      },
      "source": [
        "## Try to create a hangman game on your own using what you have learned so far."
      ]
    },
    {
      "cell_type": "code",
      "execution_count": null,
      "id": "0fc7d9fd-0ba4-474f-8ae6-a7fd4b399b8e",
      "metadata": {
        "id": "0fc7d9fd-0ba4-474f-8ae6-a7fd4b399b8e"
      },
      "outputs": [],
      "source": [
        "# your code here"
      ]
    },
    {
      "cell_type": "markdown",
      "id": "a2fd839d-c31d-4c2a-af33-6f7551effcc9",
      "metadata": {
        "id": "a2fd839d-c31d-4c2a-af33-6f7551effcc9"
      },
      "source": [
        "### Step-by-step solution"
      ]
    },
    {
      "cell_type": "markdown",
      "id": "4340fe5b-c87a-419d-a0c1-8fdf44377308",
      "metadata": {
        "id": "4340fe5b-c87a-419d-a0c1-8fdf44377308"
      },
      "source": [
        "#### &nbsp;1. step"
      ]
    },
    {
      "cell_type": "markdown",
      "id": "ed05cb0b-111d-4093-b9de-78abd9b3ca8d",
      "metadata": {
        "id": "ed05cb0b-111d-4093-b9de-78abd9b3ca8d"
      },
      "source": [
        "- Create a variable `word` and give it a value of a single word string (all in capitals!) \n",
        "- Create a variable `hidden_word` that will have the same length as `word` but all characters are replaced with dashes `-`\n",
        "- Print out the `hidden_word` in a statement 'Hidden word is: `{hidden_word}`\n",
        "- Create a variable `picked_letter` that will take an `input()` from a user (make sure case matches the `word` case)\n",
        "- Create a single if/else statement that will check if a `word` contains the `picked_letter` (count bigger than 0).  \n",
        "    Print the outcome 'CORRECT! The word contains the letter `picked_letter`' if condition is True  \n",
        "    Print the outcome 'WRONG!' If condition is False"
      ]
    },
    {
      "cell_type": "code",
      "execution_count": null,
      "id": "35e91f75-162e-4da8-8059-076d03280e77",
      "metadata": {
        "id": "35e91f75-162e-4da8-8059-076d03280e77",
        "colab": {
          "base_uri": "https://localhost:8080/"
        },
        "outputId": "b8e0e1bc-d47e-4bb5-a79f-f78fddbb54c5"
      },
      "outputs": [
        {
          "output_type": "stream",
          "name": "stdout",
          "text": [
            "Hidden word is: -------\n",
            "Choose a letter\n",
            "A\n",
            "CORRECT! The word contains the letter A\n"
          ]
        }
      ],
      "source": [
        "# your code here\n",
        "\n",
        "#Create a variable word and give it a value of a single word string\n",
        "word = 'ABCDEFG'\n",
        "\n",
        "#Create a variable hidden_word, same length as word whose characters are dashes -\n",
        "hidden_word = '-------'\n",
        "\n",
        "#Print out the hidden_word\n",
        "print(f'Hidden word is: {hidden_word}')\n",
        "\n",
        "#Create a variable picked_letter\n",
        "print('Choose a letter')\n",
        "picked_letter = input().capitalize()\n",
        "\n",
        "#Create a single if/else statement that will check if a word contains the picked_letter\n",
        "if(picked_letter in word):\n",
        "  print(f'CORRECT! The word contains the letter {picked_letter}')\n",
        "else:\n",
        "  print('WRONG!')\n"
      ]
    },
    {
      "cell_type": "markdown",
      "id": "5ae4a8f1-1dff-4197-a884-c7af858522d9",
      "metadata": {
        "jp-MarkdownHeadingCollapsed": true,
        "tags": [],
        "id": "5ae4a8f1-1dff-4197-a884-c7af858522d9"
      },
      "source": [
        "##### Solution"
      ]
    },
    {
      "cell_type": "code",
      "execution_count": null,
      "id": "5eef4d8d-69fd-49e9-847c-c9f0110fecc6",
      "metadata": {
        "id": "5eef4d8d-69fd-49e9-847c-c9f0110fecc6",
        "outputId": "bc922067-6d13-4d04-a354-61e8127c37a0",
        "colab": {
          "base_uri": "https://localhost:8080/"
        }
      },
      "outputs": [
        {
          "output_type": "stream",
          "name": "stdout",
          "text": [
            "Hidden word is ------\n",
            "S\n",
            "CORRECT! The word contains the S\n"
          ]
        }
      ],
      "source": [
        "word = 'SECRET'\n",
        "hidden_word = '-'*len(word)\n",
        "print(f'Hidden word is {hidden_word}')\n",
        "picked_letter = input().capitalize()\n",
        "if word.count(picked_letter) > 0:\n",
        "    print(f'CORRECT! The word contains the {picked_letter}')\n",
        "else:\n",
        "    print(f'WRONG!')"
      ]
    },
    {
      "cell_type": "markdown",
      "id": "a09706f8-26dd-4bcc-bf71-dbccbdc986c4",
      "metadata": {
        "tags": [],
        "id": "a09706f8-26dd-4bcc-bf71-dbccbdc986c4"
      },
      "source": [
        "#### &nbsp;2. step"
      ]
    },
    {
      "cell_type": "markdown",
      "id": "1ea2d189-3777-4300-bf17-fc95cd2588d3",
      "metadata": {
        "id": "1ea2d189-3777-4300-bf17-fc95cd2588d3"
      },
      "source": [
        "- Copy your solution from the 1. step\n",
        "- Create a variable `mistake_count` and set the value to 6\n",
        "- Create a while loop that will loop as long as the `mistake_count` is bigger than 0\n",
        "- Place the if/else statement from the step 1 inside the while loop\n",
        "- Every time player makes a mistake (condition of if/else is False) decrease the `mistake_count` by one\n",
        "- Change the 'WRONG' printout to: 'WRONG! Number of mistakes left: `{mistake_count}`'\n",
        "- Place the code where you take input from a user inside the while loop so every new itteration a player can give a new letter\n",
        "- Before the input from a user add code that will print text 'Pick a letter:'\n",
        "- After and outside the while loop create an if statement that askes if a `mistake_count` is equal to 0 and if condition is true print 'HANGED!!' as this will happen when game is lost\n",
        "\n",
        "This solution will only stop if player makes a wrong guess 6 times so if you don't want to continue press the squared stop button to interrupt the while loop manually"
      ]
    },
    {
      "cell_type": "code",
      "execution_count": null,
      "id": "15e7f2f8-d87d-436b-8bae-20855ed32191",
      "metadata": {
        "id": "15e7f2f8-d87d-436b-8bae-20855ed32191",
        "colab": {
          "base_uri": "https://localhost:8080/",
          "height": 648
        },
        "outputId": "3e7f4b13-8a10-41b1-9dda-f4e189ada771"
      },
      "outputs": [
        {
          "output_type": "stream",
          "name": "stdout",
          "text": [
            "Hidden word is: -------\n",
            "Pick a letter\n",
            "E\n",
            "CORRECT! The word contains the letter E\n",
            "Pick a letter\n",
            "C\n",
            "CORRECT! The word contains the letter C\n",
            "Pick a letter\n",
            "R\n",
            "WRONG! Number of mistakes left: 5\n",
            "Pick a letter\n",
            "E\n",
            "CORRECT! The word contains the letter E\n",
            "Pick a letter\n",
            "T\n",
            "WRONG! Number of mistakes left: 4\n",
            "Pick a letter\n"
          ]
        },
        {
          "output_type": "error",
          "ename": "KeyboardInterrupt",
          "evalue": "ignored",
          "traceback": [
            "\u001b[0;31m---------------------------------------------------------------------------\u001b[0m",
            "\u001b[0;31mKeyboardInterrupt\u001b[0m                         Traceback (most recent call last)",
            "\u001b[0;32m<ipython-input-55-37a640b2d402>\u001b[0m in \u001b[0;36m<module>\u001b[0;34m\u001b[0m\n\u001b[1;32m     10\u001b[0m \u001b[0;32mwhile\u001b[0m \u001b[0mmistake_count\u001b[0m\u001b[0;34m>\u001b[0m\u001b[0;36m0\u001b[0m\u001b[0;34m:\u001b[0m\u001b[0;34m\u001b[0m\u001b[0;34m\u001b[0m\u001b[0m\n\u001b[1;32m     11\u001b[0m   \u001b[0mprint\u001b[0m\u001b[0;34m(\u001b[0m\u001b[0;34m'Pick a letter'\u001b[0m\u001b[0;34m)\u001b[0m\u001b[0;34m\u001b[0m\u001b[0;34m\u001b[0m\u001b[0m\n\u001b[0;32m---> 12\u001b[0;31m   \u001b[0mpicked_letter\u001b[0m \u001b[0;34m=\u001b[0m \u001b[0minput\u001b[0m\u001b[0;34m(\u001b[0m\u001b[0;34m)\u001b[0m\u001b[0;34m.\u001b[0m\u001b[0mcapitalize\u001b[0m\u001b[0;34m(\u001b[0m\u001b[0;34m)\u001b[0m\u001b[0;34m\u001b[0m\u001b[0;34m\u001b[0m\u001b[0m\n\u001b[0m\u001b[1;32m     13\u001b[0m \u001b[0;34m\u001b[0m\u001b[0m\n\u001b[1;32m     14\u001b[0m   \u001b[0;32mif\u001b[0m\u001b[0;34m(\u001b[0m\u001b[0mpicked_letter\u001b[0m \u001b[0;32min\u001b[0m \u001b[0mword\u001b[0m\u001b[0;34m)\u001b[0m\u001b[0;34m:\u001b[0m\u001b[0;34m\u001b[0m\u001b[0;34m\u001b[0m\u001b[0m\n",
            "\u001b[0;32m/usr/local/lib/python3.9/dist-packages/ipykernel/kernelbase.py\u001b[0m in \u001b[0;36mraw_input\u001b[0;34m(self, prompt)\u001b[0m\n\u001b[1;32m    858\u001b[0m                 \u001b[0;34m\"raw_input was called, but this frontend does not support input requests.\"\u001b[0m\u001b[0;34m\u001b[0m\u001b[0;34m\u001b[0m\u001b[0m\n\u001b[1;32m    859\u001b[0m             )\n\u001b[0;32m--> 860\u001b[0;31m         return self._input_request(str(prompt),\n\u001b[0m\u001b[1;32m    861\u001b[0m             \u001b[0mself\u001b[0m\u001b[0;34m.\u001b[0m\u001b[0m_parent_ident\u001b[0m\u001b[0;34m,\u001b[0m\u001b[0;34m\u001b[0m\u001b[0;34m\u001b[0m\u001b[0m\n\u001b[1;32m    862\u001b[0m             \u001b[0mself\u001b[0m\u001b[0;34m.\u001b[0m\u001b[0m_parent_header\u001b[0m\u001b[0;34m,\u001b[0m\u001b[0;34m\u001b[0m\u001b[0;34m\u001b[0m\u001b[0m\n",
            "\u001b[0;32m/usr/local/lib/python3.9/dist-packages/ipykernel/kernelbase.py\u001b[0m in \u001b[0;36m_input_request\u001b[0;34m(self, prompt, ident, parent, password)\u001b[0m\n\u001b[1;32m    902\u001b[0m             \u001b[0;32mexcept\u001b[0m \u001b[0mKeyboardInterrupt\u001b[0m\u001b[0;34m:\u001b[0m\u001b[0;34m\u001b[0m\u001b[0;34m\u001b[0m\u001b[0m\n\u001b[1;32m    903\u001b[0m                 \u001b[0;31m# re-raise KeyboardInterrupt, to truncate traceback\u001b[0m\u001b[0;34m\u001b[0m\u001b[0;34m\u001b[0m\u001b[0m\n\u001b[0;32m--> 904\u001b[0;31m                 \u001b[0;32mraise\u001b[0m \u001b[0mKeyboardInterrupt\u001b[0m\u001b[0;34m(\u001b[0m\u001b[0;34m\"Interrupted by user\"\u001b[0m\u001b[0;34m)\u001b[0m \u001b[0;32mfrom\u001b[0m \u001b[0;32mNone\u001b[0m\u001b[0;34m\u001b[0m\u001b[0;34m\u001b[0m\u001b[0m\n\u001b[0m\u001b[1;32m    905\u001b[0m             \u001b[0;32mexcept\u001b[0m \u001b[0mException\u001b[0m \u001b[0;32mas\u001b[0m \u001b[0me\u001b[0m\u001b[0;34m:\u001b[0m\u001b[0;34m\u001b[0m\u001b[0;34m\u001b[0m\u001b[0m\n\u001b[1;32m    906\u001b[0m                 \u001b[0mself\u001b[0m\u001b[0;34m.\u001b[0m\u001b[0mlog\u001b[0m\u001b[0;34m.\u001b[0m\u001b[0mwarning\u001b[0m\u001b[0;34m(\u001b[0m\u001b[0;34m\"Invalid Message:\"\u001b[0m\u001b[0;34m,\u001b[0m \u001b[0mexc_info\u001b[0m\u001b[0;34m=\u001b[0m\u001b[0;32mTrue\u001b[0m\u001b[0;34m)\u001b[0m\u001b[0;34m\u001b[0m\u001b[0;34m\u001b[0m\u001b[0m\n",
            "\u001b[0;31mKeyboardInterrupt\u001b[0m: Interrupted by user"
          ]
        }
      ],
      "source": [
        "# your code here\n",
        "\n",
        "word = 'ABCDEFG'\n",
        "hidden_word = '-------'\n",
        "mistake_count = 6\n",
        "\n",
        "#Print out the hidden_word\n",
        "print(f'Hidden word is: {hidden_word}')\n",
        "\n",
        "while mistake_count>0:\n",
        "  print('Pick a letter')\n",
        "  picked_letter = input().capitalize()\n",
        "\n",
        "  if(picked_letter in word):\n",
        "    print(f'CORRECT! The word contains the letter {picked_letter}')\n",
        "  else:\n",
        "    mistake_count -= 1\n",
        "    print(f'WRONG! Number of mistakes left: {mistake_count}')\n",
        "\n",
        "if mistake_count == 0:\n",
        "  print('r')\n",
        "  print('HANGED!')\n"
      ]
    },
    {
      "cell_type": "markdown",
      "id": "86b350e4-45d5-4e6f-9517-4b9bc2284cee",
      "metadata": {
        "jp-MarkdownHeadingCollapsed": true,
        "tags": [],
        "id": "86b350e4-45d5-4e6f-9517-4b9bc2284cee"
      },
      "source": [
        "##### Solution"
      ]
    },
    {
      "cell_type": "code",
      "execution_count": null,
      "id": "192b3ad5-13eb-472b-8b1f-9696f8a21a2e",
      "metadata": {
        "id": "192b3ad5-13eb-472b-8b1f-9696f8a21a2e"
      },
      "outputs": [],
      "source": [
        "word = 'SECRET'\n",
        "hidden_word = '-'*len(word)\n",
        "print(f'Hidden word is {hidden_word}')\n",
        "mistake_count = 6\n",
        "while mistake_count > 0:\n",
        "    print('Pick a letter:')\n",
        "    picked_letter = input().capitalize()\n",
        "    if word.count(picked_letter) > 0:\n",
        "        print(f'CORRECT! The word contains the {picked_letter}')\n",
        "    else:\n",
        "        mistake_count -= 1\n",
        "        print(f'WRONG! Number of mistakes left: {mistake_count}')\n",
        "if mistake_count == 0:\n",
        "    print('HANGED!!!')"
      ]
    },
    {
      "cell_type": "markdown",
      "id": "0fba1bf6-c7f5-4553-b97e-f8690a93574b",
      "metadata": {
        "id": "0fba1bf6-c7f5-4553-b97e-f8690a93574b"
      },
      "source": [
        "#### &nbsp;3. step"
      ]
    },
    {
      "cell_type": "markdown",
      "id": "6ded2788-7c29-42db-8f01-60155bbf4f4f",
      "metadata": {
        "id": "6ded2788-7c29-42db-8f01-60155bbf4f4f"
      },
      "source": [
        "- Copy your solution from the 2. step\n",
        "- Inside the while loop create a variable `letter_count` and set it to 0 (to count how many times `picked_letter` appears in a `word`)\n",
        "- Inside the while loop create a variable `index_count` and set it to 0 (to count the position of a `picked_letter` in a `word`)\n",
        "- Create a for loop inside the while loop that will itterate over all letters in a `word`\n",
        "- Inside the for loop create an if statement that will check if a letter is equal to a picked_letter  \n",
        "    If the condition is true, break the hidden word so it consist of: first part of hidden word ('--') + picked_letter + second part of hidden word ('---') - index_count will help you with positions  \n",
        "    Also, if condition is true increase the letter_count by 1\n",
        "- Inside the for loop increase the index_count by 1 for each itteration\n",
        "- In the (`if word.count(picked_letter) > 0:`) add another print: `hidden word`\n",
        "- add another condition to while loop That will check if number of dashes `-` inside the `hidden_word` is different than 0 \n",
        "- Outside the while loop after the existing `if mistake_count == 0` add one else and inside of it print out the 'CONGRATULATIONS'"
      ]
    },
    {
      "cell_type": "code",
      "execution_count": null,
      "id": "2aa101ec-a9af-47f0-bd8c-e29e9294e2cb",
      "metadata": {
        "id": "2aa101ec-a9af-47f0-bd8c-e29e9294e2cb",
        "colab": {
          "base_uri": "https://localhost:8080/"
        },
        "outputId": "83745819-82a6-4f68-fa4b-0731255c4240"
      },
      "outputs": [
        {
          "output_type": "stream",
          "name": "stdout",
          "text": [
            "Hidden word is: ------\n",
            "Pick a letter\n",
            "S\n",
            "CORRECT! The word contains the letter S\n",
            "Hidden word is: S-----\n",
            "\n",
            "Pick a letter\n",
            "F\n",
            "WRONG! Number of mistakes left: 5\n",
            "Pick a letter\n",
            "E\n",
            "CORRECT! The word contains the letter E\n",
            "Hidden word is: SE--E-\n",
            "\n",
            "Pick a letter\n",
            "C\n",
            "CORRECT! The word contains the letter C\n",
            "Hidden word is: SEC-E-\n",
            "\n",
            "Pick a letter\n",
            "R\n",
            "CORRECT! The word contains the letter R\n",
            "Hidden word is: SECRE-\n",
            "\n",
            "Pick a letter\n",
            "T\n",
            "CORRECT! The word contains the letter T\n",
            "Hidden word is: SECRET\n",
            "\n",
            "CONGRATULATIONS! The hidden word is SECRET\n"
          ]
        }
      ],
      "source": [
        "# your code here\n",
        "\n",
        "word = 'SECRET'\n",
        "hidden_word = '------'\n",
        "mistake_count = 6\n",
        "\n",
        "#Print out the hidden_word\n",
        "print(f'Hidden word is: {hidden_word}')\n",
        "\n",
        "while mistake_count>0 and hidden_word.count('-')>0:\n",
        "  print('Pick a letter')\n",
        "  picked_letter = input().capitalize()\n",
        "  #to count how many times picked_letter appears in a word\n",
        "  letter_count=0\n",
        "  #to count the position of a picked_letter in a word\n",
        "  index_count=0\n",
        "\n",
        "  if(picked_letter in word):\n",
        "    print(f'CORRECT! The word contains the letter {picked_letter}')\n",
        "    #Now we count how many times picked_letter appears in word\n",
        "    for letter in word:\n",
        "      if picked_letter == letter:\n",
        "       hidden_word = hidden_word[:index_count] + picked_letter + hidden_word[index_count+1:]\n",
        "      index_count += 1\n",
        "    print(f'Hidden word is: {hidden_word}')\n",
        "    print('')\n",
        "  else:\n",
        "    mistake_count -= 1\n",
        "    print(f'WRONG! Number of mistakes left: {mistake_count}')\n",
        "\n",
        "if mistake_count == 0:\n",
        "  print('')\n",
        "  print('HANGED!')\n",
        "else:\n",
        "  print(f'CONGRATULATIONS! The hidden word is {hidden_word}')\n"
      ]
    },
    {
      "cell_type": "markdown",
      "id": "2cdc5c9b-0d96-44d0-918b-8fa2a1b07413",
      "metadata": {
        "jp-MarkdownHeadingCollapsed": true,
        "tags": [],
        "id": "2cdc5c9b-0d96-44d0-918b-8fa2a1b07413"
      },
      "source": [
        "##### Solution"
      ]
    },
    {
      "cell_type": "code",
      "execution_count": null,
      "id": "990aac1d-7c5b-4afe-8f49-1d303fd7b7c5",
      "metadata": {
        "tags": [],
        "id": "990aac1d-7c5b-4afe-8f49-1d303fd7b7c5"
      },
      "outputs": [],
      "source": [
        "word = 'SECRET'\n",
        "hidden_word = '-'*len(word)\n",
        "mistake_count = 6\n",
        "print(f'Hidden word is {hidden_word}')\n",
        "while mistake_count > 0 and hidden_word.count('-') != 0:\n",
        "    letter_count = 0\n",
        "    index_count = 0\n",
        "    print('Pick a letter:')\n",
        "    picked_letter = input().capitalize()\n",
        "    for letter in word:\n",
        "        if letter == picked_letter:\n",
        "            hidden_word = hidden_word[:index_count] + picked_letter + hidden_word[index_count+1:]\n",
        "            letter_count += 1\n",
        "        index_count += 1\n",
        "    if word.count(picked_letter) > 0:\n",
        "        print(f'CORRECT! The word contains the {picked_letter}')\n",
        "        print(hidden_word)\n",
        "    else:\n",
        "        mistake_count -= 1\n",
        "        print(f'WRONG! Number of mistakes left: {mistake_count}')\n",
        "if mistake_count == 0:\n",
        "    print('HANGED!!!')\n",
        "else:\n",
        "    print('CONGRATULATIONS!!!')"
      ]
    },
    {
      "cell_type": "code",
      "source": [
        "f\"{word[:2]}+{word[2+1:]}\""
      ],
      "metadata": {
        "id": "_EC8INl6XpDJ"
      },
      "id": "_EC8INl6XpDJ",
      "execution_count": null,
      "outputs": []
    },
    {
      "cell_type": "markdown",
      "id": "ed1ce9a2-5f9c-48a0-8dae-be9db38c092a",
      "metadata": {
        "id": "ed1ce9a2-5f9c-48a0-8dae-be9db38c092a"
      },
      "source": [
        "#### &nbsp;4. Step"
      ]
    },
    {
      "cell_type": "markdown",
      "id": "b4f4989a-a4fd-4a2b-8700-310cbc4cdf33",
      "metadata": {
        "id": "b4f4989a-a4fd-4a2b-8700-310cbc4cdf33"
      },
      "source": [
        "- You are given a dictionary that contains an 'image' of hanged figure. Each item in dictionary has different number of figure elements. Try to implement it in your solution so the correct figure is printed out every time a mistake is done.  \n",
        "- Try to printout some simbols that will help you divide steps in printout so it looks nicer. E.g. Adding a `print('==============================================')` creates a nice divider.  \n",
        "- Create a list of recommended words for a game so every game one word gets randomly choosen your collection. You are going to need to import the random module https://docs.python.org/3/library/random.html"
      ]
    },
    {
      "cell_type": "code",
      "execution_count": null,
      "id": "19adbda2-6677-4013-86d2-14f75ad289fe",
      "metadata": {
        "tags": [],
        "id": "19adbda2-6677-4013-86d2-14f75ad289fe"
      },
      "outputs": [],
      "source": [
        "hangman={0:'''\n",
        "        ____________\n",
        "         |''',\n",
        "        1:'''\n",
        "        ____________\n",
        "         |\n",
        "         O''',\n",
        "        2:'''\n",
        "        ____________\n",
        "         |\n",
        "         O\n",
        "        /''',\n",
        "        3:'''\n",
        "        ____________\n",
        "         |\n",
        "         O\n",
        "        / \\\\''',\n",
        "        4:'''\n",
        "        ____________\n",
        "         |\n",
        "         O\n",
        "        / \\\\\n",
        "         |''',\n",
        "        5:'''\n",
        "        ____________\n",
        "         |\n",
        "         O\n",
        "        / \\\\\n",
        "         |\n",
        "        /''',\n",
        "        6:'''\n",
        "        ____________\n",
        "         |\n",
        "         O\n",
        "        / \\\\\n",
        "         |\n",
        "        / \\\\ '''}"
      ]
    },
    {
      "cell_type": "markdown",
      "source": [
        "### Random words"
      ],
      "metadata": {
        "id": "OG-83MaUvsAO"
      },
      "id": "OG-83MaUvsAO"
    },
    {
      "cell_type": "code",
      "source": [
        "import random\n",
        "\n",
        "hangman_words = ['ABRACADABRA',\n",
        " 'BANANA',\n",
        " 'CARAVAN',\n",
        " 'DYNAMITE',\n",
        " 'ELEPHANT',\n",
        " 'FANTASTIC',\n",
        " 'GALAXY',\n",
        " 'HAPPINESS',\n",
        " 'INCREDIBLE',\n",
        " 'JUBILANT',\n",
        " 'KANGAROO',\n",
        " 'LAVENDER',\n",
        " 'MAGNIFICENT',\n",
        " 'NOSTALGIA',\n",
        " 'OCTOPUS',\n",
        " 'PARADISE',\n",
        " 'QUARANTINE',\n",
        " 'RESILIENCE',\n",
        " 'SPECTACULAR',\n",
        " 'TANGERINE',\n",
        " 'UNICORN',\n",
        " 'VICTORY',\n",
        " 'WATERFALL',\n",
        " 'XYLOPHONE',\n",
        " 'YELLOW',\n",
        " 'ZEBRA',\n",
        " 'AGGRESSIVE',\n",
        " 'BIRTHDAY',\n",
        " 'CANDIDATE',\n",
        " 'DANGEROUS',\n",
        " 'ELEGANCE',\n",
        " 'FASHION',\n",
        " 'GALLOP',\n",
        " 'HUMOROUS',\n",
        " 'INDIVIDUAL',\n",
        " 'JAZZ',\n",
        " 'KNOWLEDGE',\n",
        " 'LEGENDARY',\n",
        " 'MAGNETIC',\n",
        " 'NEIGHBOR',\n",
        " 'OUTSTANDING',\n",
        " 'PARTICULAR',\n",
        " 'QUICKSAND',\n",
        " 'RELATIONSHIP',\n",
        " 'SPECTATOR',\n",
        " 'TECHNOLOGY',\n",
        " 'UNBELIEVABLE',\n",
        " 'VIBRANT',\n",
        " 'WONDERFUL',\n",
        " 'XYLEM']\n"
      ],
      "metadata": {
        "id": "VrrIznkMvlfH"
      },
      "id": "VrrIznkMvlfH",
      "execution_count": null,
      "outputs": []
    },
    {
      "cell_type": "markdown",
      "source": [
        "### Hangman game"
      ],
      "metadata": {
        "id": "k8icfw1zvwGU"
      },
      "id": "k8icfw1zvwGU"
    },
    {
      "cell_type": "code",
      "execution_count": null,
      "id": "a81c802e-4628-4f3f-96f7-469ac07dcf7f",
      "metadata": {
        "id": "a81c802e-4628-4f3f-96f7-469ac07dcf7f",
        "colab": {
          "base_uri": "https://localhost:8080/",
          "height": 460
        },
        "outputId": "86ccdc62-34a1-4514-e56a-198df43432ea"
      },
      "outputs": [
        {
          "output_type": "stream",
          "name": "stdout",
          "text": [
            "Hidden word is: ------\n",
            "Pick a letter\n"
          ]
        },
        {
          "output_type": "error",
          "ename": "KeyboardInterrupt",
          "evalue": "ignored",
          "traceback": [
            "\u001b[0;31m---------------------------------------------------------------------------\u001b[0m",
            "\u001b[0;31mKeyboardInterrupt\u001b[0m                         Traceback (most recent call last)",
            "\u001b[0;32m<ipython-input-3-a3494dc1704e>\u001b[0m in \u001b[0;36m<module>\u001b[0;34m\u001b[0m\n\u001b[1;32m     11\u001b[0m \u001b[0;32mwhile\u001b[0m \u001b[0mmistake_count\u001b[0m\u001b[0;34m>\u001b[0m\u001b[0;36m0\u001b[0m \u001b[0;32mand\u001b[0m \u001b[0mhidden_word\u001b[0m\u001b[0;34m.\u001b[0m\u001b[0mcount\u001b[0m\u001b[0;34m(\u001b[0m\u001b[0;34m'-'\u001b[0m\u001b[0;34m)\u001b[0m\u001b[0;34m>\u001b[0m\u001b[0;36m0\u001b[0m\u001b[0;34m:\u001b[0m\u001b[0;34m\u001b[0m\u001b[0;34m\u001b[0m\u001b[0m\n\u001b[1;32m     12\u001b[0m   \u001b[0mprint\u001b[0m\u001b[0;34m(\u001b[0m\u001b[0;34m'Pick a letter'\u001b[0m\u001b[0;34m)\u001b[0m\u001b[0;34m\u001b[0m\u001b[0;34m\u001b[0m\u001b[0m\n\u001b[0;32m---> 13\u001b[0;31m   \u001b[0mpicked_letter\u001b[0m \u001b[0;34m=\u001b[0m \u001b[0minput\u001b[0m\u001b[0;34m(\u001b[0m\u001b[0;34m)\u001b[0m\u001b[0;34m.\u001b[0m\u001b[0mcapitalize\u001b[0m\u001b[0;34m(\u001b[0m\u001b[0;34m)\u001b[0m\u001b[0;34m\u001b[0m\u001b[0;34m\u001b[0m\u001b[0m\n\u001b[0m\u001b[1;32m     14\u001b[0m   \u001b[0;31m#to count how many times picked_letter appears in a word\u001b[0m\u001b[0;34m\u001b[0m\u001b[0;34m\u001b[0m\u001b[0m\n\u001b[1;32m     15\u001b[0m   \u001b[0mletter_count\u001b[0m\u001b[0;34m=\u001b[0m\u001b[0;36m0\u001b[0m\u001b[0;34m\u001b[0m\u001b[0;34m\u001b[0m\u001b[0m\n",
            "\u001b[0;32m/usr/local/lib/python3.9/dist-packages/ipykernel/kernelbase.py\u001b[0m in \u001b[0;36mraw_input\u001b[0;34m(self, prompt)\u001b[0m\n\u001b[1;32m    858\u001b[0m                 \u001b[0;34m\"raw_input was called, but this frontend does not support input requests.\"\u001b[0m\u001b[0;34m\u001b[0m\u001b[0;34m\u001b[0m\u001b[0m\n\u001b[1;32m    859\u001b[0m             )\n\u001b[0;32m--> 860\u001b[0;31m         return self._input_request(str(prompt),\n\u001b[0m\u001b[1;32m    861\u001b[0m             \u001b[0mself\u001b[0m\u001b[0;34m.\u001b[0m\u001b[0m_parent_ident\u001b[0m\u001b[0;34m,\u001b[0m\u001b[0;34m\u001b[0m\u001b[0;34m\u001b[0m\u001b[0m\n\u001b[1;32m    862\u001b[0m             \u001b[0mself\u001b[0m\u001b[0;34m.\u001b[0m\u001b[0m_parent_header\u001b[0m\u001b[0;34m,\u001b[0m\u001b[0;34m\u001b[0m\u001b[0;34m\u001b[0m\u001b[0m\n",
            "\u001b[0;32m/usr/local/lib/python3.9/dist-packages/ipykernel/kernelbase.py\u001b[0m in \u001b[0;36m_input_request\u001b[0;34m(self, prompt, ident, parent, password)\u001b[0m\n\u001b[1;32m    902\u001b[0m             \u001b[0;32mexcept\u001b[0m \u001b[0mKeyboardInterrupt\u001b[0m\u001b[0;34m:\u001b[0m\u001b[0;34m\u001b[0m\u001b[0;34m\u001b[0m\u001b[0m\n\u001b[1;32m    903\u001b[0m                 \u001b[0;31m# re-raise KeyboardInterrupt, to truncate traceback\u001b[0m\u001b[0;34m\u001b[0m\u001b[0;34m\u001b[0m\u001b[0m\n\u001b[0;32m--> 904\u001b[0;31m                 \u001b[0;32mraise\u001b[0m \u001b[0mKeyboardInterrupt\u001b[0m\u001b[0;34m(\u001b[0m\u001b[0;34m\"Interrupted by user\"\u001b[0m\u001b[0;34m)\u001b[0m \u001b[0;32mfrom\u001b[0m \u001b[0;32mNone\u001b[0m\u001b[0;34m\u001b[0m\u001b[0;34m\u001b[0m\u001b[0m\n\u001b[0m\u001b[1;32m    905\u001b[0m             \u001b[0;32mexcept\u001b[0m \u001b[0mException\u001b[0m \u001b[0;32mas\u001b[0m \u001b[0me\u001b[0m\u001b[0;34m:\u001b[0m\u001b[0;34m\u001b[0m\u001b[0;34m\u001b[0m\u001b[0m\n\u001b[1;32m    906\u001b[0m                 \u001b[0mself\u001b[0m\u001b[0;34m.\u001b[0m\u001b[0mlog\u001b[0m\u001b[0;34m.\u001b[0m\u001b[0mwarning\u001b[0m\u001b[0;34m(\u001b[0m\u001b[0;34m\"Invalid Message:\"\u001b[0m\u001b[0;34m,\u001b[0m \u001b[0mexc_info\u001b[0m\u001b[0;34m=\u001b[0m\u001b[0;32mTrue\u001b[0m\u001b[0;34m)\u001b[0m\u001b[0;34m\u001b[0m\u001b[0;34m\u001b[0m\u001b[0m\n",
            "\u001b[0;31mKeyboardInterrupt\u001b[0m: Interrupted by user"
          ]
        }
      ],
      "source": [
        "# your code here\n",
        "\n",
        "word = random.choice(hangman_words)\n",
        "hidden_word = '-'*len(word)\n",
        "mistake_count = 6\n",
        "\n",
        "#Print out the hidden_word\n",
        "print(f'Hidden word is: {hidden_word}')\n",
        "\n",
        "#The game has to stop either when points are over mistake_count=0 or when we have guessed the word hidden_word.count('-')=0\n",
        "while mistake_count>0 and hidden_word.count('-')>0:\n",
        "  print('Pick a letter')\n",
        "  picked_letter = input().capitalize()\n",
        "  #to count how many times picked_letter appears in a word\n",
        "  letter_count=0\n",
        "  #to count the position of a picked_letter in a word\n",
        "  index_count=0\n",
        "  \n",
        "  if(picked_letter in word):\n",
        "    print(hangman[6-mistake_count])\n",
        "    for i in range(mistake_count):\n",
        "      print('            ')\n",
        "    print('\\t_🪑_________🥷')\n",
        "    print('')\n",
        "    print(f'CORRECT! The word contains the letter {picked_letter}')\n",
        "    #Now we count how many times picked_letter appears in word\n",
        "    for letter in word:\n",
        "      if picked_letter == letter:\n",
        "        hidden_word = hidden_word[:index_count] + picked_letter + hidden_word[index_count+1:]\n",
        "      index_count += 1\n",
        "  else:\n",
        "    mistake_count -= 1\n",
        "    print(f'WRONG! Number of mistakes left: {mistake_count}')\n",
        "    print(hangman[6-mistake_count])\n",
        "    #print blank space\n",
        "    for i in range(mistake_count):\n",
        "      print('            ')\n",
        "    print('\\t_🪑_________🥷')\n",
        "    print('')\n",
        "  print('')\n",
        "  print(f'Hidden word is: {hidden_word}')\n",
        "  print('')\n",
        "\n",
        "if mistake_count == 0:\n",
        "  print('')\n",
        "  print(f'💀 HANGED! 💀 The hidden word was {hidden_word}')\n",
        "else:\n",
        "  print(f'🎉🎉 CONGRATULATIONS! 🎉🎉 The hidden word is {hidden_word}')\n"
      ]
    },
    {
      "cell_type": "code",
      "source": [],
      "metadata": {
        "id": "JeEIRj6tL4oz"
      },
      "id": "JeEIRj6tL4oz",
      "execution_count": null,
      "outputs": []
    },
    {
      "cell_type": "markdown",
      "metadata": {
        "jp-MarkdownHeadingCollapsed": true,
        "tags": [],
        "id": "bae827c3-6971-4c49-8aa3-a37393aa6f2f"
      },
      "source": [
        "##### Solution"
      ],
      "id": "bae827c3-6971-4c49-8aa3-a37393aa6f2f"
    },
    {
      "cell_type": "code",
      "execution_count": null,
      "metadata": {
        "id": "6a38acc1-4deb-4be4-a137-73ea41279f7e"
      },
      "outputs": [],
      "source": [
        "from random import randrange\n",
        "list_of_words = ['LEARNING','PYTHON','CREATING','GAME']\n",
        "word = list_of_words[randrange(len(list_of_words))]\n",
        "hidden_word = '-'*len(word)\n",
        "print(f'Hidden word is: {hidden_word}')\n",
        "mistake_count = 6\n",
        "print('==============================================================')\n",
        "while mistake_count > 0 and hidden_word.count('-') != 0:\n",
        "    index_count = 0\n",
        "    letter_count = 0\n",
        "    \n",
        "    print('Pick a letter:')\n",
        "    picked_letter = input().capitalize()\n",
        "    for letter in word:\n",
        "        \n",
        "        if(picked_letter == letter):\n",
        "            hidden_word = hidden_word[:index_count] + picked_letter + hidden_word[index_count+1:]\n",
        "            letter_count += 1\n",
        "        index_count += 1\n",
        "    if(letter_count == 0):\n",
        "        mistake_count -= 1\n",
        "        print(f'WRONG! Number of mistakes left: {mistake_count}')\n",
        "        print(hangman[6 - mistake_count])\n",
        "    else:\n",
        "        print(f'CORRECT! There is a letter {picked_letter} in a secret word!')\n",
        "        print(hidden_word)\n",
        "    print('==============================================================')\n",
        "if(mistake_count == 0):\n",
        "    print('HANGED!!!')\n",
        "else:\n",
        "    print('CONGRATULATIONS!!!')"
      ],
      "id": "6a38acc1-4deb-4be4-a137-73ea41279f7e"
    },
    {
      "cell_type": "code",
      "execution_count": null,
      "metadata": {
        "id": "0db9de29-d6ea-4aed-904b-a1e34de6d3d0"
      },
      "outputs": [],
      "source": [],
      "id": "0db9de29-d6ea-4aed-904b-a1e34de6d3d0"
    },
    {
      "cell_type": "markdown",
      "source": [
        "#### BONUS step"
      ],
      "metadata": {
        "id": "koF9QvUk7vcT"
      },
      "id": "koF9QvUk7vcT"
    },
    {
      "cell_type": "markdown",
      "source": [
        "Once you are done with all the steps, you can add some advanced features to your game.  \n",
        "Some examples:  \n",
        "- Add difficulty levels - it can be based on number of mistakes or complexity of the secret word\n",
        "- Create steps that check users input to make sure it is correct (e.g. no digits or special characters allowed, no more than one letter allowed)  \n",
        "You can create any number of special features you like and you can think of"
      ],
      "metadata": {
        "id": "0YhZVS2a7y7c"
      },
      "id": "0YhZVS2a7y7c"
    },
    {
      "cell_type": "code",
      "source": [
        "# your code here\n",
        "\n",
        "#I introduce a function to customize the output\n",
        "import ipywidgets as widgets\n",
        "from IPython.display import display\n",
        "\n",
        "def colored_output(text, color, length):\n",
        "    b1 = widgets.Button(description=text)\n",
        "    b1.style.button_color = color\n",
        "    b1.layout.width = str(length) + 'px' \n",
        "    display(b1)\n",
        "\n",
        "\n",
        "word = random.choice(hangman_words)\n",
        "hidden_word = '-'*len(word)\n",
        "mistake_count = 6\n",
        "\n",
        "# Display the container\n",
        "colored_output('🔠 Welcome to the Hangman Game ☠️','lightgray',270)\n",
        "\n",
        "#Print out the hidden_word\n",
        "colored_output(f'Hidden word is: {hidden_word}','bisque',270)\n",
        "\n",
        "#The game has to stop either when points are over mistake_count=0 or when we have guessed the word hidden_word.count('-')=0\n",
        "while mistake_count>0 and hidden_word.count('-')>0:\n",
        "  colored_output('Pick a letter','bisque',270)\n",
        "  picked_letter = input().capitalize()\n",
        "  #to count how many times picked_letter appears in a word\n",
        "  letter_count=0\n",
        "  #to count the position of a picked_letter in a word\n",
        "  index_count=0\n",
        "  \n",
        "  if(picked_letter in word):\n",
        "    print(hangman[6-mistake_count])\n",
        "    for i in range(mistake_count):\n",
        "      print('            ')\n",
        "    print('\\t_🪑________🥷')\n",
        "    print('')\n",
        "    colored_output(f'CORRECT! The word contains the letter {picked_letter}','lightgreen',270)\n",
        "    \n",
        "    #Now we count how many times picked_letter appears in word\n",
        "    for letter in word:\n",
        "      if picked_letter == letter:\n",
        "        hidden_word = hidden_word[:index_count] + picked_letter + hidden_word[index_count+1:]\n",
        "      index_count += 1\n",
        "  else:\n",
        "    mistake_count -= 1\n",
        "    colored_output(f'WRONG! Number of mistakes left: {mistake_count}','pink',270)\n",
        "    print(hangman[6-mistake_count])\n",
        "    for i in range(mistake_count):\n",
        "      print('            ')\n",
        "\n",
        "    print('\\t_🪑________🥷')\n",
        "    print('')\n",
        "\n",
        "  print('')\n",
        "  colored_output(f'Hidden word is: {hidden_word}','bisque',270)\n",
        "\n",
        "if mistake_count == 0:\n",
        "  print('')\n",
        "  colored_output(f'💀 HANGED! 💀 The hidden word was {word}','pink',500)\n",
        "else:\n",
        "  colored_output(f'🎉 CONGRATULATIONS! 🎉 The hidden word is {word}','lightgreen',500)\n"
      ],
      "metadata": {
        "id": "dnENYrPO7VN-",
        "colab": {
          "base_uri": "https://localhost:8080/",
          "height": 1000,
          "referenced_widgets": [
            "8db583fe3f0d4020830606b878a68002",
            "3993546a276e4592b0ea1abe300d9f8f",
            "1b9da57fce7e42f08897775778eb0d6d",
            "45906a1be327429e87295137d83e5df0",
            "fa7738b1bcf64e13b442b757c90711cc",
            "bd432cd7882242a287563d9ab0f026cb",
            "adb08a46390644b8bccd0249fa7ee3d7",
            "98900984f4a54f0aa042c9b74a8efeca",
            "7640e14d5395416b8700ee95a4703b44",
            "5f8994e00aac4624a5f09c53f0d94123",
            "752f7aee58b4415b949240925cb232f3",
            "2322e26a294d414aa161f7540d50a84e",
            "530e0b7d49ea4f5884121171e07296e6",
            "d635672b10f54bb3aad74848fa1623cb",
            "207aa87bc67b47b7867eb371456819b9",
            "e034e422848c4e00ab6ccf2dfd1dbfaf",
            "a7442c60b2ca4e4694a311e47923ad0c",
            "e0e59fa9a28a4eca9215e308c33d4771",
            "41fac69fdb604b8295151deeac4b01e3",
            "a04e25e08eaa4d2ebb045d34ad0d60c1",
            "45104b27b9ea4189b96b5bdab110807c",
            "8a2dd0ca95c846a3bbf88635bbe313a7",
            "27e2cc51efa34b44bdd649038215702f",
            "a370b21dfd6645eca34685106ef0b5f5",
            "396da481cd40476cab44506f4d1d569e",
            "3eddd2a97d3e42cf95a6712b5a84bc0e",
            "2052cdbf8943450594315ebd93a23ab9",
            "8cf5207ca0764881aa24603ba80c9436",
            "18468589d7ba4ba3b8fb4e6117fceff8",
            "e169e6d1a4ea41adb80b3b4bdb0f8780",
            "70b4a0694acd4d2ca6d34f8916d82409",
            "a42c1d8be84d41d8928257f42a643b5f",
            "1565f9f658014b1f83466efb1492ee73",
            "17771fc1e7d04f28bdcb649e9ad079b5",
            "ee05d442f3b0450e9a8e34a7452d2dfa",
            "ab86b056c6d44e7cb3da8c1f477aee5e",
            "f7889f6aee43476ab311e0547e9755dc",
            "64d4dd7db6144f3989138a492afb9510",
            "b6d9a093c6e74735b7a30584e29e5c51",
            "67902a93dfa140f1a792cf0b4dbcb7cd",
            "8351c53f7b134fe3967bd01aefcebc1f",
            "2216bb96ad32421c86d9ef48b72f476f",
            "aa61900a3de243809a875a9c2d01bb42",
            "f5f5a962d6244bafa21329be2215ae61",
            "74a74352406f466da950fe06483cf103",
            "f922e1938aa8419896027b7f44e7b361",
            "a5052ebfffc940bbbc188ab4fb645648",
            "09cf3a05a4394ed094e6705b27ec508a",
            "1f7b99568bd74a6592c1bcdcebd7a4fd",
            "8e4129ee6fa64c729ace06d158279d12",
            "a2372c3e4b334b608d82b2b8d6b563ba",
            "bc8f7c85b0c2482fa6389d6f97bee493",
            "0af1fd6db4604c5abc4cd49daf3f2d49",
            "7f41f22cc5784b79ac2c33a995f2ba0f",
            "2445619fdcf343d5aceff7522af353b0",
            "d0e6804a5e484edf96f04f67a26d67c4",
            "a62964408bed4534a89e92e38dcd91b1",
            "5dec4ec075a0495a9dcf44e06429fc37",
            "0e87aa9dd13e43cb8fd6fe7bdea2e7b2",
            "7f2a8c5ce5e148efae8d6f0027113814",
            "7ed12167dbb04bb396255570c1e4a131",
            "d516b619b4cc4cd8870cea18fb785b8f",
            "94411cc4af934cb6a035bc75b7200e18",
            "7c6cf1ae09854926a86ab7fd05198766",
            "1e40e96f71e042828331f8e4536c78ef",
            "1cd40ccd79a542b4a42f381cadb4a0d0",
            "1e04697e8bdb449b9b791f1be1edef46",
            "ee3a898c7c63475eac56cc4b8d504a4c",
            "da8e49c469654c94adc5c161bc6f81fe",
            "4fcd1a5cdb3a44d5bcb5e88bb1206ae7",
            "e09519441eb4420eb3282347bd346d45",
            "4011d8e54bf041abb94ce8fe64b250d4",
            "2d27818b15de447990c792e2ecb777cd",
            "3ee0abe49e804a1bb1621e68d6ca39ba",
            "728a96ccc6c84b9a963020dda9771680",
            "d8fb674dd39b44ed89d47c27394a8dc2",
            "6594874d4cee47a78f4a039bea6e6b62",
            "746a6be80531447092879829d5e24d03",
            "cc781ea9d8954a469c9ca50919bf62d4",
            "63a43f667e324f6f86189d4f47e2dea9",
            "5db5218eb2f9421897368ab6f570add7",
            "16d665f2e4454f39a1c35129d681bf14",
            "57cac39a93b0453c8d8f07d019abd3c3",
            "deb8fd120c1344d6912ea107b8e1366c",
            "8656170a87fb4990b7db4673919c8f81",
            "401c744f0e2447f98601900ddad74d59",
            "da707fa8b37844eb9dd595abeea3160c",
            "8af8a51b93aa4cb4a9b2eabe5118bb8d",
            "ce46e78a0e0242119e2cf536ceacc667",
            "eb8c9e16c9c1446ebb5224b3292409cc"
          ]
        },
        "outputId": "4376c135-3541-45d2-8c3d-a894b34e0a34"
      },
      "id": "dnENYrPO7VN-",
      "execution_count": null,
      "outputs": [
        {
          "output_type": "display_data",
          "data": {
            "text/plain": [
              "Button(description='🔠 Welcome to the Hangman Game ☠️', layout=Layout(width='270px'), style=ButtonStyle(button_…"
            ],
            "application/vnd.jupyter.widget-view+json": {
              "version_major": 2,
              "version_minor": 0,
              "model_id": "8db583fe3f0d4020830606b878a68002"
            }
          },
          "metadata": {}
        },
        {
          "output_type": "display_data",
          "data": {
            "text/plain": [
              "Button(description='Hidden word is: -------', layout=Layout(width='270px'), style=ButtonStyle(button_color='bi…"
            ],
            "application/vnd.jupyter.widget-view+json": {
              "version_major": 2,
              "version_minor": 0,
              "model_id": "45906a1be327429e87295137d83e5df0"
            }
          },
          "metadata": {}
        },
        {
          "output_type": "display_data",
          "data": {
            "text/plain": [
              "Button(description='Pick a letter', layout=Layout(width='270px'), style=ButtonStyle(button_color='bisque'))"
            ],
            "application/vnd.jupyter.widget-view+json": {
              "version_major": 2,
              "version_minor": 0,
              "model_id": "adb08a46390644b8bccd0249fa7ee3d7"
            }
          },
          "metadata": {}
        },
        {
          "name": "stdout",
          "output_type": "stream",
          "text": [
            "A\n"
          ]
        },
        {
          "output_type": "display_data",
          "data": {
            "text/plain": [
              "Button(description='WRONG! Number of mistakes left: 5', layout=Layout(width='270px'), style=ButtonStyle(button…"
            ],
            "application/vnd.jupyter.widget-view+json": {
              "version_major": 2,
              "version_minor": 0,
              "model_id": "5f8994e00aac4624a5f09c53f0d94123"
            }
          },
          "metadata": {}
        },
        {
          "output_type": "stream",
          "name": "stdout",
          "text": [
            "\n",
            "        ____________\n",
            "         |\n",
            "         O\n",
            "            \n",
            "            \n",
            "            \n",
            "            \n",
            "            \n",
            "\t_🪑________🥷\n",
            "\n",
            "\n"
          ]
        },
        {
          "output_type": "display_data",
          "data": {
            "text/plain": [
              "Button(description='Hidden word is: -------', layout=Layout(width='270px'), style=ButtonStyle(button_color='bi…"
            ],
            "application/vnd.jupyter.widget-view+json": {
              "version_major": 2,
              "version_minor": 0,
              "model_id": "530e0b7d49ea4f5884121171e07296e6"
            }
          },
          "metadata": {}
        },
        {
          "output_type": "display_data",
          "data": {
            "text/plain": [
              "Button(description='Pick a letter', layout=Layout(width='270px'), style=ButtonStyle(button_color='bisque'))"
            ],
            "application/vnd.jupyter.widget-view+json": {
              "version_major": 2,
              "version_minor": 0,
              "model_id": "e034e422848c4e00ab6ccf2dfd1dbfaf"
            }
          },
          "metadata": {}
        },
        {
          "output_type": "stream",
          "name": "stdout",
          "text": [
            "O\n",
            "\n",
            "        ____________\n",
            "         |\n",
            "         O\n",
            "            \n",
            "            \n",
            "            \n",
            "            \n",
            "            \n",
            "\t_🪑________🥷\n",
            "\n"
          ]
        },
        {
          "output_type": "display_data",
          "data": {
            "text/plain": [
              "Button(description='CORRECT! The word contains the letter O', layout=Layout(width='270px'), style=ButtonStyle(…"
            ],
            "application/vnd.jupyter.widget-view+json": {
              "version_major": 2,
              "version_minor": 0,
              "model_id": "41fac69fdb604b8295151deeac4b01e3"
            }
          },
          "metadata": {}
        },
        {
          "output_type": "stream",
          "name": "stdout",
          "text": [
            "\n"
          ]
        },
        {
          "output_type": "display_data",
          "data": {
            "text/plain": [
              "Button(description='Hidden word is: ----O--', layout=Layout(width='270px'), style=ButtonStyle(button_color='bi…"
            ],
            "application/vnd.jupyter.widget-view+json": {
              "version_major": 2,
              "version_minor": 0,
              "model_id": "8a2dd0ca95c846a3bbf88635bbe313a7"
            }
          },
          "metadata": {}
        },
        {
          "output_type": "display_data",
          "data": {
            "text/plain": [
              "Button(description='Pick a letter', layout=Layout(width='270px'), style=ButtonStyle(button_color='bisque'))"
            ],
            "application/vnd.jupyter.widget-view+json": {
              "version_major": 2,
              "version_minor": 0,
              "model_id": "396da481cd40476cab44506f4d1d569e"
            }
          },
          "metadata": {}
        },
        {
          "output_type": "stream",
          "name": "stdout",
          "text": [
            "R\n",
            "\n",
            "        ____________\n",
            "         |\n",
            "         O\n",
            "            \n",
            "            \n",
            "            \n",
            "            \n",
            "            \n",
            "\t_🪑________🥷\n",
            "\n"
          ]
        },
        {
          "output_type": "display_data",
          "data": {
            "text/plain": [
              "Button(description='CORRECT! The word contains the letter R', layout=Layout(width='270px'), style=ButtonStyle(…"
            ],
            "application/vnd.jupyter.widget-view+json": {
              "version_major": 2,
              "version_minor": 0,
              "model_id": "8cf5207ca0764881aa24603ba80c9436"
            }
          },
          "metadata": {}
        },
        {
          "output_type": "stream",
          "name": "stdout",
          "text": [
            "\n"
          ]
        },
        {
          "output_type": "display_data",
          "data": {
            "text/plain": [
              "Button(description='Hidden word is: ----OR-', layout=Layout(width='270px'), style=ButtonStyle(button_color='bi…"
            ],
            "application/vnd.jupyter.widget-view+json": {
              "version_major": 2,
              "version_minor": 0,
              "model_id": "70b4a0694acd4d2ca6d34f8916d82409"
            }
          },
          "metadata": {}
        },
        {
          "output_type": "display_data",
          "data": {
            "text/plain": [
              "Button(description='Pick a letter', layout=Layout(width='270px'), style=ButtonStyle(button_color='bisque'))"
            ],
            "application/vnd.jupyter.widget-view+json": {
              "version_major": 2,
              "version_minor": 0,
              "model_id": "17771fc1e7d04f28bdcb649e9ad079b5"
            }
          },
          "metadata": {}
        },
        {
          "name": "stdout",
          "output_type": "stream",
          "text": [
            "E\n"
          ]
        },
        {
          "output_type": "display_data",
          "data": {
            "text/plain": [
              "Button(description='WRONG! Number of mistakes left: 4', layout=Layout(width='270px'), style=ButtonStyle(button…"
            ],
            "application/vnd.jupyter.widget-view+json": {
              "version_major": 2,
              "version_minor": 0,
              "model_id": "f7889f6aee43476ab311e0547e9755dc"
            }
          },
          "metadata": {}
        },
        {
          "output_type": "stream",
          "name": "stdout",
          "text": [
            "\n",
            "        ____________\n",
            "         |\n",
            "         O\n",
            "        /\n",
            "            \n",
            "            \n",
            "            \n",
            "            \n",
            "\t_🪑________🥷\n",
            "\n",
            "\n"
          ]
        },
        {
          "output_type": "display_data",
          "data": {
            "text/plain": [
              "Button(description='Hidden word is: ----OR-', layout=Layout(width='270px'), style=ButtonStyle(button_color='bi…"
            ],
            "application/vnd.jupyter.widget-view+json": {
              "version_major": 2,
              "version_minor": 0,
              "model_id": "67902a93dfa140f1a792cf0b4dbcb7cd"
            }
          },
          "metadata": {}
        },
        {
          "output_type": "display_data",
          "data": {
            "text/plain": [
              "Button(description='Pick a letter', layout=Layout(width='270px'), style=ButtonStyle(button_color='bisque'))"
            ],
            "application/vnd.jupyter.widget-view+json": {
              "version_major": 2,
              "version_minor": 0,
              "model_id": "aa61900a3de243809a875a9c2d01bb42"
            }
          },
          "metadata": {}
        },
        {
          "output_type": "stream",
          "name": "stdout",
          "text": [
            "I\n",
            "\n",
            "        ____________\n",
            "         |\n",
            "         O\n",
            "        /\n",
            "            \n",
            "            \n",
            "            \n",
            "            \n",
            "\t_🪑________🥷\n",
            "\n"
          ]
        },
        {
          "output_type": "display_data",
          "data": {
            "text/plain": [
              "Button(description='CORRECT! The word contains the letter I', layout=Layout(width='270px'), style=ButtonStyle(…"
            ],
            "application/vnd.jupyter.widget-view+json": {
              "version_major": 2,
              "version_minor": 0,
              "model_id": "f922e1938aa8419896027b7f44e7b361"
            }
          },
          "metadata": {}
        },
        {
          "output_type": "stream",
          "name": "stdout",
          "text": [
            "\n"
          ]
        },
        {
          "output_type": "display_data",
          "data": {
            "text/plain": [
              "Button(description='Hidden word is: --I-OR-', layout=Layout(width='270px'), style=ButtonStyle(button_color='bi…"
            ],
            "application/vnd.jupyter.widget-view+json": {
              "version_major": 2,
              "version_minor": 0,
              "model_id": "1f7b99568bd74a6592c1bcdcebd7a4fd"
            }
          },
          "metadata": {}
        },
        {
          "output_type": "display_data",
          "data": {
            "text/plain": [
              "Button(description='Pick a letter', layout=Layout(width='270px'), style=ButtonStyle(button_color='bisque'))"
            ],
            "application/vnd.jupyter.widget-view+json": {
              "version_major": 2,
              "version_minor": 0,
              "model_id": "bc8f7c85b0c2482fa6389d6f97bee493"
            }
          },
          "metadata": {}
        },
        {
          "output_type": "stream",
          "name": "stdout",
          "text": [
            "N\n",
            "\n",
            "        ____________\n",
            "         |\n",
            "         O\n",
            "        /\n",
            "            \n",
            "            \n",
            "            \n",
            "            \n",
            "\t_🪑________🥷\n",
            "\n"
          ]
        },
        {
          "output_type": "display_data",
          "data": {
            "text/plain": [
              "Button(description='CORRECT! The word contains the letter N', layout=Layout(width='270px'), style=ButtonStyle(…"
            ],
            "application/vnd.jupyter.widget-view+json": {
              "version_major": 2,
              "version_minor": 0,
              "model_id": "2445619fdcf343d5aceff7522af353b0"
            }
          },
          "metadata": {}
        },
        {
          "output_type": "stream",
          "name": "stdout",
          "text": [
            "\n"
          ]
        },
        {
          "output_type": "display_data",
          "data": {
            "text/plain": [
              "Button(description='Hidden word is: -NI-ORN', layout=Layout(width='270px'), style=ButtonStyle(button_color='bi…"
            ],
            "application/vnd.jupyter.widget-view+json": {
              "version_major": 2,
              "version_minor": 0,
              "model_id": "5dec4ec075a0495a9dcf44e06429fc37"
            }
          },
          "metadata": {}
        },
        {
          "output_type": "display_data",
          "data": {
            "text/plain": [
              "Button(description='Pick a letter', layout=Layout(width='270px'), style=ButtonStyle(button_color='bisque'))"
            ],
            "application/vnd.jupyter.widget-view+json": {
              "version_major": 2,
              "version_minor": 0,
              "model_id": "7ed12167dbb04bb396255570c1e4a131"
            }
          },
          "metadata": {}
        },
        {
          "name": "stdout",
          "output_type": "stream",
          "text": [
            "H\n"
          ]
        },
        {
          "output_type": "display_data",
          "data": {
            "text/plain": [
              "Button(description='WRONG! Number of mistakes left: 3', layout=Layout(width='270px'), style=ButtonStyle(button…"
            ],
            "application/vnd.jupyter.widget-view+json": {
              "version_major": 2,
              "version_minor": 0,
              "model_id": "7c6cf1ae09854926a86ab7fd05198766"
            }
          },
          "metadata": {}
        },
        {
          "output_type": "stream",
          "name": "stdout",
          "text": [
            "\n",
            "        ____________\n",
            "         |\n",
            "         O\n",
            "        / \\\n",
            "            \n",
            "            \n",
            "            \n",
            "\t_🪑________🥷\n",
            "\n",
            "\n"
          ]
        },
        {
          "output_type": "display_data",
          "data": {
            "text/plain": [
              "Button(description='Hidden word is: -NI-ORN', layout=Layout(width='270px'), style=ButtonStyle(button_color='bi…"
            ],
            "application/vnd.jupyter.widget-view+json": {
              "version_major": 2,
              "version_minor": 0,
              "model_id": "1e04697e8bdb449b9b791f1be1edef46"
            }
          },
          "metadata": {}
        },
        {
          "output_type": "display_data",
          "data": {
            "text/plain": [
              "Button(description='Pick a letter', layout=Layout(width='270px'), style=ButtonStyle(button_color='bisque'))"
            ],
            "application/vnd.jupyter.widget-view+json": {
              "version_major": 2,
              "version_minor": 0,
              "model_id": "4fcd1a5cdb3a44d5bcb5e88bb1206ae7"
            }
          },
          "metadata": {}
        },
        {
          "output_type": "stream",
          "name": "stdout",
          "text": [
            "U\n",
            "\n",
            "        ____________\n",
            "         |\n",
            "         O\n",
            "        / \\\n",
            "            \n",
            "            \n",
            "            \n",
            "\t_🪑________🥷\n",
            "\n"
          ]
        },
        {
          "output_type": "display_data",
          "data": {
            "text/plain": [
              "Button(description='CORRECT! The word contains the letter U', layout=Layout(width='270px'), style=ButtonStyle(…"
            ],
            "application/vnd.jupyter.widget-view+json": {
              "version_major": 2,
              "version_minor": 0,
              "model_id": "2d27818b15de447990c792e2ecb777cd"
            }
          },
          "metadata": {}
        },
        {
          "output_type": "stream",
          "name": "stdout",
          "text": [
            "\n"
          ]
        },
        {
          "output_type": "display_data",
          "data": {
            "text/plain": [
              "Button(description='Hidden word is: UNI-ORN', layout=Layout(width='270px'), style=ButtonStyle(button_color='bi…"
            ],
            "application/vnd.jupyter.widget-view+json": {
              "version_major": 2,
              "version_minor": 0,
              "model_id": "d8fb674dd39b44ed89d47c27394a8dc2"
            }
          },
          "metadata": {}
        },
        {
          "output_type": "display_data",
          "data": {
            "text/plain": [
              "Button(description='Pick a letter', layout=Layout(width='270px'), style=ButtonStyle(button_color='bisque'))"
            ],
            "application/vnd.jupyter.widget-view+json": {
              "version_major": 2,
              "version_minor": 0,
              "model_id": "cc781ea9d8954a469c9ca50919bf62d4"
            }
          },
          "metadata": {}
        },
        {
          "output_type": "stream",
          "name": "stdout",
          "text": [
            "C\n",
            "\n",
            "        ____________\n",
            "         |\n",
            "         O\n",
            "        / \\\n",
            "            \n",
            "            \n",
            "            \n",
            "\t_🪑________🥷\n",
            "\n"
          ]
        },
        {
          "output_type": "display_data",
          "data": {
            "text/plain": [
              "Button(description='CORRECT! The word contains the letter C', layout=Layout(width='270px'), style=ButtonStyle(…"
            ],
            "application/vnd.jupyter.widget-view+json": {
              "version_major": 2,
              "version_minor": 0,
              "model_id": "16d665f2e4454f39a1c35129d681bf14"
            }
          },
          "metadata": {}
        },
        {
          "output_type": "stream",
          "name": "stdout",
          "text": [
            "\n"
          ]
        },
        {
          "output_type": "display_data",
          "data": {
            "text/plain": [
              "Button(description='Hidden word is: UNICORN', layout=Layout(width='270px'), style=ButtonStyle(button_color='bi…"
            ],
            "application/vnd.jupyter.widget-view+json": {
              "version_major": 2,
              "version_minor": 0,
              "model_id": "8656170a87fb4990b7db4673919c8f81"
            }
          },
          "metadata": {}
        },
        {
          "output_type": "display_data",
          "data": {
            "text/plain": [
              "Button(description='🎉 CONGRATULATIONS! 🎉 The hidden word is UNICORN', layout=Layout(width='500px'), style=Butt…"
            ],
            "application/vnd.jupyter.widget-view+json": {
              "version_major": 2,
              "version_minor": 0,
              "model_id": "8af8a51b93aa4cb4a9b2eabe5118bb8d"
            }
          },
          "metadata": {}
        }
      ]
    },
    {
      "cell_type": "code",
      "source": [],
      "metadata": {
        "id": "zJXELaa2ANFy"
      },
      "id": "zJXELaa2ANFy",
      "execution_count": null,
      "outputs": []
    }
  ],
  "metadata": {
    "kernelspec": {
      "display_name": "Python 3 (ipykernel)",
      "language": "python",
      "name": "python3"
    },
    "language_info": {
      "codemirror_mode": {
        "name": "ipython",
        "version": 3
      },
      "file_extension": ".py",
      "mimetype": "text/x-python",
      "name": "python",
      "nbconvert_exporter": "python",
      "pygments_lexer": "ipython3",
      "version": "3.9.12"
    },
    "colab": {
      "provenance": [],
      "collapsed_sections": [
        "649cee80-bfe9-4cf7-955b-560a475b94d7",
        "86b350e4-45d5-4e6f-9517-4b9bc2284cee",
        "2cdc5c9b-0d96-44d0-918b-8fa2a1b07413",
        "bae827c3-6971-4c49-8aa3-a37393aa6f2f"
      ],
      "include_colab_link": true
    },
    "widgets": {
      "application/vnd.jupyter.widget-state+json": {
        "8db583fe3f0d4020830606b878a68002": {
          "model_module": "@jupyter-widgets/controls",
          "model_name": "ButtonModel",
          "model_module_version": "1.5.0",
          "state": {
            "_dom_classes": [],
            "_model_module": "@jupyter-widgets/controls",
            "_model_module_version": "1.5.0",
            "_model_name": "ButtonModel",
            "_view_count": null,
            "_view_module": "@jupyter-widgets/controls",
            "_view_module_version": "1.5.0",
            "_view_name": "ButtonView",
            "button_style": "",
            "description": "🔠 Welcome to the Hangman Game ☠️",
            "disabled": false,
            "icon": "",
            "layout": "IPY_MODEL_3993546a276e4592b0ea1abe300d9f8f",
            "style": "IPY_MODEL_1b9da57fce7e42f08897775778eb0d6d",
            "tooltip": ""
          }
        },
        "3993546a276e4592b0ea1abe300d9f8f": {
          "model_module": "@jupyter-widgets/base",
          "model_name": "LayoutModel",
          "model_module_version": "1.2.0",
          "state": {
            "_model_module": "@jupyter-widgets/base",
            "_model_module_version": "1.2.0",
            "_model_name": "LayoutModel",
            "_view_count": null,
            "_view_module": "@jupyter-widgets/base",
            "_view_module_version": "1.2.0",
            "_view_name": "LayoutView",
            "align_content": null,
            "align_items": null,
            "align_self": null,
            "border": null,
            "bottom": null,
            "display": null,
            "flex": null,
            "flex_flow": null,
            "grid_area": null,
            "grid_auto_columns": null,
            "grid_auto_flow": null,
            "grid_auto_rows": null,
            "grid_column": null,
            "grid_gap": null,
            "grid_row": null,
            "grid_template_areas": null,
            "grid_template_columns": null,
            "grid_template_rows": null,
            "height": null,
            "justify_content": null,
            "justify_items": null,
            "left": null,
            "margin": null,
            "max_height": null,
            "max_width": null,
            "min_height": null,
            "min_width": null,
            "object_fit": null,
            "object_position": null,
            "order": null,
            "overflow": null,
            "overflow_x": null,
            "overflow_y": null,
            "padding": null,
            "right": null,
            "top": null,
            "visibility": null,
            "width": "270px"
          }
        },
        "1b9da57fce7e42f08897775778eb0d6d": {
          "model_module": "@jupyter-widgets/controls",
          "model_name": "ButtonStyleModel",
          "model_module_version": "1.5.0",
          "state": {
            "_model_module": "@jupyter-widgets/controls",
            "_model_module_version": "1.5.0",
            "_model_name": "ButtonStyleModel",
            "_view_count": null,
            "_view_module": "@jupyter-widgets/base",
            "_view_module_version": "1.2.0",
            "_view_name": "StyleView",
            "button_color": "lightgray",
            "font_weight": ""
          }
        },
        "45906a1be327429e87295137d83e5df0": {
          "model_module": "@jupyter-widgets/controls",
          "model_name": "ButtonModel",
          "model_module_version": "1.5.0",
          "state": {
            "_dom_classes": [],
            "_model_module": "@jupyter-widgets/controls",
            "_model_module_version": "1.5.0",
            "_model_name": "ButtonModel",
            "_view_count": null,
            "_view_module": "@jupyter-widgets/controls",
            "_view_module_version": "1.5.0",
            "_view_name": "ButtonView",
            "button_style": "",
            "description": "Hidden word is: -------",
            "disabled": false,
            "icon": "",
            "layout": "IPY_MODEL_fa7738b1bcf64e13b442b757c90711cc",
            "style": "IPY_MODEL_bd432cd7882242a287563d9ab0f026cb",
            "tooltip": ""
          }
        },
        "fa7738b1bcf64e13b442b757c90711cc": {
          "model_module": "@jupyter-widgets/base",
          "model_name": "LayoutModel",
          "model_module_version": "1.2.0",
          "state": {
            "_model_module": "@jupyter-widgets/base",
            "_model_module_version": "1.2.0",
            "_model_name": "LayoutModel",
            "_view_count": null,
            "_view_module": "@jupyter-widgets/base",
            "_view_module_version": "1.2.0",
            "_view_name": "LayoutView",
            "align_content": null,
            "align_items": null,
            "align_self": null,
            "border": null,
            "bottom": null,
            "display": null,
            "flex": null,
            "flex_flow": null,
            "grid_area": null,
            "grid_auto_columns": null,
            "grid_auto_flow": null,
            "grid_auto_rows": null,
            "grid_column": null,
            "grid_gap": null,
            "grid_row": null,
            "grid_template_areas": null,
            "grid_template_columns": null,
            "grid_template_rows": null,
            "height": null,
            "justify_content": null,
            "justify_items": null,
            "left": null,
            "margin": null,
            "max_height": null,
            "max_width": null,
            "min_height": null,
            "min_width": null,
            "object_fit": null,
            "object_position": null,
            "order": null,
            "overflow": null,
            "overflow_x": null,
            "overflow_y": null,
            "padding": null,
            "right": null,
            "top": null,
            "visibility": null,
            "width": "270px"
          }
        },
        "bd432cd7882242a287563d9ab0f026cb": {
          "model_module": "@jupyter-widgets/controls",
          "model_name": "ButtonStyleModel",
          "model_module_version": "1.5.0",
          "state": {
            "_model_module": "@jupyter-widgets/controls",
            "_model_module_version": "1.5.0",
            "_model_name": "ButtonStyleModel",
            "_view_count": null,
            "_view_module": "@jupyter-widgets/base",
            "_view_module_version": "1.2.0",
            "_view_name": "StyleView",
            "button_color": "bisque",
            "font_weight": ""
          }
        },
        "adb08a46390644b8bccd0249fa7ee3d7": {
          "model_module": "@jupyter-widgets/controls",
          "model_name": "ButtonModel",
          "model_module_version": "1.5.0",
          "state": {
            "_dom_classes": [],
            "_model_module": "@jupyter-widgets/controls",
            "_model_module_version": "1.5.0",
            "_model_name": "ButtonModel",
            "_view_count": null,
            "_view_module": "@jupyter-widgets/controls",
            "_view_module_version": "1.5.0",
            "_view_name": "ButtonView",
            "button_style": "",
            "description": "Pick a letter",
            "disabled": false,
            "icon": "",
            "layout": "IPY_MODEL_98900984f4a54f0aa042c9b74a8efeca",
            "style": "IPY_MODEL_7640e14d5395416b8700ee95a4703b44",
            "tooltip": ""
          }
        },
        "98900984f4a54f0aa042c9b74a8efeca": {
          "model_module": "@jupyter-widgets/base",
          "model_name": "LayoutModel",
          "model_module_version": "1.2.0",
          "state": {
            "_model_module": "@jupyter-widgets/base",
            "_model_module_version": "1.2.0",
            "_model_name": "LayoutModel",
            "_view_count": null,
            "_view_module": "@jupyter-widgets/base",
            "_view_module_version": "1.2.0",
            "_view_name": "LayoutView",
            "align_content": null,
            "align_items": null,
            "align_self": null,
            "border": null,
            "bottom": null,
            "display": null,
            "flex": null,
            "flex_flow": null,
            "grid_area": null,
            "grid_auto_columns": null,
            "grid_auto_flow": null,
            "grid_auto_rows": null,
            "grid_column": null,
            "grid_gap": null,
            "grid_row": null,
            "grid_template_areas": null,
            "grid_template_columns": null,
            "grid_template_rows": null,
            "height": null,
            "justify_content": null,
            "justify_items": null,
            "left": null,
            "margin": null,
            "max_height": null,
            "max_width": null,
            "min_height": null,
            "min_width": null,
            "object_fit": null,
            "object_position": null,
            "order": null,
            "overflow": null,
            "overflow_x": null,
            "overflow_y": null,
            "padding": null,
            "right": null,
            "top": null,
            "visibility": null,
            "width": "270px"
          }
        },
        "7640e14d5395416b8700ee95a4703b44": {
          "model_module": "@jupyter-widgets/controls",
          "model_name": "ButtonStyleModel",
          "model_module_version": "1.5.0",
          "state": {
            "_model_module": "@jupyter-widgets/controls",
            "_model_module_version": "1.5.0",
            "_model_name": "ButtonStyleModel",
            "_view_count": null,
            "_view_module": "@jupyter-widgets/base",
            "_view_module_version": "1.2.0",
            "_view_name": "StyleView",
            "button_color": "bisque",
            "font_weight": ""
          }
        },
        "5f8994e00aac4624a5f09c53f0d94123": {
          "model_module": "@jupyter-widgets/controls",
          "model_name": "ButtonModel",
          "model_module_version": "1.5.0",
          "state": {
            "_dom_classes": [],
            "_model_module": "@jupyter-widgets/controls",
            "_model_module_version": "1.5.0",
            "_model_name": "ButtonModel",
            "_view_count": null,
            "_view_module": "@jupyter-widgets/controls",
            "_view_module_version": "1.5.0",
            "_view_name": "ButtonView",
            "button_style": "",
            "description": "WRONG! Number of mistakes left: 5",
            "disabled": false,
            "icon": "",
            "layout": "IPY_MODEL_752f7aee58b4415b949240925cb232f3",
            "style": "IPY_MODEL_2322e26a294d414aa161f7540d50a84e",
            "tooltip": ""
          }
        },
        "752f7aee58b4415b949240925cb232f3": {
          "model_module": "@jupyter-widgets/base",
          "model_name": "LayoutModel",
          "model_module_version": "1.2.0",
          "state": {
            "_model_module": "@jupyter-widgets/base",
            "_model_module_version": "1.2.0",
            "_model_name": "LayoutModel",
            "_view_count": null,
            "_view_module": "@jupyter-widgets/base",
            "_view_module_version": "1.2.0",
            "_view_name": "LayoutView",
            "align_content": null,
            "align_items": null,
            "align_self": null,
            "border": null,
            "bottom": null,
            "display": null,
            "flex": null,
            "flex_flow": null,
            "grid_area": null,
            "grid_auto_columns": null,
            "grid_auto_flow": null,
            "grid_auto_rows": null,
            "grid_column": null,
            "grid_gap": null,
            "grid_row": null,
            "grid_template_areas": null,
            "grid_template_columns": null,
            "grid_template_rows": null,
            "height": null,
            "justify_content": null,
            "justify_items": null,
            "left": null,
            "margin": null,
            "max_height": null,
            "max_width": null,
            "min_height": null,
            "min_width": null,
            "object_fit": null,
            "object_position": null,
            "order": null,
            "overflow": null,
            "overflow_x": null,
            "overflow_y": null,
            "padding": null,
            "right": null,
            "top": null,
            "visibility": null,
            "width": "270px"
          }
        },
        "2322e26a294d414aa161f7540d50a84e": {
          "model_module": "@jupyter-widgets/controls",
          "model_name": "ButtonStyleModel",
          "model_module_version": "1.5.0",
          "state": {
            "_model_module": "@jupyter-widgets/controls",
            "_model_module_version": "1.5.0",
            "_model_name": "ButtonStyleModel",
            "_view_count": null,
            "_view_module": "@jupyter-widgets/base",
            "_view_module_version": "1.2.0",
            "_view_name": "StyleView",
            "button_color": "pink",
            "font_weight": ""
          }
        },
        "530e0b7d49ea4f5884121171e07296e6": {
          "model_module": "@jupyter-widgets/controls",
          "model_name": "ButtonModel",
          "model_module_version": "1.5.0",
          "state": {
            "_dom_classes": [],
            "_model_module": "@jupyter-widgets/controls",
            "_model_module_version": "1.5.0",
            "_model_name": "ButtonModel",
            "_view_count": null,
            "_view_module": "@jupyter-widgets/controls",
            "_view_module_version": "1.5.0",
            "_view_name": "ButtonView",
            "button_style": "",
            "description": "Hidden word is: -------",
            "disabled": false,
            "icon": "",
            "layout": "IPY_MODEL_d635672b10f54bb3aad74848fa1623cb",
            "style": "IPY_MODEL_207aa87bc67b47b7867eb371456819b9",
            "tooltip": ""
          }
        },
        "d635672b10f54bb3aad74848fa1623cb": {
          "model_module": "@jupyter-widgets/base",
          "model_name": "LayoutModel",
          "model_module_version": "1.2.0",
          "state": {
            "_model_module": "@jupyter-widgets/base",
            "_model_module_version": "1.2.0",
            "_model_name": "LayoutModel",
            "_view_count": null,
            "_view_module": "@jupyter-widgets/base",
            "_view_module_version": "1.2.0",
            "_view_name": "LayoutView",
            "align_content": null,
            "align_items": null,
            "align_self": null,
            "border": null,
            "bottom": null,
            "display": null,
            "flex": null,
            "flex_flow": null,
            "grid_area": null,
            "grid_auto_columns": null,
            "grid_auto_flow": null,
            "grid_auto_rows": null,
            "grid_column": null,
            "grid_gap": null,
            "grid_row": null,
            "grid_template_areas": null,
            "grid_template_columns": null,
            "grid_template_rows": null,
            "height": null,
            "justify_content": null,
            "justify_items": null,
            "left": null,
            "margin": null,
            "max_height": null,
            "max_width": null,
            "min_height": null,
            "min_width": null,
            "object_fit": null,
            "object_position": null,
            "order": null,
            "overflow": null,
            "overflow_x": null,
            "overflow_y": null,
            "padding": null,
            "right": null,
            "top": null,
            "visibility": null,
            "width": "270px"
          }
        },
        "207aa87bc67b47b7867eb371456819b9": {
          "model_module": "@jupyter-widgets/controls",
          "model_name": "ButtonStyleModel",
          "model_module_version": "1.5.0",
          "state": {
            "_model_module": "@jupyter-widgets/controls",
            "_model_module_version": "1.5.0",
            "_model_name": "ButtonStyleModel",
            "_view_count": null,
            "_view_module": "@jupyter-widgets/base",
            "_view_module_version": "1.2.0",
            "_view_name": "StyleView",
            "button_color": "bisque",
            "font_weight": ""
          }
        },
        "e034e422848c4e00ab6ccf2dfd1dbfaf": {
          "model_module": "@jupyter-widgets/controls",
          "model_name": "ButtonModel",
          "model_module_version": "1.5.0",
          "state": {
            "_dom_classes": [],
            "_model_module": "@jupyter-widgets/controls",
            "_model_module_version": "1.5.0",
            "_model_name": "ButtonModel",
            "_view_count": null,
            "_view_module": "@jupyter-widgets/controls",
            "_view_module_version": "1.5.0",
            "_view_name": "ButtonView",
            "button_style": "",
            "description": "Pick a letter",
            "disabled": false,
            "icon": "",
            "layout": "IPY_MODEL_a7442c60b2ca4e4694a311e47923ad0c",
            "style": "IPY_MODEL_e0e59fa9a28a4eca9215e308c33d4771",
            "tooltip": ""
          }
        },
        "a7442c60b2ca4e4694a311e47923ad0c": {
          "model_module": "@jupyter-widgets/base",
          "model_name": "LayoutModel",
          "model_module_version": "1.2.0",
          "state": {
            "_model_module": "@jupyter-widgets/base",
            "_model_module_version": "1.2.0",
            "_model_name": "LayoutModel",
            "_view_count": null,
            "_view_module": "@jupyter-widgets/base",
            "_view_module_version": "1.2.0",
            "_view_name": "LayoutView",
            "align_content": null,
            "align_items": null,
            "align_self": null,
            "border": null,
            "bottom": null,
            "display": null,
            "flex": null,
            "flex_flow": null,
            "grid_area": null,
            "grid_auto_columns": null,
            "grid_auto_flow": null,
            "grid_auto_rows": null,
            "grid_column": null,
            "grid_gap": null,
            "grid_row": null,
            "grid_template_areas": null,
            "grid_template_columns": null,
            "grid_template_rows": null,
            "height": null,
            "justify_content": null,
            "justify_items": null,
            "left": null,
            "margin": null,
            "max_height": null,
            "max_width": null,
            "min_height": null,
            "min_width": null,
            "object_fit": null,
            "object_position": null,
            "order": null,
            "overflow": null,
            "overflow_x": null,
            "overflow_y": null,
            "padding": null,
            "right": null,
            "top": null,
            "visibility": null,
            "width": "270px"
          }
        },
        "e0e59fa9a28a4eca9215e308c33d4771": {
          "model_module": "@jupyter-widgets/controls",
          "model_name": "ButtonStyleModel",
          "model_module_version": "1.5.0",
          "state": {
            "_model_module": "@jupyter-widgets/controls",
            "_model_module_version": "1.5.0",
            "_model_name": "ButtonStyleModel",
            "_view_count": null,
            "_view_module": "@jupyter-widgets/base",
            "_view_module_version": "1.2.0",
            "_view_name": "StyleView",
            "button_color": "bisque",
            "font_weight": ""
          }
        },
        "41fac69fdb604b8295151deeac4b01e3": {
          "model_module": "@jupyter-widgets/controls",
          "model_name": "ButtonModel",
          "model_module_version": "1.5.0",
          "state": {
            "_dom_classes": [],
            "_model_module": "@jupyter-widgets/controls",
            "_model_module_version": "1.5.0",
            "_model_name": "ButtonModel",
            "_view_count": null,
            "_view_module": "@jupyter-widgets/controls",
            "_view_module_version": "1.5.0",
            "_view_name": "ButtonView",
            "button_style": "",
            "description": "CORRECT! The word contains the letter O",
            "disabled": false,
            "icon": "",
            "layout": "IPY_MODEL_a04e25e08eaa4d2ebb045d34ad0d60c1",
            "style": "IPY_MODEL_45104b27b9ea4189b96b5bdab110807c",
            "tooltip": ""
          }
        },
        "a04e25e08eaa4d2ebb045d34ad0d60c1": {
          "model_module": "@jupyter-widgets/base",
          "model_name": "LayoutModel",
          "model_module_version": "1.2.0",
          "state": {
            "_model_module": "@jupyter-widgets/base",
            "_model_module_version": "1.2.0",
            "_model_name": "LayoutModel",
            "_view_count": null,
            "_view_module": "@jupyter-widgets/base",
            "_view_module_version": "1.2.0",
            "_view_name": "LayoutView",
            "align_content": null,
            "align_items": null,
            "align_self": null,
            "border": null,
            "bottom": null,
            "display": null,
            "flex": null,
            "flex_flow": null,
            "grid_area": null,
            "grid_auto_columns": null,
            "grid_auto_flow": null,
            "grid_auto_rows": null,
            "grid_column": null,
            "grid_gap": null,
            "grid_row": null,
            "grid_template_areas": null,
            "grid_template_columns": null,
            "grid_template_rows": null,
            "height": null,
            "justify_content": null,
            "justify_items": null,
            "left": null,
            "margin": null,
            "max_height": null,
            "max_width": null,
            "min_height": null,
            "min_width": null,
            "object_fit": null,
            "object_position": null,
            "order": null,
            "overflow": null,
            "overflow_x": null,
            "overflow_y": null,
            "padding": null,
            "right": null,
            "top": null,
            "visibility": null,
            "width": "270px"
          }
        },
        "45104b27b9ea4189b96b5bdab110807c": {
          "model_module": "@jupyter-widgets/controls",
          "model_name": "ButtonStyleModel",
          "model_module_version": "1.5.0",
          "state": {
            "_model_module": "@jupyter-widgets/controls",
            "_model_module_version": "1.5.0",
            "_model_name": "ButtonStyleModel",
            "_view_count": null,
            "_view_module": "@jupyter-widgets/base",
            "_view_module_version": "1.2.0",
            "_view_name": "StyleView",
            "button_color": "lightgreen",
            "font_weight": ""
          }
        },
        "8a2dd0ca95c846a3bbf88635bbe313a7": {
          "model_module": "@jupyter-widgets/controls",
          "model_name": "ButtonModel",
          "model_module_version": "1.5.0",
          "state": {
            "_dom_classes": [],
            "_model_module": "@jupyter-widgets/controls",
            "_model_module_version": "1.5.0",
            "_model_name": "ButtonModel",
            "_view_count": null,
            "_view_module": "@jupyter-widgets/controls",
            "_view_module_version": "1.5.0",
            "_view_name": "ButtonView",
            "button_style": "",
            "description": "Hidden word is: ----O--",
            "disabled": false,
            "icon": "",
            "layout": "IPY_MODEL_27e2cc51efa34b44bdd649038215702f",
            "style": "IPY_MODEL_a370b21dfd6645eca34685106ef0b5f5",
            "tooltip": ""
          }
        },
        "27e2cc51efa34b44bdd649038215702f": {
          "model_module": "@jupyter-widgets/base",
          "model_name": "LayoutModel",
          "model_module_version": "1.2.0",
          "state": {
            "_model_module": "@jupyter-widgets/base",
            "_model_module_version": "1.2.0",
            "_model_name": "LayoutModel",
            "_view_count": null,
            "_view_module": "@jupyter-widgets/base",
            "_view_module_version": "1.2.0",
            "_view_name": "LayoutView",
            "align_content": null,
            "align_items": null,
            "align_self": null,
            "border": null,
            "bottom": null,
            "display": null,
            "flex": null,
            "flex_flow": null,
            "grid_area": null,
            "grid_auto_columns": null,
            "grid_auto_flow": null,
            "grid_auto_rows": null,
            "grid_column": null,
            "grid_gap": null,
            "grid_row": null,
            "grid_template_areas": null,
            "grid_template_columns": null,
            "grid_template_rows": null,
            "height": null,
            "justify_content": null,
            "justify_items": null,
            "left": null,
            "margin": null,
            "max_height": null,
            "max_width": null,
            "min_height": null,
            "min_width": null,
            "object_fit": null,
            "object_position": null,
            "order": null,
            "overflow": null,
            "overflow_x": null,
            "overflow_y": null,
            "padding": null,
            "right": null,
            "top": null,
            "visibility": null,
            "width": "270px"
          }
        },
        "a370b21dfd6645eca34685106ef0b5f5": {
          "model_module": "@jupyter-widgets/controls",
          "model_name": "ButtonStyleModel",
          "model_module_version": "1.5.0",
          "state": {
            "_model_module": "@jupyter-widgets/controls",
            "_model_module_version": "1.5.0",
            "_model_name": "ButtonStyleModel",
            "_view_count": null,
            "_view_module": "@jupyter-widgets/base",
            "_view_module_version": "1.2.0",
            "_view_name": "StyleView",
            "button_color": "bisque",
            "font_weight": ""
          }
        },
        "396da481cd40476cab44506f4d1d569e": {
          "model_module": "@jupyter-widgets/controls",
          "model_name": "ButtonModel",
          "model_module_version": "1.5.0",
          "state": {
            "_dom_classes": [],
            "_model_module": "@jupyter-widgets/controls",
            "_model_module_version": "1.5.0",
            "_model_name": "ButtonModel",
            "_view_count": null,
            "_view_module": "@jupyter-widgets/controls",
            "_view_module_version": "1.5.0",
            "_view_name": "ButtonView",
            "button_style": "",
            "description": "Pick a letter",
            "disabled": false,
            "icon": "",
            "layout": "IPY_MODEL_3eddd2a97d3e42cf95a6712b5a84bc0e",
            "style": "IPY_MODEL_2052cdbf8943450594315ebd93a23ab9",
            "tooltip": ""
          }
        },
        "3eddd2a97d3e42cf95a6712b5a84bc0e": {
          "model_module": "@jupyter-widgets/base",
          "model_name": "LayoutModel",
          "model_module_version": "1.2.0",
          "state": {
            "_model_module": "@jupyter-widgets/base",
            "_model_module_version": "1.2.0",
            "_model_name": "LayoutModel",
            "_view_count": null,
            "_view_module": "@jupyter-widgets/base",
            "_view_module_version": "1.2.0",
            "_view_name": "LayoutView",
            "align_content": null,
            "align_items": null,
            "align_self": null,
            "border": null,
            "bottom": null,
            "display": null,
            "flex": null,
            "flex_flow": null,
            "grid_area": null,
            "grid_auto_columns": null,
            "grid_auto_flow": null,
            "grid_auto_rows": null,
            "grid_column": null,
            "grid_gap": null,
            "grid_row": null,
            "grid_template_areas": null,
            "grid_template_columns": null,
            "grid_template_rows": null,
            "height": null,
            "justify_content": null,
            "justify_items": null,
            "left": null,
            "margin": null,
            "max_height": null,
            "max_width": null,
            "min_height": null,
            "min_width": null,
            "object_fit": null,
            "object_position": null,
            "order": null,
            "overflow": null,
            "overflow_x": null,
            "overflow_y": null,
            "padding": null,
            "right": null,
            "top": null,
            "visibility": null,
            "width": "270px"
          }
        },
        "2052cdbf8943450594315ebd93a23ab9": {
          "model_module": "@jupyter-widgets/controls",
          "model_name": "ButtonStyleModel",
          "model_module_version": "1.5.0",
          "state": {
            "_model_module": "@jupyter-widgets/controls",
            "_model_module_version": "1.5.0",
            "_model_name": "ButtonStyleModel",
            "_view_count": null,
            "_view_module": "@jupyter-widgets/base",
            "_view_module_version": "1.2.0",
            "_view_name": "StyleView",
            "button_color": "bisque",
            "font_weight": ""
          }
        },
        "8cf5207ca0764881aa24603ba80c9436": {
          "model_module": "@jupyter-widgets/controls",
          "model_name": "ButtonModel",
          "model_module_version": "1.5.0",
          "state": {
            "_dom_classes": [],
            "_model_module": "@jupyter-widgets/controls",
            "_model_module_version": "1.5.0",
            "_model_name": "ButtonModel",
            "_view_count": null,
            "_view_module": "@jupyter-widgets/controls",
            "_view_module_version": "1.5.0",
            "_view_name": "ButtonView",
            "button_style": "",
            "description": "CORRECT! The word contains the letter R",
            "disabled": false,
            "icon": "",
            "layout": "IPY_MODEL_18468589d7ba4ba3b8fb4e6117fceff8",
            "style": "IPY_MODEL_e169e6d1a4ea41adb80b3b4bdb0f8780",
            "tooltip": ""
          }
        },
        "18468589d7ba4ba3b8fb4e6117fceff8": {
          "model_module": "@jupyter-widgets/base",
          "model_name": "LayoutModel",
          "model_module_version": "1.2.0",
          "state": {
            "_model_module": "@jupyter-widgets/base",
            "_model_module_version": "1.2.0",
            "_model_name": "LayoutModel",
            "_view_count": null,
            "_view_module": "@jupyter-widgets/base",
            "_view_module_version": "1.2.0",
            "_view_name": "LayoutView",
            "align_content": null,
            "align_items": null,
            "align_self": null,
            "border": null,
            "bottom": null,
            "display": null,
            "flex": null,
            "flex_flow": null,
            "grid_area": null,
            "grid_auto_columns": null,
            "grid_auto_flow": null,
            "grid_auto_rows": null,
            "grid_column": null,
            "grid_gap": null,
            "grid_row": null,
            "grid_template_areas": null,
            "grid_template_columns": null,
            "grid_template_rows": null,
            "height": null,
            "justify_content": null,
            "justify_items": null,
            "left": null,
            "margin": null,
            "max_height": null,
            "max_width": null,
            "min_height": null,
            "min_width": null,
            "object_fit": null,
            "object_position": null,
            "order": null,
            "overflow": null,
            "overflow_x": null,
            "overflow_y": null,
            "padding": null,
            "right": null,
            "top": null,
            "visibility": null,
            "width": "270px"
          }
        },
        "e169e6d1a4ea41adb80b3b4bdb0f8780": {
          "model_module": "@jupyter-widgets/controls",
          "model_name": "ButtonStyleModel",
          "model_module_version": "1.5.0",
          "state": {
            "_model_module": "@jupyter-widgets/controls",
            "_model_module_version": "1.5.0",
            "_model_name": "ButtonStyleModel",
            "_view_count": null,
            "_view_module": "@jupyter-widgets/base",
            "_view_module_version": "1.2.0",
            "_view_name": "StyleView",
            "button_color": "lightgreen",
            "font_weight": ""
          }
        },
        "70b4a0694acd4d2ca6d34f8916d82409": {
          "model_module": "@jupyter-widgets/controls",
          "model_name": "ButtonModel",
          "model_module_version": "1.5.0",
          "state": {
            "_dom_classes": [],
            "_model_module": "@jupyter-widgets/controls",
            "_model_module_version": "1.5.0",
            "_model_name": "ButtonModel",
            "_view_count": null,
            "_view_module": "@jupyter-widgets/controls",
            "_view_module_version": "1.5.0",
            "_view_name": "ButtonView",
            "button_style": "",
            "description": "Hidden word is: ----OR-",
            "disabled": false,
            "icon": "",
            "layout": "IPY_MODEL_a42c1d8be84d41d8928257f42a643b5f",
            "style": "IPY_MODEL_1565f9f658014b1f83466efb1492ee73",
            "tooltip": ""
          }
        },
        "a42c1d8be84d41d8928257f42a643b5f": {
          "model_module": "@jupyter-widgets/base",
          "model_name": "LayoutModel",
          "model_module_version": "1.2.0",
          "state": {
            "_model_module": "@jupyter-widgets/base",
            "_model_module_version": "1.2.0",
            "_model_name": "LayoutModel",
            "_view_count": null,
            "_view_module": "@jupyter-widgets/base",
            "_view_module_version": "1.2.0",
            "_view_name": "LayoutView",
            "align_content": null,
            "align_items": null,
            "align_self": null,
            "border": null,
            "bottom": null,
            "display": null,
            "flex": null,
            "flex_flow": null,
            "grid_area": null,
            "grid_auto_columns": null,
            "grid_auto_flow": null,
            "grid_auto_rows": null,
            "grid_column": null,
            "grid_gap": null,
            "grid_row": null,
            "grid_template_areas": null,
            "grid_template_columns": null,
            "grid_template_rows": null,
            "height": null,
            "justify_content": null,
            "justify_items": null,
            "left": null,
            "margin": null,
            "max_height": null,
            "max_width": null,
            "min_height": null,
            "min_width": null,
            "object_fit": null,
            "object_position": null,
            "order": null,
            "overflow": null,
            "overflow_x": null,
            "overflow_y": null,
            "padding": null,
            "right": null,
            "top": null,
            "visibility": null,
            "width": "270px"
          }
        },
        "1565f9f658014b1f83466efb1492ee73": {
          "model_module": "@jupyter-widgets/controls",
          "model_name": "ButtonStyleModel",
          "model_module_version": "1.5.0",
          "state": {
            "_model_module": "@jupyter-widgets/controls",
            "_model_module_version": "1.5.0",
            "_model_name": "ButtonStyleModel",
            "_view_count": null,
            "_view_module": "@jupyter-widgets/base",
            "_view_module_version": "1.2.0",
            "_view_name": "StyleView",
            "button_color": "bisque",
            "font_weight": ""
          }
        },
        "17771fc1e7d04f28bdcb649e9ad079b5": {
          "model_module": "@jupyter-widgets/controls",
          "model_name": "ButtonModel",
          "model_module_version": "1.5.0",
          "state": {
            "_dom_classes": [],
            "_model_module": "@jupyter-widgets/controls",
            "_model_module_version": "1.5.0",
            "_model_name": "ButtonModel",
            "_view_count": null,
            "_view_module": "@jupyter-widgets/controls",
            "_view_module_version": "1.5.0",
            "_view_name": "ButtonView",
            "button_style": "",
            "description": "Pick a letter",
            "disabled": false,
            "icon": "",
            "layout": "IPY_MODEL_ee05d442f3b0450e9a8e34a7452d2dfa",
            "style": "IPY_MODEL_ab86b056c6d44e7cb3da8c1f477aee5e",
            "tooltip": ""
          }
        },
        "ee05d442f3b0450e9a8e34a7452d2dfa": {
          "model_module": "@jupyter-widgets/base",
          "model_name": "LayoutModel",
          "model_module_version": "1.2.0",
          "state": {
            "_model_module": "@jupyter-widgets/base",
            "_model_module_version": "1.2.0",
            "_model_name": "LayoutModel",
            "_view_count": null,
            "_view_module": "@jupyter-widgets/base",
            "_view_module_version": "1.2.0",
            "_view_name": "LayoutView",
            "align_content": null,
            "align_items": null,
            "align_self": null,
            "border": null,
            "bottom": null,
            "display": null,
            "flex": null,
            "flex_flow": null,
            "grid_area": null,
            "grid_auto_columns": null,
            "grid_auto_flow": null,
            "grid_auto_rows": null,
            "grid_column": null,
            "grid_gap": null,
            "grid_row": null,
            "grid_template_areas": null,
            "grid_template_columns": null,
            "grid_template_rows": null,
            "height": null,
            "justify_content": null,
            "justify_items": null,
            "left": null,
            "margin": null,
            "max_height": null,
            "max_width": null,
            "min_height": null,
            "min_width": null,
            "object_fit": null,
            "object_position": null,
            "order": null,
            "overflow": null,
            "overflow_x": null,
            "overflow_y": null,
            "padding": null,
            "right": null,
            "top": null,
            "visibility": null,
            "width": "270px"
          }
        },
        "ab86b056c6d44e7cb3da8c1f477aee5e": {
          "model_module": "@jupyter-widgets/controls",
          "model_name": "ButtonStyleModel",
          "model_module_version": "1.5.0",
          "state": {
            "_model_module": "@jupyter-widgets/controls",
            "_model_module_version": "1.5.0",
            "_model_name": "ButtonStyleModel",
            "_view_count": null,
            "_view_module": "@jupyter-widgets/base",
            "_view_module_version": "1.2.0",
            "_view_name": "StyleView",
            "button_color": "bisque",
            "font_weight": ""
          }
        },
        "f7889f6aee43476ab311e0547e9755dc": {
          "model_module": "@jupyter-widgets/controls",
          "model_name": "ButtonModel",
          "model_module_version": "1.5.0",
          "state": {
            "_dom_classes": [],
            "_model_module": "@jupyter-widgets/controls",
            "_model_module_version": "1.5.0",
            "_model_name": "ButtonModel",
            "_view_count": null,
            "_view_module": "@jupyter-widgets/controls",
            "_view_module_version": "1.5.0",
            "_view_name": "ButtonView",
            "button_style": "",
            "description": "WRONG! Number of mistakes left: 4",
            "disabled": false,
            "icon": "",
            "layout": "IPY_MODEL_64d4dd7db6144f3989138a492afb9510",
            "style": "IPY_MODEL_b6d9a093c6e74735b7a30584e29e5c51",
            "tooltip": ""
          }
        },
        "64d4dd7db6144f3989138a492afb9510": {
          "model_module": "@jupyter-widgets/base",
          "model_name": "LayoutModel",
          "model_module_version": "1.2.0",
          "state": {
            "_model_module": "@jupyter-widgets/base",
            "_model_module_version": "1.2.0",
            "_model_name": "LayoutModel",
            "_view_count": null,
            "_view_module": "@jupyter-widgets/base",
            "_view_module_version": "1.2.0",
            "_view_name": "LayoutView",
            "align_content": null,
            "align_items": null,
            "align_self": null,
            "border": null,
            "bottom": null,
            "display": null,
            "flex": null,
            "flex_flow": null,
            "grid_area": null,
            "grid_auto_columns": null,
            "grid_auto_flow": null,
            "grid_auto_rows": null,
            "grid_column": null,
            "grid_gap": null,
            "grid_row": null,
            "grid_template_areas": null,
            "grid_template_columns": null,
            "grid_template_rows": null,
            "height": null,
            "justify_content": null,
            "justify_items": null,
            "left": null,
            "margin": null,
            "max_height": null,
            "max_width": null,
            "min_height": null,
            "min_width": null,
            "object_fit": null,
            "object_position": null,
            "order": null,
            "overflow": null,
            "overflow_x": null,
            "overflow_y": null,
            "padding": null,
            "right": null,
            "top": null,
            "visibility": null,
            "width": "270px"
          }
        },
        "b6d9a093c6e74735b7a30584e29e5c51": {
          "model_module": "@jupyter-widgets/controls",
          "model_name": "ButtonStyleModel",
          "model_module_version": "1.5.0",
          "state": {
            "_model_module": "@jupyter-widgets/controls",
            "_model_module_version": "1.5.0",
            "_model_name": "ButtonStyleModel",
            "_view_count": null,
            "_view_module": "@jupyter-widgets/base",
            "_view_module_version": "1.2.0",
            "_view_name": "StyleView",
            "button_color": "pink",
            "font_weight": ""
          }
        },
        "67902a93dfa140f1a792cf0b4dbcb7cd": {
          "model_module": "@jupyter-widgets/controls",
          "model_name": "ButtonModel",
          "model_module_version": "1.5.0",
          "state": {
            "_dom_classes": [],
            "_model_module": "@jupyter-widgets/controls",
            "_model_module_version": "1.5.0",
            "_model_name": "ButtonModel",
            "_view_count": null,
            "_view_module": "@jupyter-widgets/controls",
            "_view_module_version": "1.5.0",
            "_view_name": "ButtonView",
            "button_style": "",
            "description": "Hidden word is: ----OR-",
            "disabled": false,
            "icon": "",
            "layout": "IPY_MODEL_8351c53f7b134fe3967bd01aefcebc1f",
            "style": "IPY_MODEL_2216bb96ad32421c86d9ef48b72f476f",
            "tooltip": ""
          }
        },
        "8351c53f7b134fe3967bd01aefcebc1f": {
          "model_module": "@jupyter-widgets/base",
          "model_name": "LayoutModel",
          "model_module_version": "1.2.0",
          "state": {
            "_model_module": "@jupyter-widgets/base",
            "_model_module_version": "1.2.0",
            "_model_name": "LayoutModel",
            "_view_count": null,
            "_view_module": "@jupyter-widgets/base",
            "_view_module_version": "1.2.0",
            "_view_name": "LayoutView",
            "align_content": null,
            "align_items": null,
            "align_self": null,
            "border": null,
            "bottom": null,
            "display": null,
            "flex": null,
            "flex_flow": null,
            "grid_area": null,
            "grid_auto_columns": null,
            "grid_auto_flow": null,
            "grid_auto_rows": null,
            "grid_column": null,
            "grid_gap": null,
            "grid_row": null,
            "grid_template_areas": null,
            "grid_template_columns": null,
            "grid_template_rows": null,
            "height": null,
            "justify_content": null,
            "justify_items": null,
            "left": null,
            "margin": null,
            "max_height": null,
            "max_width": null,
            "min_height": null,
            "min_width": null,
            "object_fit": null,
            "object_position": null,
            "order": null,
            "overflow": null,
            "overflow_x": null,
            "overflow_y": null,
            "padding": null,
            "right": null,
            "top": null,
            "visibility": null,
            "width": "270px"
          }
        },
        "2216bb96ad32421c86d9ef48b72f476f": {
          "model_module": "@jupyter-widgets/controls",
          "model_name": "ButtonStyleModel",
          "model_module_version": "1.5.0",
          "state": {
            "_model_module": "@jupyter-widgets/controls",
            "_model_module_version": "1.5.0",
            "_model_name": "ButtonStyleModel",
            "_view_count": null,
            "_view_module": "@jupyter-widgets/base",
            "_view_module_version": "1.2.0",
            "_view_name": "StyleView",
            "button_color": "bisque",
            "font_weight": ""
          }
        },
        "aa61900a3de243809a875a9c2d01bb42": {
          "model_module": "@jupyter-widgets/controls",
          "model_name": "ButtonModel",
          "model_module_version": "1.5.0",
          "state": {
            "_dom_classes": [],
            "_model_module": "@jupyter-widgets/controls",
            "_model_module_version": "1.5.0",
            "_model_name": "ButtonModel",
            "_view_count": null,
            "_view_module": "@jupyter-widgets/controls",
            "_view_module_version": "1.5.0",
            "_view_name": "ButtonView",
            "button_style": "",
            "description": "Pick a letter",
            "disabled": false,
            "icon": "",
            "layout": "IPY_MODEL_f5f5a962d6244bafa21329be2215ae61",
            "style": "IPY_MODEL_74a74352406f466da950fe06483cf103",
            "tooltip": ""
          }
        },
        "f5f5a962d6244bafa21329be2215ae61": {
          "model_module": "@jupyter-widgets/base",
          "model_name": "LayoutModel",
          "model_module_version": "1.2.0",
          "state": {
            "_model_module": "@jupyter-widgets/base",
            "_model_module_version": "1.2.0",
            "_model_name": "LayoutModel",
            "_view_count": null,
            "_view_module": "@jupyter-widgets/base",
            "_view_module_version": "1.2.0",
            "_view_name": "LayoutView",
            "align_content": null,
            "align_items": null,
            "align_self": null,
            "border": null,
            "bottom": null,
            "display": null,
            "flex": null,
            "flex_flow": null,
            "grid_area": null,
            "grid_auto_columns": null,
            "grid_auto_flow": null,
            "grid_auto_rows": null,
            "grid_column": null,
            "grid_gap": null,
            "grid_row": null,
            "grid_template_areas": null,
            "grid_template_columns": null,
            "grid_template_rows": null,
            "height": null,
            "justify_content": null,
            "justify_items": null,
            "left": null,
            "margin": null,
            "max_height": null,
            "max_width": null,
            "min_height": null,
            "min_width": null,
            "object_fit": null,
            "object_position": null,
            "order": null,
            "overflow": null,
            "overflow_x": null,
            "overflow_y": null,
            "padding": null,
            "right": null,
            "top": null,
            "visibility": null,
            "width": "270px"
          }
        },
        "74a74352406f466da950fe06483cf103": {
          "model_module": "@jupyter-widgets/controls",
          "model_name": "ButtonStyleModel",
          "model_module_version": "1.5.0",
          "state": {
            "_model_module": "@jupyter-widgets/controls",
            "_model_module_version": "1.5.0",
            "_model_name": "ButtonStyleModel",
            "_view_count": null,
            "_view_module": "@jupyter-widgets/base",
            "_view_module_version": "1.2.0",
            "_view_name": "StyleView",
            "button_color": "bisque",
            "font_weight": ""
          }
        },
        "f922e1938aa8419896027b7f44e7b361": {
          "model_module": "@jupyter-widgets/controls",
          "model_name": "ButtonModel",
          "model_module_version": "1.5.0",
          "state": {
            "_dom_classes": [],
            "_model_module": "@jupyter-widgets/controls",
            "_model_module_version": "1.5.0",
            "_model_name": "ButtonModel",
            "_view_count": null,
            "_view_module": "@jupyter-widgets/controls",
            "_view_module_version": "1.5.0",
            "_view_name": "ButtonView",
            "button_style": "",
            "description": "CORRECT! The word contains the letter I",
            "disabled": false,
            "icon": "",
            "layout": "IPY_MODEL_a5052ebfffc940bbbc188ab4fb645648",
            "style": "IPY_MODEL_09cf3a05a4394ed094e6705b27ec508a",
            "tooltip": ""
          }
        },
        "a5052ebfffc940bbbc188ab4fb645648": {
          "model_module": "@jupyter-widgets/base",
          "model_name": "LayoutModel",
          "model_module_version": "1.2.0",
          "state": {
            "_model_module": "@jupyter-widgets/base",
            "_model_module_version": "1.2.0",
            "_model_name": "LayoutModel",
            "_view_count": null,
            "_view_module": "@jupyter-widgets/base",
            "_view_module_version": "1.2.0",
            "_view_name": "LayoutView",
            "align_content": null,
            "align_items": null,
            "align_self": null,
            "border": null,
            "bottom": null,
            "display": null,
            "flex": null,
            "flex_flow": null,
            "grid_area": null,
            "grid_auto_columns": null,
            "grid_auto_flow": null,
            "grid_auto_rows": null,
            "grid_column": null,
            "grid_gap": null,
            "grid_row": null,
            "grid_template_areas": null,
            "grid_template_columns": null,
            "grid_template_rows": null,
            "height": null,
            "justify_content": null,
            "justify_items": null,
            "left": null,
            "margin": null,
            "max_height": null,
            "max_width": null,
            "min_height": null,
            "min_width": null,
            "object_fit": null,
            "object_position": null,
            "order": null,
            "overflow": null,
            "overflow_x": null,
            "overflow_y": null,
            "padding": null,
            "right": null,
            "top": null,
            "visibility": null,
            "width": "270px"
          }
        },
        "09cf3a05a4394ed094e6705b27ec508a": {
          "model_module": "@jupyter-widgets/controls",
          "model_name": "ButtonStyleModel",
          "model_module_version": "1.5.0",
          "state": {
            "_model_module": "@jupyter-widgets/controls",
            "_model_module_version": "1.5.0",
            "_model_name": "ButtonStyleModel",
            "_view_count": null,
            "_view_module": "@jupyter-widgets/base",
            "_view_module_version": "1.2.0",
            "_view_name": "StyleView",
            "button_color": "lightgreen",
            "font_weight": ""
          }
        },
        "1f7b99568bd74a6592c1bcdcebd7a4fd": {
          "model_module": "@jupyter-widgets/controls",
          "model_name": "ButtonModel",
          "model_module_version": "1.5.0",
          "state": {
            "_dom_classes": [],
            "_model_module": "@jupyter-widgets/controls",
            "_model_module_version": "1.5.0",
            "_model_name": "ButtonModel",
            "_view_count": null,
            "_view_module": "@jupyter-widgets/controls",
            "_view_module_version": "1.5.0",
            "_view_name": "ButtonView",
            "button_style": "",
            "description": "Hidden word is: --I-OR-",
            "disabled": false,
            "icon": "",
            "layout": "IPY_MODEL_8e4129ee6fa64c729ace06d158279d12",
            "style": "IPY_MODEL_a2372c3e4b334b608d82b2b8d6b563ba",
            "tooltip": ""
          }
        },
        "8e4129ee6fa64c729ace06d158279d12": {
          "model_module": "@jupyter-widgets/base",
          "model_name": "LayoutModel",
          "model_module_version": "1.2.0",
          "state": {
            "_model_module": "@jupyter-widgets/base",
            "_model_module_version": "1.2.0",
            "_model_name": "LayoutModel",
            "_view_count": null,
            "_view_module": "@jupyter-widgets/base",
            "_view_module_version": "1.2.0",
            "_view_name": "LayoutView",
            "align_content": null,
            "align_items": null,
            "align_self": null,
            "border": null,
            "bottom": null,
            "display": null,
            "flex": null,
            "flex_flow": null,
            "grid_area": null,
            "grid_auto_columns": null,
            "grid_auto_flow": null,
            "grid_auto_rows": null,
            "grid_column": null,
            "grid_gap": null,
            "grid_row": null,
            "grid_template_areas": null,
            "grid_template_columns": null,
            "grid_template_rows": null,
            "height": null,
            "justify_content": null,
            "justify_items": null,
            "left": null,
            "margin": null,
            "max_height": null,
            "max_width": null,
            "min_height": null,
            "min_width": null,
            "object_fit": null,
            "object_position": null,
            "order": null,
            "overflow": null,
            "overflow_x": null,
            "overflow_y": null,
            "padding": null,
            "right": null,
            "top": null,
            "visibility": null,
            "width": "270px"
          }
        },
        "a2372c3e4b334b608d82b2b8d6b563ba": {
          "model_module": "@jupyter-widgets/controls",
          "model_name": "ButtonStyleModel",
          "model_module_version": "1.5.0",
          "state": {
            "_model_module": "@jupyter-widgets/controls",
            "_model_module_version": "1.5.0",
            "_model_name": "ButtonStyleModel",
            "_view_count": null,
            "_view_module": "@jupyter-widgets/base",
            "_view_module_version": "1.2.0",
            "_view_name": "StyleView",
            "button_color": "bisque",
            "font_weight": ""
          }
        },
        "bc8f7c85b0c2482fa6389d6f97bee493": {
          "model_module": "@jupyter-widgets/controls",
          "model_name": "ButtonModel",
          "model_module_version": "1.5.0",
          "state": {
            "_dom_classes": [],
            "_model_module": "@jupyter-widgets/controls",
            "_model_module_version": "1.5.0",
            "_model_name": "ButtonModel",
            "_view_count": null,
            "_view_module": "@jupyter-widgets/controls",
            "_view_module_version": "1.5.0",
            "_view_name": "ButtonView",
            "button_style": "",
            "description": "Pick a letter",
            "disabled": false,
            "icon": "",
            "layout": "IPY_MODEL_0af1fd6db4604c5abc4cd49daf3f2d49",
            "style": "IPY_MODEL_7f41f22cc5784b79ac2c33a995f2ba0f",
            "tooltip": ""
          }
        },
        "0af1fd6db4604c5abc4cd49daf3f2d49": {
          "model_module": "@jupyter-widgets/base",
          "model_name": "LayoutModel",
          "model_module_version": "1.2.0",
          "state": {
            "_model_module": "@jupyter-widgets/base",
            "_model_module_version": "1.2.0",
            "_model_name": "LayoutModel",
            "_view_count": null,
            "_view_module": "@jupyter-widgets/base",
            "_view_module_version": "1.2.0",
            "_view_name": "LayoutView",
            "align_content": null,
            "align_items": null,
            "align_self": null,
            "border": null,
            "bottom": null,
            "display": null,
            "flex": null,
            "flex_flow": null,
            "grid_area": null,
            "grid_auto_columns": null,
            "grid_auto_flow": null,
            "grid_auto_rows": null,
            "grid_column": null,
            "grid_gap": null,
            "grid_row": null,
            "grid_template_areas": null,
            "grid_template_columns": null,
            "grid_template_rows": null,
            "height": null,
            "justify_content": null,
            "justify_items": null,
            "left": null,
            "margin": null,
            "max_height": null,
            "max_width": null,
            "min_height": null,
            "min_width": null,
            "object_fit": null,
            "object_position": null,
            "order": null,
            "overflow": null,
            "overflow_x": null,
            "overflow_y": null,
            "padding": null,
            "right": null,
            "top": null,
            "visibility": null,
            "width": "270px"
          }
        },
        "7f41f22cc5784b79ac2c33a995f2ba0f": {
          "model_module": "@jupyter-widgets/controls",
          "model_name": "ButtonStyleModel",
          "model_module_version": "1.5.0",
          "state": {
            "_model_module": "@jupyter-widgets/controls",
            "_model_module_version": "1.5.0",
            "_model_name": "ButtonStyleModel",
            "_view_count": null,
            "_view_module": "@jupyter-widgets/base",
            "_view_module_version": "1.2.0",
            "_view_name": "StyleView",
            "button_color": "bisque",
            "font_weight": ""
          }
        },
        "2445619fdcf343d5aceff7522af353b0": {
          "model_module": "@jupyter-widgets/controls",
          "model_name": "ButtonModel",
          "model_module_version": "1.5.0",
          "state": {
            "_dom_classes": [],
            "_model_module": "@jupyter-widgets/controls",
            "_model_module_version": "1.5.0",
            "_model_name": "ButtonModel",
            "_view_count": null,
            "_view_module": "@jupyter-widgets/controls",
            "_view_module_version": "1.5.0",
            "_view_name": "ButtonView",
            "button_style": "",
            "description": "CORRECT! The word contains the letter N",
            "disabled": false,
            "icon": "",
            "layout": "IPY_MODEL_d0e6804a5e484edf96f04f67a26d67c4",
            "style": "IPY_MODEL_a62964408bed4534a89e92e38dcd91b1",
            "tooltip": ""
          }
        },
        "d0e6804a5e484edf96f04f67a26d67c4": {
          "model_module": "@jupyter-widgets/base",
          "model_name": "LayoutModel",
          "model_module_version": "1.2.0",
          "state": {
            "_model_module": "@jupyter-widgets/base",
            "_model_module_version": "1.2.0",
            "_model_name": "LayoutModel",
            "_view_count": null,
            "_view_module": "@jupyter-widgets/base",
            "_view_module_version": "1.2.0",
            "_view_name": "LayoutView",
            "align_content": null,
            "align_items": null,
            "align_self": null,
            "border": null,
            "bottom": null,
            "display": null,
            "flex": null,
            "flex_flow": null,
            "grid_area": null,
            "grid_auto_columns": null,
            "grid_auto_flow": null,
            "grid_auto_rows": null,
            "grid_column": null,
            "grid_gap": null,
            "grid_row": null,
            "grid_template_areas": null,
            "grid_template_columns": null,
            "grid_template_rows": null,
            "height": null,
            "justify_content": null,
            "justify_items": null,
            "left": null,
            "margin": null,
            "max_height": null,
            "max_width": null,
            "min_height": null,
            "min_width": null,
            "object_fit": null,
            "object_position": null,
            "order": null,
            "overflow": null,
            "overflow_x": null,
            "overflow_y": null,
            "padding": null,
            "right": null,
            "top": null,
            "visibility": null,
            "width": "270px"
          }
        },
        "a62964408bed4534a89e92e38dcd91b1": {
          "model_module": "@jupyter-widgets/controls",
          "model_name": "ButtonStyleModel",
          "model_module_version": "1.5.0",
          "state": {
            "_model_module": "@jupyter-widgets/controls",
            "_model_module_version": "1.5.0",
            "_model_name": "ButtonStyleModel",
            "_view_count": null,
            "_view_module": "@jupyter-widgets/base",
            "_view_module_version": "1.2.0",
            "_view_name": "StyleView",
            "button_color": "lightgreen",
            "font_weight": ""
          }
        },
        "5dec4ec075a0495a9dcf44e06429fc37": {
          "model_module": "@jupyter-widgets/controls",
          "model_name": "ButtonModel",
          "model_module_version": "1.5.0",
          "state": {
            "_dom_classes": [],
            "_model_module": "@jupyter-widgets/controls",
            "_model_module_version": "1.5.0",
            "_model_name": "ButtonModel",
            "_view_count": null,
            "_view_module": "@jupyter-widgets/controls",
            "_view_module_version": "1.5.0",
            "_view_name": "ButtonView",
            "button_style": "",
            "description": "Hidden word is: -NI-ORN",
            "disabled": false,
            "icon": "",
            "layout": "IPY_MODEL_0e87aa9dd13e43cb8fd6fe7bdea2e7b2",
            "style": "IPY_MODEL_7f2a8c5ce5e148efae8d6f0027113814",
            "tooltip": ""
          }
        },
        "0e87aa9dd13e43cb8fd6fe7bdea2e7b2": {
          "model_module": "@jupyter-widgets/base",
          "model_name": "LayoutModel",
          "model_module_version": "1.2.0",
          "state": {
            "_model_module": "@jupyter-widgets/base",
            "_model_module_version": "1.2.0",
            "_model_name": "LayoutModel",
            "_view_count": null,
            "_view_module": "@jupyter-widgets/base",
            "_view_module_version": "1.2.0",
            "_view_name": "LayoutView",
            "align_content": null,
            "align_items": null,
            "align_self": null,
            "border": null,
            "bottom": null,
            "display": null,
            "flex": null,
            "flex_flow": null,
            "grid_area": null,
            "grid_auto_columns": null,
            "grid_auto_flow": null,
            "grid_auto_rows": null,
            "grid_column": null,
            "grid_gap": null,
            "grid_row": null,
            "grid_template_areas": null,
            "grid_template_columns": null,
            "grid_template_rows": null,
            "height": null,
            "justify_content": null,
            "justify_items": null,
            "left": null,
            "margin": null,
            "max_height": null,
            "max_width": null,
            "min_height": null,
            "min_width": null,
            "object_fit": null,
            "object_position": null,
            "order": null,
            "overflow": null,
            "overflow_x": null,
            "overflow_y": null,
            "padding": null,
            "right": null,
            "top": null,
            "visibility": null,
            "width": "270px"
          }
        },
        "7f2a8c5ce5e148efae8d6f0027113814": {
          "model_module": "@jupyter-widgets/controls",
          "model_name": "ButtonStyleModel",
          "model_module_version": "1.5.0",
          "state": {
            "_model_module": "@jupyter-widgets/controls",
            "_model_module_version": "1.5.0",
            "_model_name": "ButtonStyleModel",
            "_view_count": null,
            "_view_module": "@jupyter-widgets/base",
            "_view_module_version": "1.2.0",
            "_view_name": "StyleView",
            "button_color": "bisque",
            "font_weight": ""
          }
        },
        "7ed12167dbb04bb396255570c1e4a131": {
          "model_module": "@jupyter-widgets/controls",
          "model_name": "ButtonModel",
          "model_module_version": "1.5.0",
          "state": {
            "_dom_classes": [],
            "_model_module": "@jupyter-widgets/controls",
            "_model_module_version": "1.5.0",
            "_model_name": "ButtonModel",
            "_view_count": null,
            "_view_module": "@jupyter-widgets/controls",
            "_view_module_version": "1.5.0",
            "_view_name": "ButtonView",
            "button_style": "",
            "description": "Pick a letter",
            "disabled": false,
            "icon": "",
            "layout": "IPY_MODEL_d516b619b4cc4cd8870cea18fb785b8f",
            "style": "IPY_MODEL_94411cc4af934cb6a035bc75b7200e18",
            "tooltip": ""
          }
        },
        "d516b619b4cc4cd8870cea18fb785b8f": {
          "model_module": "@jupyter-widgets/base",
          "model_name": "LayoutModel",
          "model_module_version": "1.2.0",
          "state": {
            "_model_module": "@jupyter-widgets/base",
            "_model_module_version": "1.2.0",
            "_model_name": "LayoutModel",
            "_view_count": null,
            "_view_module": "@jupyter-widgets/base",
            "_view_module_version": "1.2.0",
            "_view_name": "LayoutView",
            "align_content": null,
            "align_items": null,
            "align_self": null,
            "border": null,
            "bottom": null,
            "display": null,
            "flex": null,
            "flex_flow": null,
            "grid_area": null,
            "grid_auto_columns": null,
            "grid_auto_flow": null,
            "grid_auto_rows": null,
            "grid_column": null,
            "grid_gap": null,
            "grid_row": null,
            "grid_template_areas": null,
            "grid_template_columns": null,
            "grid_template_rows": null,
            "height": null,
            "justify_content": null,
            "justify_items": null,
            "left": null,
            "margin": null,
            "max_height": null,
            "max_width": null,
            "min_height": null,
            "min_width": null,
            "object_fit": null,
            "object_position": null,
            "order": null,
            "overflow": null,
            "overflow_x": null,
            "overflow_y": null,
            "padding": null,
            "right": null,
            "top": null,
            "visibility": null,
            "width": "270px"
          }
        },
        "94411cc4af934cb6a035bc75b7200e18": {
          "model_module": "@jupyter-widgets/controls",
          "model_name": "ButtonStyleModel",
          "model_module_version": "1.5.0",
          "state": {
            "_model_module": "@jupyter-widgets/controls",
            "_model_module_version": "1.5.0",
            "_model_name": "ButtonStyleModel",
            "_view_count": null,
            "_view_module": "@jupyter-widgets/base",
            "_view_module_version": "1.2.0",
            "_view_name": "StyleView",
            "button_color": "bisque",
            "font_weight": ""
          }
        },
        "7c6cf1ae09854926a86ab7fd05198766": {
          "model_module": "@jupyter-widgets/controls",
          "model_name": "ButtonModel",
          "model_module_version": "1.5.0",
          "state": {
            "_dom_classes": [],
            "_model_module": "@jupyter-widgets/controls",
            "_model_module_version": "1.5.0",
            "_model_name": "ButtonModel",
            "_view_count": null,
            "_view_module": "@jupyter-widgets/controls",
            "_view_module_version": "1.5.0",
            "_view_name": "ButtonView",
            "button_style": "",
            "description": "WRONG! Number of mistakes left: 3",
            "disabled": false,
            "icon": "",
            "layout": "IPY_MODEL_1e40e96f71e042828331f8e4536c78ef",
            "style": "IPY_MODEL_1cd40ccd79a542b4a42f381cadb4a0d0",
            "tooltip": ""
          }
        },
        "1e40e96f71e042828331f8e4536c78ef": {
          "model_module": "@jupyter-widgets/base",
          "model_name": "LayoutModel",
          "model_module_version": "1.2.0",
          "state": {
            "_model_module": "@jupyter-widgets/base",
            "_model_module_version": "1.2.0",
            "_model_name": "LayoutModel",
            "_view_count": null,
            "_view_module": "@jupyter-widgets/base",
            "_view_module_version": "1.2.0",
            "_view_name": "LayoutView",
            "align_content": null,
            "align_items": null,
            "align_self": null,
            "border": null,
            "bottom": null,
            "display": null,
            "flex": null,
            "flex_flow": null,
            "grid_area": null,
            "grid_auto_columns": null,
            "grid_auto_flow": null,
            "grid_auto_rows": null,
            "grid_column": null,
            "grid_gap": null,
            "grid_row": null,
            "grid_template_areas": null,
            "grid_template_columns": null,
            "grid_template_rows": null,
            "height": null,
            "justify_content": null,
            "justify_items": null,
            "left": null,
            "margin": null,
            "max_height": null,
            "max_width": null,
            "min_height": null,
            "min_width": null,
            "object_fit": null,
            "object_position": null,
            "order": null,
            "overflow": null,
            "overflow_x": null,
            "overflow_y": null,
            "padding": null,
            "right": null,
            "top": null,
            "visibility": null,
            "width": "270px"
          }
        },
        "1cd40ccd79a542b4a42f381cadb4a0d0": {
          "model_module": "@jupyter-widgets/controls",
          "model_name": "ButtonStyleModel",
          "model_module_version": "1.5.0",
          "state": {
            "_model_module": "@jupyter-widgets/controls",
            "_model_module_version": "1.5.0",
            "_model_name": "ButtonStyleModel",
            "_view_count": null,
            "_view_module": "@jupyter-widgets/base",
            "_view_module_version": "1.2.0",
            "_view_name": "StyleView",
            "button_color": "pink",
            "font_weight": ""
          }
        },
        "1e04697e8bdb449b9b791f1be1edef46": {
          "model_module": "@jupyter-widgets/controls",
          "model_name": "ButtonModel",
          "model_module_version": "1.5.0",
          "state": {
            "_dom_classes": [],
            "_model_module": "@jupyter-widgets/controls",
            "_model_module_version": "1.5.0",
            "_model_name": "ButtonModel",
            "_view_count": null,
            "_view_module": "@jupyter-widgets/controls",
            "_view_module_version": "1.5.0",
            "_view_name": "ButtonView",
            "button_style": "",
            "description": "Hidden word is: -NI-ORN",
            "disabled": false,
            "icon": "",
            "layout": "IPY_MODEL_ee3a898c7c63475eac56cc4b8d504a4c",
            "style": "IPY_MODEL_da8e49c469654c94adc5c161bc6f81fe",
            "tooltip": ""
          }
        },
        "ee3a898c7c63475eac56cc4b8d504a4c": {
          "model_module": "@jupyter-widgets/base",
          "model_name": "LayoutModel",
          "model_module_version": "1.2.0",
          "state": {
            "_model_module": "@jupyter-widgets/base",
            "_model_module_version": "1.2.0",
            "_model_name": "LayoutModel",
            "_view_count": null,
            "_view_module": "@jupyter-widgets/base",
            "_view_module_version": "1.2.0",
            "_view_name": "LayoutView",
            "align_content": null,
            "align_items": null,
            "align_self": null,
            "border": null,
            "bottom": null,
            "display": null,
            "flex": null,
            "flex_flow": null,
            "grid_area": null,
            "grid_auto_columns": null,
            "grid_auto_flow": null,
            "grid_auto_rows": null,
            "grid_column": null,
            "grid_gap": null,
            "grid_row": null,
            "grid_template_areas": null,
            "grid_template_columns": null,
            "grid_template_rows": null,
            "height": null,
            "justify_content": null,
            "justify_items": null,
            "left": null,
            "margin": null,
            "max_height": null,
            "max_width": null,
            "min_height": null,
            "min_width": null,
            "object_fit": null,
            "object_position": null,
            "order": null,
            "overflow": null,
            "overflow_x": null,
            "overflow_y": null,
            "padding": null,
            "right": null,
            "top": null,
            "visibility": null,
            "width": "270px"
          }
        },
        "da8e49c469654c94adc5c161bc6f81fe": {
          "model_module": "@jupyter-widgets/controls",
          "model_name": "ButtonStyleModel",
          "model_module_version": "1.5.0",
          "state": {
            "_model_module": "@jupyter-widgets/controls",
            "_model_module_version": "1.5.0",
            "_model_name": "ButtonStyleModel",
            "_view_count": null,
            "_view_module": "@jupyter-widgets/base",
            "_view_module_version": "1.2.0",
            "_view_name": "StyleView",
            "button_color": "bisque",
            "font_weight": ""
          }
        },
        "4fcd1a5cdb3a44d5bcb5e88bb1206ae7": {
          "model_module": "@jupyter-widgets/controls",
          "model_name": "ButtonModel",
          "model_module_version": "1.5.0",
          "state": {
            "_dom_classes": [],
            "_model_module": "@jupyter-widgets/controls",
            "_model_module_version": "1.5.0",
            "_model_name": "ButtonModel",
            "_view_count": null,
            "_view_module": "@jupyter-widgets/controls",
            "_view_module_version": "1.5.0",
            "_view_name": "ButtonView",
            "button_style": "",
            "description": "Pick a letter",
            "disabled": false,
            "icon": "",
            "layout": "IPY_MODEL_e09519441eb4420eb3282347bd346d45",
            "style": "IPY_MODEL_4011d8e54bf041abb94ce8fe64b250d4",
            "tooltip": ""
          }
        },
        "e09519441eb4420eb3282347bd346d45": {
          "model_module": "@jupyter-widgets/base",
          "model_name": "LayoutModel",
          "model_module_version": "1.2.0",
          "state": {
            "_model_module": "@jupyter-widgets/base",
            "_model_module_version": "1.2.0",
            "_model_name": "LayoutModel",
            "_view_count": null,
            "_view_module": "@jupyter-widgets/base",
            "_view_module_version": "1.2.0",
            "_view_name": "LayoutView",
            "align_content": null,
            "align_items": null,
            "align_self": null,
            "border": null,
            "bottom": null,
            "display": null,
            "flex": null,
            "flex_flow": null,
            "grid_area": null,
            "grid_auto_columns": null,
            "grid_auto_flow": null,
            "grid_auto_rows": null,
            "grid_column": null,
            "grid_gap": null,
            "grid_row": null,
            "grid_template_areas": null,
            "grid_template_columns": null,
            "grid_template_rows": null,
            "height": null,
            "justify_content": null,
            "justify_items": null,
            "left": null,
            "margin": null,
            "max_height": null,
            "max_width": null,
            "min_height": null,
            "min_width": null,
            "object_fit": null,
            "object_position": null,
            "order": null,
            "overflow": null,
            "overflow_x": null,
            "overflow_y": null,
            "padding": null,
            "right": null,
            "top": null,
            "visibility": null,
            "width": "270px"
          }
        },
        "4011d8e54bf041abb94ce8fe64b250d4": {
          "model_module": "@jupyter-widgets/controls",
          "model_name": "ButtonStyleModel",
          "model_module_version": "1.5.0",
          "state": {
            "_model_module": "@jupyter-widgets/controls",
            "_model_module_version": "1.5.0",
            "_model_name": "ButtonStyleModel",
            "_view_count": null,
            "_view_module": "@jupyter-widgets/base",
            "_view_module_version": "1.2.0",
            "_view_name": "StyleView",
            "button_color": "bisque",
            "font_weight": ""
          }
        },
        "2d27818b15de447990c792e2ecb777cd": {
          "model_module": "@jupyter-widgets/controls",
          "model_name": "ButtonModel",
          "model_module_version": "1.5.0",
          "state": {
            "_dom_classes": [],
            "_model_module": "@jupyter-widgets/controls",
            "_model_module_version": "1.5.0",
            "_model_name": "ButtonModel",
            "_view_count": null,
            "_view_module": "@jupyter-widgets/controls",
            "_view_module_version": "1.5.0",
            "_view_name": "ButtonView",
            "button_style": "",
            "description": "CORRECT! The word contains the letter U",
            "disabled": false,
            "icon": "",
            "layout": "IPY_MODEL_3ee0abe49e804a1bb1621e68d6ca39ba",
            "style": "IPY_MODEL_728a96ccc6c84b9a963020dda9771680",
            "tooltip": ""
          }
        },
        "3ee0abe49e804a1bb1621e68d6ca39ba": {
          "model_module": "@jupyter-widgets/base",
          "model_name": "LayoutModel",
          "model_module_version": "1.2.0",
          "state": {
            "_model_module": "@jupyter-widgets/base",
            "_model_module_version": "1.2.0",
            "_model_name": "LayoutModel",
            "_view_count": null,
            "_view_module": "@jupyter-widgets/base",
            "_view_module_version": "1.2.0",
            "_view_name": "LayoutView",
            "align_content": null,
            "align_items": null,
            "align_self": null,
            "border": null,
            "bottom": null,
            "display": null,
            "flex": null,
            "flex_flow": null,
            "grid_area": null,
            "grid_auto_columns": null,
            "grid_auto_flow": null,
            "grid_auto_rows": null,
            "grid_column": null,
            "grid_gap": null,
            "grid_row": null,
            "grid_template_areas": null,
            "grid_template_columns": null,
            "grid_template_rows": null,
            "height": null,
            "justify_content": null,
            "justify_items": null,
            "left": null,
            "margin": null,
            "max_height": null,
            "max_width": null,
            "min_height": null,
            "min_width": null,
            "object_fit": null,
            "object_position": null,
            "order": null,
            "overflow": null,
            "overflow_x": null,
            "overflow_y": null,
            "padding": null,
            "right": null,
            "top": null,
            "visibility": null,
            "width": "270px"
          }
        },
        "728a96ccc6c84b9a963020dda9771680": {
          "model_module": "@jupyter-widgets/controls",
          "model_name": "ButtonStyleModel",
          "model_module_version": "1.5.0",
          "state": {
            "_model_module": "@jupyter-widgets/controls",
            "_model_module_version": "1.5.0",
            "_model_name": "ButtonStyleModel",
            "_view_count": null,
            "_view_module": "@jupyter-widgets/base",
            "_view_module_version": "1.2.0",
            "_view_name": "StyleView",
            "button_color": "lightgreen",
            "font_weight": ""
          }
        },
        "d8fb674dd39b44ed89d47c27394a8dc2": {
          "model_module": "@jupyter-widgets/controls",
          "model_name": "ButtonModel",
          "model_module_version": "1.5.0",
          "state": {
            "_dom_classes": [],
            "_model_module": "@jupyter-widgets/controls",
            "_model_module_version": "1.5.0",
            "_model_name": "ButtonModel",
            "_view_count": null,
            "_view_module": "@jupyter-widgets/controls",
            "_view_module_version": "1.5.0",
            "_view_name": "ButtonView",
            "button_style": "",
            "description": "Hidden word is: UNI-ORN",
            "disabled": false,
            "icon": "",
            "layout": "IPY_MODEL_6594874d4cee47a78f4a039bea6e6b62",
            "style": "IPY_MODEL_746a6be80531447092879829d5e24d03",
            "tooltip": ""
          }
        },
        "6594874d4cee47a78f4a039bea6e6b62": {
          "model_module": "@jupyter-widgets/base",
          "model_name": "LayoutModel",
          "model_module_version": "1.2.0",
          "state": {
            "_model_module": "@jupyter-widgets/base",
            "_model_module_version": "1.2.0",
            "_model_name": "LayoutModel",
            "_view_count": null,
            "_view_module": "@jupyter-widgets/base",
            "_view_module_version": "1.2.0",
            "_view_name": "LayoutView",
            "align_content": null,
            "align_items": null,
            "align_self": null,
            "border": null,
            "bottom": null,
            "display": null,
            "flex": null,
            "flex_flow": null,
            "grid_area": null,
            "grid_auto_columns": null,
            "grid_auto_flow": null,
            "grid_auto_rows": null,
            "grid_column": null,
            "grid_gap": null,
            "grid_row": null,
            "grid_template_areas": null,
            "grid_template_columns": null,
            "grid_template_rows": null,
            "height": null,
            "justify_content": null,
            "justify_items": null,
            "left": null,
            "margin": null,
            "max_height": null,
            "max_width": null,
            "min_height": null,
            "min_width": null,
            "object_fit": null,
            "object_position": null,
            "order": null,
            "overflow": null,
            "overflow_x": null,
            "overflow_y": null,
            "padding": null,
            "right": null,
            "top": null,
            "visibility": null,
            "width": "270px"
          }
        },
        "746a6be80531447092879829d5e24d03": {
          "model_module": "@jupyter-widgets/controls",
          "model_name": "ButtonStyleModel",
          "model_module_version": "1.5.0",
          "state": {
            "_model_module": "@jupyter-widgets/controls",
            "_model_module_version": "1.5.0",
            "_model_name": "ButtonStyleModel",
            "_view_count": null,
            "_view_module": "@jupyter-widgets/base",
            "_view_module_version": "1.2.0",
            "_view_name": "StyleView",
            "button_color": "bisque",
            "font_weight": ""
          }
        },
        "cc781ea9d8954a469c9ca50919bf62d4": {
          "model_module": "@jupyter-widgets/controls",
          "model_name": "ButtonModel",
          "model_module_version": "1.5.0",
          "state": {
            "_dom_classes": [],
            "_model_module": "@jupyter-widgets/controls",
            "_model_module_version": "1.5.0",
            "_model_name": "ButtonModel",
            "_view_count": null,
            "_view_module": "@jupyter-widgets/controls",
            "_view_module_version": "1.5.0",
            "_view_name": "ButtonView",
            "button_style": "",
            "description": "Pick a letter",
            "disabled": false,
            "icon": "",
            "layout": "IPY_MODEL_63a43f667e324f6f86189d4f47e2dea9",
            "style": "IPY_MODEL_5db5218eb2f9421897368ab6f570add7",
            "tooltip": ""
          }
        },
        "63a43f667e324f6f86189d4f47e2dea9": {
          "model_module": "@jupyter-widgets/base",
          "model_name": "LayoutModel",
          "model_module_version": "1.2.0",
          "state": {
            "_model_module": "@jupyter-widgets/base",
            "_model_module_version": "1.2.0",
            "_model_name": "LayoutModel",
            "_view_count": null,
            "_view_module": "@jupyter-widgets/base",
            "_view_module_version": "1.2.0",
            "_view_name": "LayoutView",
            "align_content": null,
            "align_items": null,
            "align_self": null,
            "border": null,
            "bottom": null,
            "display": null,
            "flex": null,
            "flex_flow": null,
            "grid_area": null,
            "grid_auto_columns": null,
            "grid_auto_flow": null,
            "grid_auto_rows": null,
            "grid_column": null,
            "grid_gap": null,
            "grid_row": null,
            "grid_template_areas": null,
            "grid_template_columns": null,
            "grid_template_rows": null,
            "height": null,
            "justify_content": null,
            "justify_items": null,
            "left": null,
            "margin": null,
            "max_height": null,
            "max_width": null,
            "min_height": null,
            "min_width": null,
            "object_fit": null,
            "object_position": null,
            "order": null,
            "overflow": null,
            "overflow_x": null,
            "overflow_y": null,
            "padding": null,
            "right": null,
            "top": null,
            "visibility": null,
            "width": "270px"
          }
        },
        "5db5218eb2f9421897368ab6f570add7": {
          "model_module": "@jupyter-widgets/controls",
          "model_name": "ButtonStyleModel",
          "model_module_version": "1.5.0",
          "state": {
            "_model_module": "@jupyter-widgets/controls",
            "_model_module_version": "1.5.0",
            "_model_name": "ButtonStyleModel",
            "_view_count": null,
            "_view_module": "@jupyter-widgets/base",
            "_view_module_version": "1.2.0",
            "_view_name": "StyleView",
            "button_color": "bisque",
            "font_weight": ""
          }
        },
        "16d665f2e4454f39a1c35129d681bf14": {
          "model_module": "@jupyter-widgets/controls",
          "model_name": "ButtonModel",
          "model_module_version": "1.5.0",
          "state": {
            "_dom_classes": [],
            "_model_module": "@jupyter-widgets/controls",
            "_model_module_version": "1.5.0",
            "_model_name": "ButtonModel",
            "_view_count": null,
            "_view_module": "@jupyter-widgets/controls",
            "_view_module_version": "1.5.0",
            "_view_name": "ButtonView",
            "button_style": "",
            "description": "CORRECT! The word contains the letter C",
            "disabled": false,
            "icon": "",
            "layout": "IPY_MODEL_57cac39a93b0453c8d8f07d019abd3c3",
            "style": "IPY_MODEL_deb8fd120c1344d6912ea107b8e1366c",
            "tooltip": ""
          }
        },
        "57cac39a93b0453c8d8f07d019abd3c3": {
          "model_module": "@jupyter-widgets/base",
          "model_name": "LayoutModel",
          "model_module_version": "1.2.0",
          "state": {
            "_model_module": "@jupyter-widgets/base",
            "_model_module_version": "1.2.0",
            "_model_name": "LayoutModel",
            "_view_count": null,
            "_view_module": "@jupyter-widgets/base",
            "_view_module_version": "1.2.0",
            "_view_name": "LayoutView",
            "align_content": null,
            "align_items": null,
            "align_self": null,
            "border": null,
            "bottom": null,
            "display": null,
            "flex": null,
            "flex_flow": null,
            "grid_area": null,
            "grid_auto_columns": null,
            "grid_auto_flow": null,
            "grid_auto_rows": null,
            "grid_column": null,
            "grid_gap": null,
            "grid_row": null,
            "grid_template_areas": null,
            "grid_template_columns": null,
            "grid_template_rows": null,
            "height": null,
            "justify_content": null,
            "justify_items": null,
            "left": null,
            "margin": null,
            "max_height": null,
            "max_width": null,
            "min_height": null,
            "min_width": null,
            "object_fit": null,
            "object_position": null,
            "order": null,
            "overflow": null,
            "overflow_x": null,
            "overflow_y": null,
            "padding": null,
            "right": null,
            "top": null,
            "visibility": null,
            "width": "270px"
          }
        },
        "deb8fd120c1344d6912ea107b8e1366c": {
          "model_module": "@jupyter-widgets/controls",
          "model_name": "ButtonStyleModel",
          "model_module_version": "1.5.0",
          "state": {
            "_model_module": "@jupyter-widgets/controls",
            "_model_module_version": "1.5.0",
            "_model_name": "ButtonStyleModel",
            "_view_count": null,
            "_view_module": "@jupyter-widgets/base",
            "_view_module_version": "1.2.0",
            "_view_name": "StyleView",
            "button_color": "lightgreen",
            "font_weight": ""
          }
        },
        "8656170a87fb4990b7db4673919c8f81": {
          "model_module": "@jupyter-widgets/controls",
          "model_name": "ButtonModel",
          "model_module_version": "1.5.0",
          "state": {
            "_dom_classes": [],
            "_model_module": "@jupyter-widgets/controls",
            "_model_module_version": "1.5.0",
            "_model_name": "ButtonModel",
            "_view_count": null,
            "_view_module": "@jupyter-widgets/controls",
            "_view_module_version": "1.5.0",
            "_view_name": "ButtonView",
            "button_style": "",
            "description": "Hidden word is: UNICORN",
            "disabled": false,
            "icon": "",
            "layout": "IPY_MODEL_401c744f0e2447f98601900ddad74d59",
            "style": "IPY_MODEL_da707fa8b37844eb9dd595abeea3160c",
            "tooltip": ""
          }
        },
        "401c744f0e2447f98601900ddad74d59": {
          "model_module": "@jupyter-widgets/base",
          "model_name": "LayoutModel",
          "model_module_version": "1.2.0",
          "state": {
            "_model_module": "@jupyter-widgets/base",
            "_model_module_version": "1.2.0",
            "_model_name": "LayoutModel",
            "_view_count": null,
            "_view_module": "@jupyter-widgets/base",
            "_view_module_version": "1.2.0",
            "_view_name": "LayoutView",
            "align_content": null,
            "align_items": null,
            "align_self": null,
            "border": null,
            "bottom": null,
            "display": null,
            "flex": null,
            "flex_flow": null,
            "grid_area": null,
            "grid_auto_columns": null,
            "grid_auto_flow": null,
            "grid_auto_rows": null,
            "grid_column": null,
            "grid_gap": null,
            "grid_row": null,
            "grid_template_areas": null,
            "grid_template_columns": null,
            "grid_template_rows": null,
            "height": null,
            "justify_content": null,
            "justify_items": null,
            "left": null,
            "margin": null,
            "max_height": null,
            "max_width": null,
            "min_height": null,
            "min_width": null,
            "object_fit": null,
            "object_position": null,
            "order": null,
            "overflow": null,
            "overflow_x": null,
            "overflow_y": null,
            "padding": null,
            "right": null,
            "top": null,
            "visibility": null,
            "width": "270px"
          }
        },
        "da707fa8b37844eb9dd595abeea3160c": {
          "model_module": "@jupyter-widgets/controls",
          "model_name": "ButtonStyleModel",
          "model_module_version": "1.5.0",
          "state": {
            "_model_module": "@jupyter-widgets/controls",
            "_model_module_version": "1.5.0",
            "_model_name": "ButtonStyleModel",
            "_view_count": null,
            "_view_module": "@jupyter-widgets/base",
            "_view_module_version": "1.2.0",
            "_view_name": "StyleView",
            "button_color": "bisque",
            "font_weight": ""
          }
        },
        "8af8a51b93aa4cb4a9b2eabe5118bb8d": {
          "model_module": "@jupyter-widgets/controls",
          "model_name": "ButtonModel",
          "model_module_version": "1.5.0",
          "state": {
            "_dom_classes": [],
            "_model_module": "@jupyter-widgets/controls",
            "_model_module_version": "1.5.0",
            "_model_name": "ButtonModel",
            "_view_count": null,
            "_view_module": "@jupyter-widgets/controls",
            "_view_module_version": "1.5.0",
            "_view_name": "ButtonView",
            "button_style": "",
            "description": "🎉 CONGRATULATIONS! 🎉 The hidden word is UNICORN",
            "disabled": false,
            "icon": "",
            "layout": "IPY_MODEL_ce46e78a0e0242119e2cf536ceacc667",
            "style": "IPY_MODEL_eb8c9e16c9c1446ebb5224b3292409cc",
            "tooltip": ""
          }
        },
        "ce46e78a0e0242119e2cf536ceacc667": {
          "model_module": "@jupyter-widgets/base",
          "model_name": "LayoutModel",
          "model_module_version": "1.2.0",
          "state": {
            "_model_module": "@jupyter-widgets/base",
            "_model_module_version": "1.2.0",
            "_model_name": "LayoutModel",
            "_view_count": null,
            "_view_module": "@jupyter-widgets/base",
            "_view_module_version": "1.2.0",
            "_view_name": "LayoutView",
            "align_content": null,
            "align_items": null,
            "align_self": null,
            "border": null,
            "bottom": null,
            "display": null,
            "flex": null,
            "flex_flow": null,
            "grid_area": null,
            "grid_auto_columns": null,
            "grid_auto_flow": null,
            "grid_auto_rows": null,
            "grid_column": null,
            "grid_gap": null,
            "grid_row": null,
            "grid_template_areas": null,
            "grid_template_columns": null,
            "grid_template_rows": null,
            "height": null,
            "justify_content": null,
            "justify_items": null,
            "left": null,
            "margin": null,
            "max_height": null,
            "max_width": null,
            "min_height": null,
            "min_width": null,
            "object_fit": null,
            "object_position": null,
            "order": null,
            "overflow": null,
            "overflow_x": null,
            "overflow_y": null,
            "padding": null,
            "right": null,
            "top": null,
            "visibility": null,
            "width": "500px"
          }
        },
        "eb8c9e16c9c1446ebb5224b3292409cc": {
          "model_module": "@jupyter-widgets/controls",
          "model_name": "ButtonStyleModel",
          "model_module_version": "1.5.0",
          "state": {
            "_model_module": "@jupyter-widgets/controls",
            "_model_module_version": "1.5.0",
            "_model_name": "ButtonStyleModel",
            "_view_count": null,
            "_view_module": "@jupyter-widgets/base",
            "_view_module_version": "1.2.0",
            "_view_name": "StyleView",
            "button_color": "lightgreen",
            "font_weight": ""
          }
        }
      }
    }
  },
  "nbformat": 4,
  "nbformat_minor": 5
}