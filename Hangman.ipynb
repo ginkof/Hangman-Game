{
  "cells": [
    {
      "cell_type": "markdown",
      "metadata": {
        "id": "view-in-github",
        "colab_type": "text"
      },
      "source": [
        "<a href=\"https://colab.research.google.com/github/ginkof/Hangman-Game/blob/main/Hangman.ipynb\" target=\"_parent\"><img src=\"https://colab.research.google.com/assets/colab-badge.svg\" alt=\"Open In Colab\"/></a>"
      ]
    },
    {
      "cell_type": "markdown",
      "id": "649cee80-bfe9-4cf7-955b-560a475b94d7",
      "metadata": {
        "id": "649cee80-bfe9-4cf7-955b-560a475b94d7"
      },
      "source": [
        "# Hangman game"
      ]
    },
    {
      "cell_type": "markdown",
      "id": "451fb977-2ab3-4c26-b7d6-dee486eef375",
      "metadata": {
        "id": "451fb977-2ab3-4c26-b7d6-dee486eef375"
      },
      "source": [
        "Hangman is a guessing game where the player(s) try to guess the word by suggesting a letters.  \n",
        "Player is allowed a certain number of mistakes.  \n",
        "The game starts with a word where all letters are replaced with a `-` so the only information available to a player is a number of letters in a word.  \n",
        "**Start**: `------`  \n",
        "For each correctly guessed letter, a position of the letter is revealed (if there are multiple positions for a same letter, they are all revealed.  \n",
        "**Correct**: `-E--E-`  \n",
        "For each wrongly guessed letter, number of allowed mistakes decreases by 1.  \n",
        "**Wrong**: 'Number of allowed mistakes is now 5'"
      ]
    },
    {
      "cell_type": "markdown",
      "id": "ba3d2b29-e8f8-43fd-91c4-ab89fb4a611b",
      "metadata": {
        "id": "ba3d2b29-e8f8-43fd-91c4-ab89fb4a611b"
      },
      "source": [
        "Name of the game comes from a drawing of a hanged stick figure. For every mistake a new element of a hanged figure is added.  \n",
        "If a player guesses a word before the last element of a figure is added, a player wins.  \n",
        "If a player doesn't guess a word before the last element of a figure is added, player loses."
      ]
    },
    {
      "cell_type": "markdown",
      "id": "1d2579aa-e600-4e7a-ba90-93e628749ce0",
      "metadata": {
        "tags": [],
        "id": "1d2579aa-e600-4e7a-ba90-93e628749ce0"
      },
      "source": [
        "**Here you can see a simulation of 3 different steps:**  \n",
        "Hidden word is: ------  \n",
        "==============================================================  \n",
        "Pick a letter:  \n",
        " S  \n",
        "Correct! There is a letter S in a secret word!  \n",
        "S-----  \n",
        "==============================================================  \n",
        "Pick a letter:  \n",
        " V  \n",
        "WRONG! Number of mistakes left: 5  \n",
        "  \n",
        "        ____________  \n",
        "         |  \n",
        "         O  \n",
        "==============================================================  \n",
        "Pick a letter:  \n",
        " L  \n",
        "WRONG! Number of mistakes left: 4  \n",
        "  \n",
        "        ____________  \n",
        "         |  \n",
        "         O  \n",
        "        /  \n",
        "==============================================================  \n",
        "Pick a letter:  "
      ]
    },
    {
      "cell_type": "markdown",
      "id": "94acc394-2211-4f74-bb29-ec5cea076fa4",
      "metadata": {
        "id": "94acc394-2211-4f74-bb29-ec5cea076fa4"
      },
      "source": [
        "### Hangman parts"
      ]
    },
    {
      "cell_type": "code",
      "execution_count": 1,
      "id": "0fc7d9fd-0ba4-474f-8ae6-a7fd4b399b8e",
      "metadata": {
        "id": "0fc7d9fd-0ba4-474f-8ae6-a7fd4b399b8e"
      },
      "outputs": [],
      "source": [
        "hangman={0:'''\n",
        "        ____________\n",
        "         |''',\n",
        "        1:'''\n",
        "        ____________\n",
        "         |\n",
        "         O''',\n",
        "        2:'''\n",
        "        ____________\n",
        "         |\n",
        "         O\n",
        "        /''',\n",
        "        3:'''\n",
        "        ____________\n",
        "         |\n",
        "         O\n",
        "        / \\\\''',\n",
        "        4:'''\n",
        "        ____________\n",
        "         |\n",
        "         O\n",
        "        / \\\\\n",
        "         |''',\n",
        "        5:'''\n",
        "        ____________\n",
        "         |\n",
        "         O\n",
        "        / \\\\\n",
        "         |\n",
        "        /''',\n",
        "        6:'''\n",
        "        ____________\n",
        "         |\n",
        "         O\n",
        "        / \\\\\n",
        "         |\n",
        "        / \\\\ '''}"
      ]
    },
    {
      "cell_type": "markdown",
      "source": [
        "###Random words"
      ],
      "metadata": {
        "id": "iHqpNaihEu6r"
      },
      "id": "iHqpNaihEu6r"
    },
    {
      "cell_type": "code",
      "source": [
        "import random\n",
        "\n",
        "hangman_words = ['ABRACADABRA',\n",
        " 'BANANA',\n",
        " 'CARAVAN',\n",
        " 'DYNAMITE',\n",
        " 'ELEPHANT',\n",
        " 'FANTASTIC',\n",
        " 'GALAXY',\n",
        " 'HAPPINESS',\n",
        " 'INCREDIBLE',\n",
        " 'JUBILANT',\n",
        " 'KANGAROO',\n",
        " 'LAVENDER',\n",
        " 'MAGNIFICENT',\n",
        " 'NOSTALGIA',\n",
        " 'OCTOPUS',\n",
        " 'PARADISE',\n",
        " 'QUARANTINE',\n",
        " 'RESILIENCE',\n",
        " 'SPECTACULAR',\n",
        " 'TANGERINE',\n",
        " 'UNICORN',\n",
        " 'VICTORY',\n",
        " 'WATERFALL',\n",
        " 'XYLOPHONE',\n",
        " 'YELLOW',\n",
        " 'ZEBRA',\n",
        " 'AGGRESSIVE',\n",
        " 'BIRTHDAY',\n",
        " 'CANDIDATE',\n",
        " 'DANGEROUS',\n",
        " 'ELEGANCE',\n",
        " 'FASHION',\n",
        " 'GALLOP',\n",
        " 'HUMOROUS',\n",
        " 'INDIVIDUAL',\n",
        " 'JAZZ',\n",
        " 'KNOWLEDGE',\n",
        " 'LEGENDARY',\n",
        " 'MAGNETIC',\n",
        " 'NEIGHBOR',\n",
        " 'OUTSTANDING',\n",
        " 'PARTICULAR',\n",
        " 'QUICKSAND',\n",
        " 'RELATIONSHIP',\n",
        " 'SPECTATOR',\n",
        " 'TECHNOLOGY',\n",
        " 'UNBELIEVABLE',\n",
        " 'VIBRANT',\n",
        " 'WONDERFUL',\n",
        " 'XYLEM']\n"
      ],
      "metadata": {
        "id": "w6UwUCJyEZtx"
      },
      "id": "w6UwUCJyEZtx",
      "execution_count": 2,
      "outputs": []
    },
    {
      "cell_type": "markdown",
      "source": [
        "### My code"
      ],
      "metadata": {
        "id": "-P_iffkqE0kd"
      },
      "id": "-P_iffkqE0kd"
    },
    {
      "cell_type": "code",
      "source": [
        "\n",
        "#I introduce a function to customize the output\n",
        "\n",
        "#Import some useful libraries\n",
        "import ipywidgets as widgets \n",
        "from IPython.display import display\n",
        "\n",
        "def colored_output(text, color, length):\n",
        "    b1 = widgets.Button(description=text)\n",
        "    b1.style.button_color = color\n",
        "    b1.layout.width = str(length) + 'px' \n",
        "    display(b1)\n",
        "\n",
        "#Pick up a random word from the previously defined hangman_words\n",
        "word = random.choice(hangman_words)\n",
        "hidden_word = '-'*len(word)\n",
        "mistake_count = 6\n",
        "\n",
        "# Display a welcoming message\n",
        "colored_output('🔠 Welcome to the Hangman Game ☠️','lightgray',270)\n",
        "\n",
        "#Print out the hidden_word\n",
        "colored_output(f'Hidden word is: {hidden_word}','bisque',270)\n",
        "\n",
        "#The game has to stop either when points are over mistake_count=0 or when we have guessed the word hidden_word.count('-')=0\n",
        "while mistake_count>0 and hidden_word.count('-')>0:\n",
        "  colored_output('Pick a letter','bisque',270)\n",
        "  picked_letter = input().capitalize()\n",
        "  #to count how many times picked_letter appears in a word\n",
        "  letter_count=0\n",
        "  #to count the position of a picked_letter in a word\n",
        "  index_count=0\n",
        "  \n",
        "  if(picked_letter in word):\n",
        "    print(hangman[6-mistake_count])\n",
        "    for i in range(mistake_count):\n",
        "      print('            ')\n",
        "    print('\\t_🪑________🥷')\n",
        "    print('')\n",
        "    colored_output(f'CORRECT! The word contains the letter {picked_letter}','lightgreen',270)\n",
        "    \n",
        "    #Now we count how many times picked_letter appears in word\n",
        "    for letter in word:\n",
        "      if picked_letter == letter:\n",
        "        hidden_word = hidden_word[:index_count] + picked_letter + hidden_word[index_count+1:]\n",
        "      index_count += 1\n",
        "  else:\n",
        "    mistake_count -= 1\n",
        "    colored_output(f'WRONG! Number of mistakes left: {mistake_count}','pink',270)\n",
        "    print(hangman[6-mistake_count])\n",
        "    for i in range(mistake_count):\n",
        "      print('            ')\n",
        "\n",
        "    print('\\t_🪑________🥷')\n",
        "    print('')\n",
        "\n",
        "  print('')\n",
        "  colored_output(f'Hidden word is: {hidden_word}','bisque',270)\n",
        "\n",
        "if mistake_count == 0:\n",
        "  print('')\n",
        "  colored_output(f'💀 HANGED! 💀 The hidden word was {word}','pink',500)\n",
        "else:\n",
        "  colored_output(f'🎉 CONGRATULATIONS! 🎉 The hidden word is {word}','lightgreen',500)\n"
      ],
      "metadata": {
        "colab": {
          "base_uri": "https://localhost:8080/",
          "height": 131,
          "referenced_widgets": [
            "b9a261ab826341b2a8018315ad9732d1",
            "5884108ed354419f806ebcba34d592ff",
            "a94081f5e286437ebd12e68b408f995e",
            "778d9a8c4bdc4e16897fcbd58d72dd88",
            "9f0f6a3f054f4d0a9f0fe7a616951ffe",
            "b7f4e56809974629a04fd93a7514d2cd",
            "61d755ea81bf42d59987690dcd22adb8",
            "8c0576b9a7734462972ae8404564d178",
            "a2a4557adc8d4677927ec2542cf99166"
          ]
        },
        "id": "G-TLOzxLEf_I",
        "outputId": "3557cd97-5967-44c4-ab15-168485677c55"
      },
      "id": "G-TLOzxLEf_I",
      "execution_count": null,
      "outputs": [
        {
          "output_type": "display_data",
          "data": {
            "text/plain": [
              "Button(description='🔠 Welcome to the Hangman Game ☠️', layout=Layout(width='270px'), style=ButtonStyle(button_…"
            ],
            "application/vnd.jupyter.widget-view+json": {
              "version_major": 2,
              "version_minor": 0,
              "model_id": "b9a261ab826341b2a8018315ad9732d1"
            }
          },
          "metadata": {}
        },
        {
          "output_type": "display_data",
          "data": {
            "text/plain": [
              "Button(description='Hidden word is: ------------', layout=Layout(width='270px'), style=ButtonStyle(button_colo…"
            ],
            "application/vnd.jupyter.widget-view+json": {
              "version_major": 2,
              "version_minor": 0,
              "model_id": "778d9a8c4bdc4e16897fcbd58d72dd88"
            }
          },
          "metadata": {}
        },
        {
          "output_type": "display_data",
          "data": {
            "text/plain": [
              "Button(description='Pick a letter', layout=Layout(width='270px'), style=ButtonStyle(button_color='bisque'))"
            ],
            "application/vnd.jupyter.widget-view+json": {
              "version_major": 2,
              "version_minor": 0,
              "model_id": "61d755ea81bf42d59987690dcd22adb8"
            }
          },
          "metadata": {}
        }
      ]
    },
    {
      "cell_type": "code",
      "source": [],
      "metadata": {
        "id": "POYOagRsFUdB"
      },
      "id": "POYOagRsFUdB",
      "execution_count": null,
      "outputs": []
    }
  ],
  "metadata": {
    "kernelspec": {
      "display_name": "Python 3 (ipykernel)",
      "language": "python",
      "name": "python3"
    },
    "language_info": {
      "codemirror_mode": {
        "name": "ipython",
        "version": 3
      },
      "file_extension": ".py",
      "mimetype": "text/x-python",
      "name": "python",
      "nbconvert_exporter": "python",
      "pygments_lexer": "ipython3",
      "version": "3.9.12"
    },
    "colab": {
      "provenance": [],
      "collapsed_sections": [
        "649cee80-bfe9-4cf7-955b-560a475b94d7"
      ],
      "include_colab_link": true
    },
    "widgets": {
      "application/vnd.jupyter.widget-state+json": {
        "b9a261ab826341b2a8018315ad9732d1": {
          "model_module": "@jupyter-widgets/controls",
          "model_name": "ButtonModel",
          "model_module_version": "1.5.0",
          "state": {
            "_dom_classes": [],
            "_model_module": "@jupyter-widgets/controls",
            "_model_module_version": "1.5.0",
            "_model_name": "ButtonModel",
            "_view_count": null,
            "_view_module": "@jupyter-widgets/controls",
            "_view_module_version": "1.5.0",
            "_view_name": "ButtonView",
            "button_style": "",
            "description": "🔠 Welcome to the Hangman Game ☠️",
            "disabled": false,
            "icon": "",
            "layout": "IPY_MODEL_5884108ed354419f806ebcba34d592ff",
            "style": "IPY_MODEL_a94081f5e286437ebd12e68b408f995e",
            "tooltip": ""
          }
        },
        "5884108ed354419f806ebcba34d592ff": {
          "model_module": "@jupyter-widgets/base",
          "model_name": "LayoutModel",
          "model_module_version": "1.2.0",
          "state": {
            "_model_module": "@jupyter-widgets/base",
            "_model_module_version": "1.2.0",
            "_model_name": "LayoutModel",
            "_view_count": null,
            "_view_module": "@jupyter-widgets/base",
            "_view_module_version": "1.2.0",
            "_view_name": "LayoutView",
            "align_content": null,
            "align_items": null,
            "align_self": null,
            "border": null,
            "bottom": null,
            "display": null,
            "flex": null,
            "flex_flow": null,
            "grid_area": null,
            "grid_auto_columns": null,
            "grid_auto_flow": null,
            "grid_auto_rows": null,
            "grid_column": null,
            "grid_gap": null,
            "grid_row": null,
            "grid_template_areas": null,
            "grid_template_columns": null,
            "grid_template_rows": null,
            "height": null,
            "justify_content": null,
            "justify_items": null,
            "left": null,
            "margin": null,
            "max_height": null,
            "max_width": null,
            "min_height": null,
            "min_width": null,
            "object_fit": null,
            "object_position": null,
            "order": null,
            "overflow": null,
            "overflow_x": null,
            "overflow_y": null,
            "padding": null,
            "right": null,
            "top": null,
            "visibility": null,
            "width": "270px"
          }
        },
        "a94081f5e286437ebd12e68b408f995e": {
          "model_module": "@jupyter-widgets/controls",
          "model_name": "ButtonStyleModel",
          "model_module_version": "1.5.0",
          "state": {
            "_model_module": "@jupyter-widgets/controls",
            "_model_module_version": "1.5.0",
            "_model_name": "ButtonStyleModel",
            "_view_count": null,
            "_view_module": "@jupyter-widgets/base",
            "_view_module_version": "1.2.0",
            "_view_name": "StyleView",
            "button_color": "lightgray",
            "font_weight": ""
          }
        },
        "778d9a8c4bdc4e16897fcbd58d72dd88": {
          "model_module": "@jupyter-widgets/controls",
          "model_name": "ButtonModel",
          "model_module_version": "1.5.0",
          "state": {
            "_dom_classes": [],
            "_model_module": "@jupyter-widgets/controls",
            "_model_module_version": "1.5.0",
            "_model_name": "ButtonModel",
            "_view_count": null,
            "_view_module": "@jupyter-widgets/controls",
            "_view_module_version": "1.5.0",
            "_view_name": "ButtonView",
            "button_style": "",
            "description": "Hidden word is: ------------",
            "disabled": false,
            "icon": "",
            "layout": "IPY_MODEL_9f0f6a3f054f4d0a9f0fe7a616951ffe",
            "style": "IPY_MODEL_b7f4e56809974629a04fd93a7514d2cd",
            "tooltip": ""
          }
        },
        "9f0f6a3f054f4d0a9f0fe7a616951ffe": {
          "model_module": "@jupyter-widgets/base",
          "model_name": "LayoutModel",
          "model_module_version": "1.2.0",
          "state": {
            "_model_module": "@jupyter-widgets/base",
            "_model_module_version": "1.2.0",
            "_model_name": "LayoutModel",
            "_view_count": null,
            "_view_module": "@jupyter-widgets/base",
            "_view_module_version": "1.2.0",
            "_view_name": "LayoutView",
            "align_content": null,
            "align_items": null,
            "align_self": null,
            "border": null,
            "bottom": null,
            "display": null,
            "flex": null,
            "flex_flow": null,
            "grid_area": null,
            "grid_auto_columns": null,
            "grid_auto_flow": null,
            "grid_auto_rows": null,
            "grid_column": null,
            "grid_gap": null,
            "grid_row": null,
            "grid_template_areas": null,
            "grid_template_columns": null,
            "grid_template_rows": null,
            "height": null,
            "justify_content": null,
            "justify_items": null,
            "left": null,
            "margin": null,
            "max_height": null,
            "max_width": null,
            "min_height": null,
            "min_width": null,
            "object_fit": null,
            "object_position": null,
            "order": null,
            "overflow": null,
            "overflow_x": null,
            "overflow_y": null,
            "padding": null,
            "right": null,
            "top": null,
            "visibility": null,
            "width": "270px"
          }
        },
        "b7f4e56809974629a04fd93a7514d2cd": {
          "model_module": "@jupyter-widgets/controls",
          "model_name": "ButtonStyleModel",
          "model_module_version": "1.5.0",
          "state": {
            "_model_module": "@jupyter-widgets/controls",
            "_model_module_version": "1.5.0",
            "_model_name": "ButtonStyleModel",
            "_view_count": null,
            "_view_module": "@jupyter-widgets/base",
            "_view_module_version": "1.2.0",
            "_view_name": "StyleView",
            "button_color": "bisque",
            "font_weight": ""
          }
        },
        "61d755ea81bf42d59987690dcd22adb8": {
          "model_module": "@jupyter-widgets/controls",
          "model_name": "ButtonModel",
          "model_module_version": "1.5.0",
          "state": {
            "_dom_classes": [],
            "_model_module": "@jupyter-widgets/controls",
            "_model_module_version": "1.5.0",
            "_model_name": "ButtonModel",
            "_view_count": null,
            "_view_module": "@jupyter-widgets/controls",
            "_view_module_version": "1.5.0",
            "_view_name": "ButtonView",
            "button_style": "",
            "description": "Pick a letter",
            "disabled": false,
            "icon": "",
            "layout": "IPY_MODEL_8c0576b9a7734462972ae8404564d178",
            "style": "IPY_MODEL_a2a4557adc8d4677927ec2542cf99166",
            "tooltip": ""
          }
        },
        "8c0576b9a7734462972ae8404564d178": {
          "model_module": "@jupyter-widgets/base",
          "model_name": "LayoutModel",
          "model_module_version": "1.2.0",
          "state": {
            "_model_module": "@jupyter-widgets/base",
            "_model_module_version": "1.2.0",
            "_model_name": "LayoutModel",
            "_view_count": null,
            "_view_module": "@jupyter-widgets/base",
            "_view_module_version": "1.2.0",
            "_view_name": "LayoutView",
            "align_content": null,
            "align_items": null,
            "align_self": null,
            "border": null,
            "bottom": null,
            "display": null,
            "flex": null,
            "flex_flow": null,
            "grid_area": null,
            "grid_auto_columns": null,
            "grid_auto_flow": null,
            "grid_auto_rows": null,
            "grid_column": null,
            "grid_gap": null,
            "grid_row": null,
            "grid_template_areas": null,
            "grid_template_columns": null,
            "grid_template_rows": null,
            "height": null,
            "justify_content": null,
            "justify_items": null,
            "left": null,
            "margin": null,
            "max_height": null,
            "max_width": null,
            "min_height": null,
            "min_width": null,
            "object_fit": null,
            "object_position": null,
            "order": null,
            "overflow": null,
            "overflow_x": null,
            "overflow_y": null,
            "padding": null,
            "right": null,
            "top": null,
            "visibility": null,
            "width": "270px"
          }
        },
        "a2a4557adc8d4677927ec2542cf99166": {
          "model_module": "@jupyter-widgets/controls",
          "model_name": "ButtonStyleModel",
          "model_module_version": "1.5.0",
          "state": {
            "_model_module": "@jupyter-widgets/controls",
            "_model_module_version": "1.5.0",
            "_model_name": "ButtonStyleModel",
            "_view_count": null,
            "_view_module": "@jupyter-widgets/base",
            "_view_module_version": "1.2.0",
            "_view_name": "StyleView",
            "button_color": "bisque",
            "font_weight": ""
          }
        }
      }
    }
  },
  "nbformat": 4,
  "nbformat_minor": 5
}